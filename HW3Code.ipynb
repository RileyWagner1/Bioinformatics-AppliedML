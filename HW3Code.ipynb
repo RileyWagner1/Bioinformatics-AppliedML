{
 "cells": [
  {
   "cell_type": "markdown",
   "id": "5a9de255-1d83-492e-8369-ce4dde34e2d3",
   "metadata": {
    "tags": []
   },
   "source": [
    "## Starting the project:"
   ]
  },
  {
   "cell_type": "markdown",
   "id": "977cbb38-cda6-4fb2-8069-fae072262c74",
   "metadata": {
    "jp-MarkdownHeadingCollapsed": true,
    "tags": []
   },
   "source": [
    "### Importing Data/Getting it ready:"
   ]
  },
  {
   "cell_type": "code",
   "execution_count": 413,
   "id": "40f5dc71-f775-4a53-a515-9f813ca8967e",
   "metadata": {},
   "outputs": [],
   "source": [
    "import pandas as pd\n",
    "import numpy as np\n",
    "from matplotlib import pyplot as plt\n",
    "import seaborn as sns"
   ]
  },
  {
   "cell_type": "code",
   "execution_count": 414,
   "id": "77fe2430-cfd0-4240-a087-1010121c6509",
   "metadata": {},
   "outputs": [],
   "source": [
    "rs = 1234"
   ]
  },
  {
   "cell_type": "code",
   "execution_count": 415,
   "id": "a41fefc0-1655-493d-843d-6d0815cb6990",
   "metadata": {},
   "outputs": [],
   "source": [
    "df = pd.read_csv(\"deeploc_dipeptide_percent_standard.csv\")"
   ]
  },
  {
   "cell_type": "code",
   "execution_count": 416,
   "id": "933971e4-df9c-495f-af8f-14df586c7437",
   "metadata": {},
   "outputs": [
    {
     "data": {
      "text/html": [
       "<div>\n",
       "<style scoped>\n",
       "    .dataframe tbody tr th:only-of-type {\n",
       "        vertical-align: middle;\n",
       "    }\n",
       "\n",
       "    .dataframe tbody tr th {\n",
       "        vertical-align: top;\n",
       "    }\n",
       "\n",
       "    .dataframe thead th {\n",
       "        text-align: right;\n",
       "    }\n",
       "</style>\n",
       "<table border=\"1\" class=\"dataframe\">\n",
       "  <thead>\n",
       "    <tr style=\"text-align: right;\">\n",
       "      <th></th>\n",
       "      <th>seq_id</th>\n",
       "      <th>seq_description</th>\n",
       "      <th>AA</th>\n",
       "      <th>AC</th>\n",
       "      <th>AD</th>\n",
       "      <th>AE</th>\n",
       "      <th>AF</th>\n",
       "      <th>AG</th>\n",
       "      <th>AH</th>\n",
       "      <th>AI</th>\n",
       "      <th>...</th>\n",
       "      <th>YM</th>\n",
       "      <th>YN</th>\n",
       "      <th>YP</th>\n",
       "      <th>YQ</th>\n",
       "      <th>YR</th>\n",
       "      <th>YS</th>\n",
       "      <th>YT</th>\n",
       "      <th>YV</th>\n",
       "      <th>YW</th>\n",
       "      <th>YY</th>\n",
       "    </tr>\n",
       "  </thead>\n",
       "  <tbody>\n",
       "    <tr>\n",
       "      <th>0</th>\n",
       "      <td>Q9H400</td>\n",
       "      <td>Q9H400_Cell.membrane-M_test</td>\n",
       "      <td>2.7211</td>\n",
       "      <td>0.3401</td>\n",
       "      <td>0.0000</td>\n",
       "      <td>0.6803</td>\n",
       "      <td>0.3401</td>\n",
       "      <td>1.7007</td>\n",
       "      <td>0.0000</td>\n",
       "      <td>0.3401</td>\n",
       "      <td>...</td>\n",
       "      <td>0.000</td>\n",
       "      <td>0.0000</td>\n",
       "      <td>0.0</td>\n",
       "      <td>0.3401</td>\n",
       "      <td>0.0000</td>\n",
       "      <td>0.6803</td>\n",
       "      <td>0.0000</td>\n",
       "      <td>0.0000</td>\n",
       "      <td>0.0000</td>\n",
       "      <td>0.000</td>\n",
       "    </tr>\n",
       "    <tr>\n",
       "      <th>1</th>\n",
       "      <td>Q5I0E9</td>\n",
       "      <td>Q5I0E9_Cell.membrane-M</td>\n",
       "      <td>0.7080</td>\n",
       "      <td>0.5310</td>\n",
       "      <td>0.1770</td>\n",
       "      <td>0.1770</td>\n",
       "      <td>0.3540</td>\n",
       "      <td>0.5310</td>\n",
       "      <td>0.1770</td>\n",
       "      <td>1.2389</td>\n",
       "      <td>...</td>\n",
       "      <td>0.177</td>\n",
       "      <td>0.0000</td>\n",
       "      <td>0.0</td>\n",
       "      <td>0.0000</td>\n",
       "      <td>0.0000</td>\n",
       "      <td>0.0000</td>\n",
       "      <td>0.1770</td>\n",
       "      <td>0.3540</td>\n",
       "      <td>0.0000</td>\n",
       "      <td>0.177</td>\n",
       "    </tr>\n",
       "    <tr>\n",
       "      <th>2</th>\n",
       "      <td>P63033</td>\n",
       "      <td>P63033_Cell.membrane-M</td>\n",
       "      <td>0.3774</td>\n",
       "      <td>0.0000</td>\n",
       "      <td>0.0000</td>\n",
       "      <td>0.7547</td>\n",
       "      <td>0.3774</td>\n",
       "      <td>0.3774</td>\n",
       "      <td>0.0000</td>\n",
       "      <td>0.0000</td>\n",
       "      <td>...</td>\n",
       "      <td>0.000</td>\n",
       "      <td>0.3774</td>\n",
       "      <td>0.0</td>\n",
       "      <td>0.3774</td>\n",
       "      <td>0.3774</td>\n",
       "      <td>0.0000</td>\n",
       "      <td>0.3774</td>\n",
       "      <td>0.3774</td>\n",
       "      <td>0.0000</td>\n",
       "      <td>0.000</td>\n",
       "    </tr>\n",
       "    <tr>\n",
       "      <th>3</th>\n",
       "      <td>Q9NR71</td>\n",
       "      <td>Q9NR71_Cell.membrane-M</td>\n",
       "      <td>0.5135</td>\n",
       "      <td>0.0000</td>\n",
       "      <td>0.2567</td>\n",
       "      <td>0.3851</td>\n",
       "      <td>0.3851</td>\n",
       "      <td>0.2567</td>\n",
       "      <td>0.2567</td>\n",
       "      <td>0.6418</td>\n",
       "      <td>...</td>\n",
       "      <td>0.000</td>\n",
       "      <td>0.0000</td>\n",
       "      <td>0.0</td>\n",
       "      <td>0.2567</td>\n",
       "      <td>0.3851</td>\n",
       "      <td>0.5135</td>\n",
       "      <td>0.2567</td>\n",
       "      <td>0.0000</td>\n",
       "      <td>0.1284</td>\n",
       "      <td>0.000</td>\n",
       "    </tr>\n",
       "    <tr>\n",
       "      <th>4</th>\n",
       "      <td>Q86XT9</td>\n",
       "      <td>Q86XT9_Cell.membrane-M</td>\n",
       "      <td>0.0000</td>\n",
       "      <td>0.0000</td>\n",
       "      <td>0.0000</td>\n",
       "      <td>0.0000</td>\n",
       "      <td>0.0000</td>\n",
       "      <td>1.6736</td>\n",
       "      <td>0.4184</td>\n",
       "      <td>0.0000</td>\n",
       "      <td>...</td>\n",
       "      <td>0.000</td>\n",
       "      <td>0.0000</td>\n",
       "      <td>0.0</td>\n",
       "      <td>0.0000</td>\n",
       "      <td>0.0000</td>\n",
       "      <td>0.0000</td>\n",
       "      <td>0.0000</td>\n",
       "      <td>0.0000</td>\n",
       "      <td>0.0000</td>\n",
       "      <td>0.000</td>\n",
       "    </tr>\n",
       "  </tbody>\n",
       "</table>\n",
       "<p>5 rows × 402 columns</p>\n",
       "</div>"
      ],
      "text/plain": [
       "   seq_id              seq_description      AA      AC      AD      AE  \\\n",
       "0  Q9H400  Q9H400_Cell.membrane-M_test  2.7211  0.3401  0.0000  0.6803   \n",
       "1  Q5I0E9       Q5I0E9_Cell.membrane-M  0.7080  0.5310  0.1770  0.1770   \n",
       "2  P63033       P63033_Cell.membrane-M  0.3774  0.0000  0.0000  0.7547   \n",
       "3  Q9NR71       Q9NR71_Cell.membrane-M  0.5135  0.0000  0.2567  0.3851   \n",
       "4  Q86XT9       Q86XT9_Cell.membrane-M  0.0000  0.0000  0.0000  0.0000   \n",
       "\n",
       "       AF      AG      AH      AI  ...     YM      YN   YP      YQ      YR  \\\n",
       "0  0.3401  1.7007  0.0000  0.3401  ...  0.000  0.0000  0.0  0.3401  0.0000   \n",
       "1  0.3540  0.5310  0.1770  1.2389  ...  0.177  0.0000  0.0  0.0000  0.0000   \n",
       "2  0.3774  0.3774  0.0000  0.0000  ...  0.000  0.3774  0.0  0.3774  0.3774   \n",
       "3  0.3851  0.2567  0.2567  0.6418  ...  0.000  0.0000  0.0  0.2567  0.3851   \n",
       "4  0.0000  1.6736  0.4184  0.0000  ...  0.000  0.0000  0.0  0.0000  0.0000   \n",
       "\n",
       "       YS      YT      YV      YW     YY  \n",
       "0  0.6803  0.0000  0.0000  0.0000  0.000  \n",
       "1  0.0000  0.1770  0.3540  0.0000  0.177  \n",
       "2  0.0000  0.3774  0.3774  0.0000  0.000  \n",
       "3  0.5135  0.2567  0.0000  0.1284  0.000  \n",
       "4  0.0000  0.0000  0.0000  0.0000  0.000  \n",
       "\n",
       "[5 rows x 402 columns]"
      ]
     },
     "execution_count": 416,
     "metadata": {},
     "output_type": "execute_result"
    }
   ],
   "source": [
    "df.head()"
   ]
  },
  {
   "cell_type": "code",
   "execution_count": 417,
   "id": "5d80af53-1d38-4908-ac8e-fc82b500afc8",
   "metadata": {},
   "outputs": [
    {
     "data": {
      "text/html": [
       "<div>\n",
       "<style scoped>\n",
       "    .dataframe tbody tr th:only-of-type {\n",
       "        vertical-align: middle;\n",
       "    }\n",
       "\n",
       "    .dataframe tbody tr th {\n",
       "        vertical-align: top;\n",
       "    }\n",
       "\n",
       "    .dataframe thead th {\n",
       "        text-align: right;\n",
       "    }\n",
       "</style>\n",
       "<table border=\"1\" class=\"dataframe\">\n",
       "  <thead>\n",
       "    <tr style=\"text-align: right;\">\n",
       "      <th></th>\n",
       "      <th>count</th>\n",
       "      <th>mean</th>\n",
       "      <th>std</th>\n",
       "      <th>min</th>\n",
       "      <th>25%</th>\n",
       "      <th>50%</th>\n",
       "      <th>75%</th>\n",
       "      <th>max</th>\n",
       "    </tr>\n",
       "  </thead>\n",
       "  <tbody>\n",
       "    <tr>\n",
       "      <th>AA</th>\n",
       "      <td>14004.0</td>\n",
       "      <td>0.729672</td>\n",
       "      <td>1.022610</td>\n",
       "      <td>0.0</td>\n",
       "      <td>0.1976</td>\n",
       "      <td>0.5181</td>\n",
       "      <td>0.977200</td>\n",
       "      <td>36.8664</td>\n",
       "    </tr>\n",
       "    <tr>\n",
       "      <th>AC</th>\n",
       "      <td>14004.0</td>\n",
       "      <td>0.128528</td>\n",
       "      <td>0.259640</td>\n",
       "      <td>0.0</td>\n",
       "      <td>0.0000</td>\n",
       "      <td>0.0000</td>\n",
       "      <td>0.190800</td>\n",
       "      <td>5.1282</td>\n",
       "    </tr>\n",
       "    <tr>\n",
       "      <th>AD</th>\n",
       "      <td>14004.0</td>\n",
       "      <td>0.298720</td>\n",
       "      <td>0.345785</td>\n",
       "      <td>0.0</td>\n",
       "      <td>0.0000</td>\n",
       "      <td>0.2350</td>\n",
       "      <td>0.448400</td>\n",
       "      <td>5.1948</td>\n",
       "    </tr>\n",
       "    <tr>\n",
       "      <th>AE</th>\n",
       "      <td>14004.0</td>\n",
       "      <td>0.425123</td>\n",
       "      <td>0.450793</td>\n",
       "      <td>0.0</td>\n",
       "      <td>0.0000</td>\n",
       "      <td>0.3413</td>\n",
       "      <td>0.613725</td>\n",
       "      <td>9.0909</td>\n",
       "    </tr>\n",
       "    <tr>\n",
       "      <th>AF</th>\n",
       "      <td>14004.0</td>\n",
       "      <td>0.274547</td>\n",
       "      <td>0.329614</td>\n",
       "      <td>0.0</td>\n",
       "      <td>0.0000</td>\n",
       "      <td>0.2033</td>\n",
       "      <td>0.417500</td>\n",
       "      <td>3.8462</td>\n",
       "    </tr>\n",
       "    <tr>\n",
       "      <th>...</th>\n",
       "      <td>...</td>\n",
       "      <td>...</td>\n",
       "      <td>...</td>\n",
       "      <td>...</td>\n",
       "      <td>...</td>\n",
       "      <td>...</td>\n",
       "      <td>...</td>\n",
       "      <td>...</td>\n",
       "    </tr>\n",
       "    <tr>\n",
       "      <th>YS</th>\n",
       "      <td>14004.0</td>\n",
       "      <td>0.233801</td>\n",
       "      <td>0.308427</td>\n",
       "      <td>0.0</td>\n",
       "      <td>0.0000</td>\n",
       "      <td>0.1634</td>\n",
       "      <td>0.360175</td>\n",
       "      <td>7.1839</td>\n",
       "    </tr>\n",
       "    <tr>\n",
       "      <th>YT</th>\n",
       "      <td>14004.0</td>\n",
       "      <td>0.161573</td>\n",
       "      <td>0.261562</td>\n",
       "      <td>0.0</td>\n",
       "      <td>0.0000</td>\n",
       "      <td>0.0000</td>\n",
       "      <td>0.248100</td>\n",
       "      <td>4.2553</td>\n",
       "    </tr>\n",
       "    <tr>\n",
       "      <th>YV</th>\n",
       "      <td>14004.0</td>\n",
       "      <td>0.172378</td>\n",
       "      <td>0.250812</td>\n",
       "      <td>0.0</td>\n",
       "      <td>0.0000</td>\n",
       "      <td>0.0000</td>\n",
       "      <td>0.273200</td>\n",
       "      <td>3.4884</td>\n",
       "    </tr>\n",
       "    <tr>\n",
       "      <th>YW</th>\n",
       "      <td>14004.0</td>\n",
       "      <td>0.041389</td>\n",
       "      <td>0.126582</td>\n",
       "      <td>0.0</td>\n",
       "      <td>0.0000</td>\n",
       "      <td>0.0000</td>\n",
       "      <td>0.000000</td>\n",
       "      <td>2.9851</td>\n",
       "    </tr>\n",
       "    <tr>\n",
       "      <th>YY</th>\n",
       "      <td>14004.0</td>\n",
       "      <td>0.114781</td>\n",
       "      <td>0.237426</td>\n",
       "      <td>0.0</td>\n",
       "      <td>0.0000</td>\n",
       "      <td>0.0000</td>\n",
       "      <td>0.171800</td>\n",
       "      <td>6.7416</td>\n",
       "    </tr>\n",
       "  </tbody>\n",
       "</table>\n",
       "<p>400 rows × 8 columns</p>\n",
       "</div>"
      ],
      "text/plain": [
       "      count      mean       std  min     25%     50%       75%      max\n",
       "AA  14004.0  0.729672  1.022610  0.0  0.1976  0.5181  0.977200  36.8664\n",
       "AC  14004.0  0.128528  0.259640  0.0  0.0000  0.0000  0.190800   5.1282\n",
       "AD  14004.0  0.298720  0.345785  0.0  0.0000  0.2350  0.448400   5.1948\n",
       "AE  14004.0  0.425123  0.450793  0.0  0.0000  0.3413  0.613725   9.0909\n",
       "AF  14004.0  0.274547  0.329614  0.0  0.0000  0.2033  0.417500   3.8462\n",
       "..      ...       ...       ...  ...     ...     ...       ...      ...\n",
       "YS  14004.0  0.233801  0.308427  0.0  0.0000  0.1634  0.360175   7.1839\n",
       "YT  14004.0  0.161573  0.261562  0.0  0.0000  0.0000  0.248100   4.2553\n",
       "YV  14004.0  0.172378  0.250812  0.0  0.0000  0.0000  0.273200   3.4884\n",
       "YW  14004.0  0.041389  0.126582  0.0  0.0000  0.0000  0.000000   2.9851\n",
       "YY  14004.0  0.114781  0.237426  0.0  0.0000  0.0000  0.171800   6.7416\n",
       "\n",
       "[400 rows x 8 columns]"
      ]
     },
     "execution_count": 417,
     "metadata": {},
     "output_type": "execute_result"
    }
   ],
   "source": [
    "df.describe().transpose()"
   ]
  },
  {
   "cell_type": "code",
   "execution_count": 418,
   "id": "cae2225e-e620-4175-9a62-e7d8498604a1",
   "metadata": {},
   "outputs": [
    {
     "data": {
      "text/html": [
       "<div>\n",
       "<style scoped>\n",
       "    .dataframe tbody tr th:only-of-type {\n",
       "        vertical-align: middle;\n",
       "    }\n",
       "\n",
       "    .dataframe tbody tr th {\n",
       "        vertical-align: top;\n",
       "    }\n",
       "\n",
       "    .dataframe thead th {\n",
       "        text-align: right;\n",
       "    }\n",
       "</style>\n",
       "<table border=\"1\" class=\"dataframe\">\n",
       "  <thead>\n",
       "    <tr style=\"text-align: right;\">\n",
       "      <th></th>\n",
       "      <th>seq_id</th>\n",
       "      <th>seq_description</th>\n",
       "      <th>AA</th>\n",
       "      <th>AC</th>\n",
       "      <th>AD</th>\n",
       "      <th>AE</th>\n",
       "      <th>AF</th>\n",
       "      <th>AG</th>\n",
       "      <th>AH</th>\n",
       "      <th>AI</th>\n",
       "      <th>...</th>\n",
       "      <th>YM</th>\n",
       "      <th>YN</th>\n",
       "      <th>YP</th>\n",
       "      <th>YQ</th>\n",
       "      <th>YR</th>\n",
       "      <th>YS</th>\n",
       "      <th>YT</th>\n",
       "      <th>YV</th>\n",
       "      <th>YW</th>\n",
       "      <th>YY</th>\n",
       "    </tr>\n",
       "  </thead>\n",
       "  <tbody>\n",
       "    <tr>\n",
       "      <th>0</th>\n",
       "      <td>Q9H400</td>\n",
       "      <td>Q9H400_Cell.membrane-M_test</td>\n",
       "      <td>2.7211</td>\n",
       "      <td>0.3401</td>\n",
       "      <td>0.0</td>\n",
       "      <td>0.6803</td>\n",
       "      <td>0.3401</td>\n",
       "      <td>1.7007</td>\n",
       "      <td>0.0</td>\n",
       "      <td>0.3401</td>\n",
       "      <td>...</td>\n",
       "      <td>0.0</td>\n",
       "      <td>0.0</td>\n",
       "      <td>0.0</td>\n",
       "      <td>0.3401</td>\n",
       "      <td>0.0</td>\n",
       "      <td>0.6803</td>\n",
       "      <td>0.0</td>\n",
       "      <td>0.0</td>\n",
       "      <td>0.0</td>\n",
       "      <td>0.0</td>\n",
       "    </tr>\n",
       "  </tbody>\n",
       "</table>\n",
       "<p>1 rows × 402 columns</p>\n",
       "</div>"
      ],
      "text/plain": [
       "   seq_id              seq_description      AA      AC   AD      AE      AF  \\\n",
       "0  Q9H400  Q9H400_Cell.membrane-M_test  2.7211  0.3401  0.0  0.6803  0.3401   \n",
       "\n",
       "       AG   AH      AI  ...   YM   YN   YP      YQ   YR      YS   YT   YV  \\\n",
       "0  1.7007  0.0  0.3401  ...  0.0  0.0  0.0  0.3401  0.0  0.6803  0.0  0.0   \n",
       "\n",
       "    YW   YY  \n",
       "0  0.0  0.0  \n",
       "\n",
       "[1 rows x 402 columns]"
      ]
     },
     "execution_count": 418,
     "metadata": {},
     "output_type": "execute_result"
    }
   ],
   "source": [
    "df.head(1)"
   ]
  },
  {
   "cell_type": "code",
   "execution_count": 419,
   "id": "065ecfad-173e-4ed9-9e27-7562a0bba0a1",
   "metadata": {},
   "outputs": [
    {
     "data": {
      "text/html": [
       "<div>\n",
       "<style scoped>\n",
       "    .dataframe tbody tr th:only-of-type {\n",
       "        vertical-align: middle;\n",
       "    }\n",
       "\n",
       "    .dataframe tbody tr th {\n",
       "        vertical-align: top;\n",
       "    }\n",
       "\n",
       "    .dataframe thead th {\n",
       "        text-align: right;\n",
       "    }\n",
       "</style>\n",
       "<table border=\"1\" class=\"dataframe\">\n",
       "  <thead>\n",
       "    <tr style=\"text-align: right;\">\n",
       "      <th></th>\n",
       "      <th>seq_id</th>\n",
       "      <th>seq_description</th>\n",
       "      <th>AA</th>\n",
       "      <th>AC</th>\n",
       "      <th>AD</th>\n",
       "      <th>AE</th>\n",
       "      <th>AF</th>\n",
       "      <th>AG</th>\n",
       "      <th>AH</th>\n",
       "      <th>AI</th>\n",
       "      <th>...</th>\n",
       "      <th>YM</th>\n",
       "      <th>YN</th>\n",
       "      <th>YP</th>\n",
       "      <th>YQ</th>\n",
       "      <th>YR</th>\n",
       "      <th>YS</th>\n",
       "      <th>YT</th>\n",
       "      <th>YV</th>\n",
       "      <th>YW</th>\n",
       "      <th>YY</th>\n",
       "    </tr>\n",
       "  </thead>\n",
       "  <tbody>\n",
       "    <tr>\n",
       "      <th>0</th>\n",
       "      <td>Q9H400</td>\n",
       "      <td>Q9H400_Cell.membrane-M_test</td>\n",
       "      <td>2.7211</td>\n",
       "      <td>0.3401</td>\n",
       "      <td>0.0000</td>\n",
       "      <td>0.6803</td>\n",
       "      <td>0.3401</td>\n",
       "      <td>1.7007</td>\n",
       "      <td>0.0000</td>\n",
       "      <td>0.3401</td>\n",
       "      <td>...</td>\n",
       "      <td>0.000</td>\n",
       "      <td>0.0000</td>\n",
       "      <td>0.0</td>\n",
       "      <td>0.3401</td>\n",
       "      <td>0.0000</td>\n",
       "      <td>0.6803</td>\n",
       "      <td>0.0000</td>\n",
       "      <td>0.0000</td>\n",
       "      <td>0.0000</td>\n",
       "      <td>0.000</td>\n",
       "    </tr>\n",
       "    <tr>\n",
       "      <th>1</th>\n",
       "      <td>Q5I0E9</td>\n",
       "      <td>Q5I0E9_Cell.membrane-M</td>\n",
       "      <td>0.7080</td>\n",
       "      <td>0.5310</td>\n",
       "      <td>0.1770</td>\n",
       "      <td>0.1770</td>\n",
       "      <td>0.3540</td>\n",
       "      <td>0.5310</td>\n",
       "      <td>0.1770</td>\n",
       "      <td>1.2389</td>\n",
       "      <td>...</td>\n",
       "      <td>0.177</td>\n",
       "      <td>0.0000</td>\n",
       "      <td>0.0</td>\n",
       "      <td>0.0000</td>\n",
       "      <td>0.0000</td>\n",
       "      <td>0.0000</td>\n",
       "      <td>0.1770</td>\n",
       "      <td>0.3540</td>\n",
       "      <td>0.0000</td>\n",
       "      <td>0.177</td>\n",
       "    </tr>\n",
       "    <tr>\n",
       "      <th>2</th>\n",
       "      <td>P63033</td>\n",
       "      <td>P63033_Cell.membrane-M</td>\n",
       "      <td>0.3774</td>\n",
       "      <td>0.0000</td>\n",
       "      <td>0.0000</td>\n",
       "      <td>0.7547</td>\n",
       "      <td>0.3774</td>\n",
       "      <td>0.3774</td>\n",
       "      <td>0.0000</td>\n",
       "      <td>0.0000</td>\n",
       "      <td>...</td>\n",
       "      <td>0.000</td>\n",
       "      <td>0.3774</td>\n",
       "      <td>0.0</td>\n",
       "      <td>0.3774</td>\n",
       "      <td>0.3774</td>\n",
       "      <td>0.0000</td>\n",
       "      <td>0.3774</td>\n",
       "      <td>0.3774</td>\n",
       "      <td>0.0000</td>\n",
       "      <td>0.000</td>\n",
       "    </tr>\n",
       "    <tr>\n",
       "      <th>3</th>\n",
       "      <td>Q9NR71</td>\n",
       "      <td>Q9NR71_Cell.membrane-M</td>\n",
       "      <td>0.5135</td>\n",
       "      <td>0.0000</td>\n",
       "      <td>0.2567</td>\n",
       "      <td>0.3851</td>\n",
       "      <td>0.3851</td>\n",
       "      <td>0.2567</td>\n",
       "      <td>0.2567</td>\n",
       "      <td>0.6418</td>\n",
       "      <td>...</td>\n",
       "      <td>0.000</td>\n",
       "      <td>0.0000</td>\n",
       "      <td>0.0</td>\n",
       "      <td>0.2567</td>\n",
       "      <td>0.3851</td>\n",
       "      <td>0.5135</td>\n",
       "      <td>0.2567</td>\n",
       "      <td>0.0000</td>\n",
       "      <td>0.1284</td>\n",
       "      <td>0.000</td>\n",
       "    </tr>\n",
       "    <tr>\n",
       "      <th>4</th>\n",
       "      <td>Q86XT9</td>\n",
       "      <td>Q86XT9_Cell.membrane-M</td>\n",
       "      <td>0.0000</td>\n",
       "      <td>0.0000</td>\n",
       "      <td>0.0000</td>\n",
       "      <td>0.0000</td>\n",
       "      <td>0.0000</td>\n",
       "      <td>1.6736</td>\n",
       "      <td>0.4184</td>\n",
       "      <td>0.0000</td>\n",
       "      <td>...</td>\n",
       "      <td>0.000</td>\n",
       "      <td>0.0000</td>\n",
       "      <td>0.0</td>\n",
       "      <td>0.0000</td>\n",
       "      <td>0.0000</td>\n",
       "      <td>0.0000</td>\n",
       "      <td>0.0000</td>\n",
       "      <td>0.0000</td>\n",
       "      <td>0.0000</td>\n",
       "      <td>0.000</td>\n",
       "    </tr>\n",
       "  </tbody>\n",
       "</table>\n",
       "<p>5 rows × 402 columns</p>\n",
       "</div>"
      ],
      "text/plain": [
       "   seq_id              seq_description      AA      AC      AD      AE  \\\n",
       "0  Q9H400  Q9H400_Cell.membrane-M_test  2.7211  0.3401  0.0000  0.6803   \n",
       "1  Q5I0E9       Q5I0E9_Cell.membrane-M  0.7080  0.5310  0.1770  0.1770   \n",
       "2  P63033       P63033_Cell.membrane-M  0.3774  0.0000  0.0000  0.7547   \n",
       "3  Q9NR71       Q9NR71_Cell.membrane-M  0.5135  0.0000  0.2567  0.3851   \n",
       "4  Q86XT9       Q86XT9_Cell.membrane-M  0.0000  0.0000  0.0000  0.0000   \n",
       "\n",
       "       AF      AG      AH      AI  ...     YM      YN   YP      YQ      YR  \\\n",
       "0  0.3401  1.7007  0.0000  0.3401  ...  0.000  0.0000  0.0  0.3401  0.0000   \n",
       "1  0.3540  0.5310  0.1770  1.2389  ...  0.177  0.0000  0.0  0.0000  0.0000   \n",
       "2  0.3774  0.3774  0.0000  0.0000  ...  0.000  0.3774  0.0  0.3774  0.3774   \n",
       "3  0.3851  0.2567  0.2567  0.6418  ...  0.000  0.0000  0.0  0.2567  0.3851   \n",
       "4  0.0000  1.6736  0.4184  0.0000  ...  0.000  0.0000  0.0  0.0000  0.0000   \n",
       "\n",
       "       YS      YT      YV      YW     YY  \n",
       "0  0.6803  0.0000  0.0000  0.0000  0.000  \n",
       "1  0.0000  0.1770  0.3540  0.0000  0.177  \n",
       "2  0.0000  0.3774  0.3774  0.0000  0.000  \n",
       "3  0.5135  0.2567  0.0000  0.1284  0.000  \n",
       "4  0.0000  0.0000  0.0000  0.0000  0.000  \n",
       "\n",
       "[5 rows x 402 columns]"
      ]
     },
     "execution_count": 419,
     "metadata": {},
     "output_type": "execute_result"
    }
   ],
   "source": [
    "df.head()"
   ]
  },
  {
   "cell_type": "code",
   "execution_count": 420,
   "id": "689bfafe-59a5-444a-8956-4884e4dc82b9",
   "metadata": {},
   "outputs": [],
   "source": [
    "#we can see that the data has not been normalized in the sense of the dipeptide pairs. We can reason this since the mean does not equal 0, and the std dev is not 1"
   ]
  },
  {
   "cell_type": "code",
   "execution_count": 421,
   "id": "fd87ea9f-35cd-4cd1-bc21-a2f935ef341c",
   "metadata": {},
   "outputs": [],
   "source": [
    "seq_id = df[\"seq_id\"]"
   ]
  },
  {
   "cell_type": "code",
   "execution_count": 422,
   "id": "64dfca67-fe2a-416a-83fb-46d5e3c2962e",
   "metadata": {},
   "outputs": [],
   "source": [
    "seq_description = df[\"seq_description\"]"
   ]
  },
  {
   "cell_type": "code",
   "execution_count": 423,
   "id": "d646105f-98c7-4c40-bc37-187b24136fcd",
   "metadata": {},
   "outputs": [],
   "source": [
    "columns_to_drop = [\"seq_id\", \"seq_description\"]\n",
    "df.drop(columns = columns_to_drop, axis=1, inplace=True)"
   ]
  },
  {
   "cell_type": "code",
   "execution_count": 424,
   "id": "62529644-a720-4738-ab6b-24ff1a473ded",
   "metadata": {},
   "outputs": [],
   "source": [
    "from sklearn.preprocessing import normalize\n",
    "df_norm = pd.DataFrame(normalize(df), columns=df.columns)"
   ]
  },
  {
   "cell_type": "code",
   "execution_count": 425,
   "id": "07102005-0444-4c53-a84f-233170970ef1",
   "metadata": {},
   "outputs": [
    {
     "data": {
      "text/html": [
       "<div>\n",
       "<style scoped>\n",
       "    .dataframe tbody tr th:only-of-type {\n",
       "        vertical-align: middle;\n",
       "    }\n",
       "\n",
       "    .dataframe tbody tr th {\n",
       "        vertical-align: top;\n",
       "    }\n",
       "\n",
       "    .dataframe thead th {\n",
       "        text-align: right;\n",
       "    }\n",
       "</style>\n",
       "<table border=\"1\" class=\"dataframe\">\n",
       "  <thead>\n",
       "    <tr style=\"text-align: right;\">\n",
       "      <th></th>\n",
       "      <th>AA</th>\n",
       "      <th>AC</th>\n",
       "      <th>AD</th>\n",
       "      <th>AE</th>\n",
       "      <th>AF</th>\n",
       "      <th>AG</th>\n",
       "      <th>AH</th>\n",
       "      <th>AI</th>\n",
       "      <th>AK</th>\n",
       "      <th>AL</th>\n",
       "      <th>...</th>\n",
       "      <th>YM</th>\n",
       "      <th>YN</th>\n",
       "      <th>YP</th>\n",
       "      <th>YQ</th>\n",
       "      <th>YR</th>\n",
       "      <th>YS</th>\n",
       "      <th>YT</th>\n",
       "      <th>YV</th>\n",
       "      <th>YW</th>\n",
       "      <th>YY</th>\n",
       "    </tr>\n",
       "  </thead>\n",
       "  <tbody>\n",
       "    <tr>\n",
       "      <th>0</th>\n",
       "      <td>0.272800</td>\n",
       "      <td>0.034096</td>\n",
       "      <td>0.000000</td>\n",
       "      <td>0.068203</td>\n",
       "      <td>0.034096</td>\n",
       "      <td>0.170501</td>\n",
       "      <td>0.000000</td>\n",
       "      <td>0.034096</td>\n",
       "      <td>0.000000</td>\n",
       "      <td>0.272800</td>\n",
       "      <td>...</td>\n",
       "      <td>0.000000</td>\n",
       "      <td>0.000000</td>\n",
       "      <td>0.0</td>\n",
       "      <td>0.034096</td>\n",
       "      <td>0.000000</td>\n",
       "      <td>0.068203</td>\n",
       "      <td>0.000000</td>\n",
       "      <td>0.000000</td>\n",
       "      <td>0.000000</td>\n",
       "      <td>0.000000</td>\n",
       "    </tr>\n",
       "    <tr>\n",
       "      <th>1</th>\n",
       "      <td>0.085497</td>\n",
       "      <td>0.064123</td>\n",
       "      <td>0.021374</td>\n",
       "      <td>0.021374</td>\n",
       "      <td>0.042748</td>\n",
       "      <td>0.064123</td>\n",
       "      <td>0.021374</td>\n",
       "      <td>0.149607</td>\n",
       "      <td>0.042748</td>\n",
       "      <td>0.256478</td>\n",
       "      <td>...</td>\n",
       "      <td>0.021374</td>\n",
       "      <td>0.000000</td>\n",
       "      <td>0.0</td>\n",
       "      <td>0.000000</td>\n",
       "      <td>0.000000</td>\n",
       "      <td>0.000000</td>\n",
       "      <td>0.021374</td>\n",
       "      <td>0.042748</td>\n",
       "      <td>0.000000</td>\n",
       "      <td>0.021374</td>\n",
       "    </tr>\n",
       "    <tr>\n",
       "      <th>2</th>\n",
       "      <td>0.045042</td>\n",
       "      <td>0.000000</td>\n",
       "      <td>0.000000</td>\n",
       "      <td>0.090072</td>\n",
       "      <td>0.045042</td>\n",
       "      <td>0.045042</td>\n",
       "      <td>0.000000</td>\n",
       "      <td>0.000000</td>\n",
       "      <td>0.180143</td>\n",
       "      <td>0.045042</td>\n",
       "      <td>...</td>\n",
       "      <td>0.000000</td>\n",
       "      <td>0.045042</td>\n",
       "      <td>0.0</td>\n",
       "      <td>0.045042</td>\n",
       "      <td>0.045042</td>\n",
       "      <td>0.000000</td>\n",
       "      <td>0.045042</td>\n",
       "      <td>0.045042</td>\n",
       "      <td>0.000000</td>\n",
       "      <td>0.000000</td>\n",
       "    </tr>\n",
       "    <tr>\n",
       "      <th>3</th>\n",
       "      <td>0.074040</td>\n",
       "      <td>0.000000</td>\n",
       "      <td>0.037013</td>\n",
       "      <td>0.055527</td>\n",
       "      <td>0.055527</td>\n",
       "      <td>0.037013</td>\n",
       "      <td>0.037013</td>\n",
       "      <td>0.092539</td>\n",
       "      <td>0.092539</td>\n",
       "      <td>0.037013</td>\n",
       "      <td>...</td>\n",
       "      <td>0.000000</td>\n",
       "      <td>0.000000</td>\n",
       "      <td>0.0</td>\n",
       "      <td>0.037013</td>\n",
       "      <td>0.055527</td>\n",
       "      <td>0.074040</td>\n",
       "      <td>0.037013</td>\n",
       "      <td>0.000000</td>\n",
       "      <td>0.018514</td>\n",
       "      <td>0.000000</td>\n",
       "    </tr>\n",
       "    <tr>\n",
       "      <th>4</th>\n",
       "      <td>0.000000</td>\n",
       "      <td>0.000000</td>\n",
       "      <td>0.000000</td>\n",
       "      <td>0.000000</td>\n",
       "      <td>0.000000</td>\n",
       "      <td>0.156530</td>\n",
       "      <td>0.039133</td>\n",
       "      <td>0.000000</td>\n",
       "      <td>0.000000</td>\n",
       "      <td>0.039133</td>\n",
       "      <td>...</td>\n",
       "      <td>0.000000</td>\n",
       "      <td>0.000000</td>\n",
       "      <td>0.0</td>\n",
       "      <td>0.000000</td>\n",
       "      <td>0.000000</td>\n",
       "      <td>0.000000</td>\n",
       "      <td>0.000000</td>\n",
       "      <td>0.000000</td>\n",
       "      <td>0.000000</td>\n",
       "      <td>0.000000</td>\n",
       "    </tr>\n",
       "  </tbody>\n",
       "</table>\n",
       "<p>5 rows × 400 columns</p>\n",
       "</div>"
      ],
      "text/plain": [
       "         AA        AC        AD        AE        AF        AG        AH  \\\n",
       "0  0.272800  0.034096  0.000000  0.068203  0.034096  0.170501  0.000000   \n",
       "1  0.085497  0.064123  0.021374  0.021374  0.042748  0.064123  0.021374   \n",
       "2  0.045042  0.000000  0.000000  0.090072  0.045042  0.045042  0.000000   \n",
       "3  0.074040  0.000000  0.037013  0.055527  0.055527  0.037013  0.037013   \n",
       "4  0.000000  0.000000  0.000000  0.000000  0.000000  0.156530  0.039133   \n",
       "\n",
       "         AI        AK        AL  ...        YM        YN   YP        YQ  \\\n",
       "0  0.034096  0.000000  0.272800  ...  0.000000  0.000000  0.0  0.034096   \n",
       "1  0.149607  0.042748  0.256478  ...  0.021374  0.000000  0.0  0.000000   \n",
       "2  0.000000  0.180143  0.045042  ...  0.000000  0.045042  0.0  0.045042   \n",
       "3  0.092539  0.092539  0.037013  ...  0.000000  0.000000  0.0  0.037013   \n",
       "4  0.000000  0.000000  0.039133  ...  0.000000  0.000000  0.0  0.000000   \n",
       "\n",
       "         YR        YS        YT        YV        YW        YY  \n",
       "0  0.000000  0.068203  0.000000  0.000000  0.000000  0.000000  \n",
       "1  0.000000  0.000000  0.021374  0.042748  0.000000  0.021374  \n",
       "2  0.045042  0.000000  0.045042  0.045042  0.000000  0.000000  \n",
       "3  0.055527  0.074040  0.037013  0.000000  0.018514  0.000000  \n",
       "4  0.000000  0.000000  0.000000  0.000000  0.000000  0.000000  \n",
       "\n",
       "[5 rows x 400 columns]"
      ]
     },
     "execution_count": 425,
     "metadata": {},
     "output_type": "execute_result"
    }
   ],
   "source": [
    "df_norm.head()"
   ]
  },
  {
   "cell_type": "code",
   "execution_count": 426,
   "id": "76636ae1-4e9e-4eef-9d4a-e45a1fde3d69",
   "metadata": {},
   "outputs": [],
   "source": [
    "df_norm[\"seq_id\"] = seq_id"
   ]
  },
  {
   "cell_type": "code",
   "execution_count": 427,
   "id": "33b0815f-9846-4453-9515-e44919cc97c2",
   "metadata": {},
   "outputs": [],
   "source": [
    "df_norm[\"seq_description\"] = seq_description"
   ]
  },
  {
   "cell_type": "code",
   "execution_count": 428,
   "id": "1a72c44f-2dd6-4b8d-b3ba-b38547fc5551",
   "metadata": {},
   "outputs": [
    {
     "data": {
      "text/html": [
       "<div>\n",
       "<style scoped>\n",
       "    .dataframe tbody tr th:only-of-type {\n",
       "        vertical-align: middle;\n",
       "    }\n",
       "\n",
       "    .dataframe tbody tr th {\n",
       "        vertical-align: top;\n",
       "    }\n",
       "\n",
       "    .dataframe thead th {\n",
       "        text-align: right;\n",
       "    }\n",
       "</style>\n",
       "<table border=\"1\" class=\"dataframe\">\n",
       "  <thead>\n",
       "    <tr style=\"text-align: right;\">\n",
       "      <th></th>\n",
       "      <th>AA</th>\n",
       "      <th>AC</th>\n",
       "      <th>AD</th>\n",
       "      <th>AE</th>\n",
       "      <th>AF</th>\n",
       "      <th>AG</th>\n",
       "      <th>AH</th>\n",
       "      <th>AI</th>\n",
       "      <th>AK</th>\n",
       "      <th>AL</th>\n",
       "      <th>...</th>\n",
       "      <th>YP</th>\n",
       "      <th>YQ</th>\n",
       "      <th>YR</th>\n",
       "      <th>YS</th>\n",
       "      <th>YT</th>\n",
       "      <th>YV</th>\n",
       "      <th>YW</th>\n",
       "      <th>YY</th>\n",
       "      <th>seq_id</th>\n",
       "      <th>seq_description</th>\n",
       "    </tr>\n",
       "  </thead>\n",
       "  <tbody>\n",
       "    <tr>\n",
       "      <th>0</th>\n",
       "      <td>0.272800</td>\n",
       "      <td>0.034096</td>\n",
       "      <td>0.000000</td>\n",
       "      <td>0.068203</td>\n",
       "      <td>0.034096</td>\n",
       "      <td>0.170501</td>\n",
       "      <td>0.000000</td>\n",
       "      <td>0.034096</td>\n",
       "      <td>0.000000</td>\n",
       "      <td>0.272800</td>\n",
       "      <td>...</td>\n",
       "      <td>0.0</td>\n",
       "      <td>0.034096</td>\n",
       "      <td>0.000000</td>\n",
       "      <td>0.068203</td>\n",
       "      <td>0.000000</td>\n",
       "      <td>0.000000</td>\n",
       "      <td>0.000000</td>\n",
       "      <td>0.000000</td>\n",
       "      <td>Q9H400</td>\n",
       "      <td>Q9H400_Cell.membrane-M_test</td>\n",
       "    </tr>\n",
       "    <tr>\n",
       "      <th>1</th>\n",
       "      <td>0.085497</td>\n",
       "      <td>0.064123</td>\n",
       "      <td>0.021374</td>\n",
       "      <td>0.021374</td>\n",
       "      <td>0.042748</td>\n",
       "      <td>0.064123</td>\n",
       "      <td>0.021374</td>\n",
       "      <td>0.149607</td>\n",
       "      <td>0.042748</td>\n",
       "      <td>0.256478</td>\n",
       "      <td>...</td>\n",
       "      <td>0.0</td>\n",
       "      <td>0.000000</td>\n",
       "      <td>0.000000</td>\n",
       "      <td>0.000000</td>\n",
       "      <td>0.021374</td>\n",
       "      <td>0.042748</td>\n",
       "      <td>0.000000</td>\n",
       "      <td>0.021374</td>\n",
       "      <td>Q5I0E9</td>\n",
       "      <td>Q5I0E9_Cell.membrane-M</td>\n",
       "    </tr>\n",
       "    <tr>\n",
       "      <th>2</th>\n",
       "      <td>0.045042</td>\n",
       "      <td>0.000000</td>\n",
       "      <td>0.000000</td>\n",
       "      <td>0.090072</td>\n",
       "      <td>0.045042</td>\n",
       "      <td>0.045042</td>\n",
       "      <td>0.000000</td>\n",
       "      <td>0.000000</td>\n",
       "      <td>0.180143</td>\n",
       "      <td>0.045042</td>\n",
       "      <td>...</td>\n",
       "      <td>0.0</td>\n",
       "      <td>0.045042</td>\n",
       "      <td>0.045042</td>\n",
       "      <td>0.000000</td>\n",
       "      <td>0.045042</td>\n",
       "      <td>0.045042</td>\n",
       "      <td>0.000000</td>\n",
       "      <td>0.000000</td>\n",
       "      <td>P63033</td>\n",
       "      <td>P63033_Cell.membrane-M</td>\n",
       "    </tr>\n",
       "    <tr>\n",
       "      <th>3</th>\n",
       "      <td>0.074040</td>\n",
       "      <td>0.000000</td>\n",
       "      <td>0.037013</td>\n",
       "      <td>0.055527</td>\n",
       "      <td>0.055527</td>\n",
       "      <td>0.037013</td>\n",
       "      <td>0.037013</td>\n",
       "      <td>0.092539</td>\n",
       "      <td>0.092539</td>\n",
       "      <td>0.037013</td>\n",
       "      <td>...</td>\n",
       "      <td>0.0</td>\n",
       "      <td>0.037013</td>\n",
       "      <td>0.055527</td>\n",
       "      <td>0.074040</td>\n",
       "      <td>0.037013</td>\n",
       "      <td>0.000000</td>\n",
       "      <td>0.018514</td>\n",
       "      <td>0.000000</td>\n",
       "      <td>Q9NR71</td>\n",
       "      <td>Q9NR71_Cell.membrane-M</td>\n",
       "    </tr>\n",
       "    <tr>\n",
       "      <th>4</th>\n",
       "      <td>0.000000</td>\n",
       "      <td>0.000000</td>\n",
       "      <td>0.000000</td>\n",
       "      <td>0.000000</td>\n",
       "      <td>0.000000</td>\n",
       "      <td>0.156530</td>\n",
       "      <td>0.039133</td>\n",
       "      <td>0.000000</td>\n",
       "      <td>0.000000</td>\n",
       "      <td>0.039133</td>\n",
       "      <td>...</td>\n",
       "      <td>0.0</td>\n",
       "      <td>0.000000</td>\n",
       "      <td>0.000000</td>\n",
       "      <td>0.000000</td>\n",
       "      <td>0.000000</td>\n",
       "      <td>0.000000</td>\n",
       "      <td>0.000000</td>\n",
       "      <td>0.000000</td>\n",
       "      <td>Q86XT9</td>\n",
       "      <td>Q86XT9_Cell.membrane-M</td>\n",
       "    </tr>\n",
       "  </tbody>\n",
       "</table>\n",
       "<p>5 rows × 402 columns</p>\n",
       "</div>"
      ],
      "text/plain": [
       "         AA        AC        AD        AE        AF        AG        AH  \\\n",
       "0  0.272800  0.034096  0.000000  0.068203  0.034096  0.170501  0.000000   \n",
       "1  0.085497  0.064123  0.021374  0.021374  0.042748  0.064123  0.021374   \n",
       "2  0.045042  0.000000  0.000000  0.090072  0.045042  0.045042  0.000000   \n",
       "3  0.074040  0.000000  0.037013  0.055527  0.055527  0.037013  0.037013   \n",
       "4  0.000000  0.000000  0.000000  0.000000  0.000000  0.156530  0.039133   \n",
       "\n",
       "         AI        AK        AL  ...   YP        YQ        YR        YS  \\\n",
       "0  0.034096  0.000000  0.272800  ...  0.0  0.034096  0.000000  0.068203   \n",
       "1  0.149607  0.042748  0.256478  ...  0.0  0.000000  0.000000  0.000000   \n",
       "2  0.000000  0.180143  0.045042  ...  0.0  0.045042  0.045042  0.000000   \n",
       "3  0.092539  0.092539  0.037013  ...  0.0  0.037013  0.055527  0.074040   \n",
       "4  0.000000  0.000000  0.039133  ...  0.0  0.000000  0.000000  0.000000   \n",
       "\n",
       "         YT        YV        YW        YY  seq_id              seq_description  \n",
       "0  0.000000  0.000000  0.000000  0.000000  Q9H400  Q9H400_Cell.membrane-M_test  \n",
       "1  0.021374  0.042748  0.000000  0.021374  Q5I0E9       Q5I0E9_Cell.membrane-M  \n",
       "2  0.045042  0.045042  0.000000  0.000000  P63033       P63033_Cell.membrane-M  \n",
       "3  0.037013  0.000000  0.018514  0.000000  Q9NR71       Q9NR71_Cell.membrane-M  \n",
       "4  0.000000  0.000000  0.000000  0.000000  Q86XT9       Q86XT9_Cell.membrane-M  \n",
       "\n",
       "[5 rows x 402 columns]"
      ]
     },
     "execution_count": 428,
     "metadata": {},
     "output_type": "execute_result"
    }
   ],
   "source": [
    "df_norm.head()"
   ]
  },
  {
   "cell_type": "code",
   "execution_count": 429,
   "id": "00a4b0c6-ad7a-4575-9a65-bb4b8919e3dd",
   "metadata": {},
   "outputs": [],
   "source": [
    "# df_norm.describe().transpose()"
   ]
  },
  {
   "cell_type": "code",
   "execution_count": 430,
   "id": "362d270a-0ca3-41f9-8d11-d8167b565a7d",
   "metadata": {},
   "outputs": [],
   "source": [
    "#We need to get Cell Membrane from seq_description:"
   ]
  },
  {
   "cell_type": "code",
   "execution_count": 431,
   "id": "6d0114d5-33ce-4346-896a-a9f9954effd3",
   "metadata": {},
   "outputs": [
    {
     "data": {
      "text/plain": [
       "Q9H400_Cell.membrane-M_test            1\n",
       "P26019_Nucleus-U                       1\n",
       "F4JGZ1_Nucleus-U                       1\n",
       "Q9NXX6_Nucleus-U                       1\n",
       "Q5W0Q7_Nucleus-U                       1\n",
       "                                      ..\n",
       "Q9Y7T9_Endoplasmic.reticulum-M         1\n",
       "Q8NIP8_Endoplasmic.reticulum-M         1\n",
       "Q9C5S2_Endoplasmic.reticulum-M_test    1\n",
       "Q93ZY3_Endoplasmic.reticulum-M         1\n",
       "D4APA9_Extracellular-S                 1\n",
       "Name: seq_description, Length: 14004, dtype: int64"
      ]
     },
     "execution_count": 431,
     "metadata": {},
     "output_type": "execute_result"
    }
   ],
   "source": [
    "df_norm[\"seq_description\"].value_counts()"
   ]
  },
  {
   "cell_type": "code",
   "execution_count": 432,
   "id": "8c2dfc0a-b48c-403c-8095-9edd525175c1",
   "metadata": {},
   "outputs": [],
   "source": [
    "df_norm[\"Location\"] = df_norm[\"seq_description\"].str.split(\"_\").str.capitalize()"
   ]
  },
  {
   "cell_type": "code",
   "execution_count": 433,
   "id": "83827353-5c89-41a3-8f49-1d7355d0c1f0",
   "metadata": {},
   "outputs": [
    {
     "data": {
      "text/html": [
       "<div>\n",
       "<style scoped>\n",
       "    .dataframe tbody tr th:only-of-type {\n",
       "        vertical-align: middle;\n",
       "    }\n",
       "\n",
       "    .dataframe tbody tr th {\n",
       "        vertical-align: top;\n",
       "    }\n",
       "\n",
       "    .dataframe thead th {\n",
       "        text-align: right;\n",
       "    }\n",
       "</style>\n",
       "<table border=\"1\" class=\"dataframe\">\n",
       "  <thead>\n",
       "    <tr style=\"text-align: right;\">\n",
       "      <th></th>\n",
       "      <th>AA</th>\n",
       "      <th>AC</th>\n",
       "      <th>AD</th>\n",
       "      <th>AE</th>\n",
       "      <th>AF</th>\n",
       "      <th>AG</th>\n",
       "      <th>AH</th>\n",
       "      <th>AI</th>\n",
       "      <th>AK</th>\n",
       "      <th>AL</th>\n",
       "      <th>...</th>\n",
       "      <th>YQ</th>\n",
       "      <th>YR</th>\n",
       "      <th>YS</th>\n",
       "      <th>YT</th>\n",
       "      <th>YV</th>\n",
       "      <th>YW</th>\n",
       "      <th>YY</th>\n",
       "      <th>seq_id</th>\n",
       "      <th>seq_description</th>\n",
       "      <th>Location</th>\n",
       "    </tr>\n",
       "  </thead>\n",
       "  <tbody>\n",
       "    <tr>\n",
       "      <th>0</th>\n",
       "      <td>0.272800</td>\n",
       "      <td>0.034096</td>\n",
       "      <td>0.000000</td>\n",
       "      <td>0.068203</td>\n",
       "      <td>0.034096</td>\n",
       "      <td>0.170501</td>\n",
       "      <td>0.000000</td>\n",
       "      <td>0.034096</td>\n",
       "      <td>0.000000</td>\n",
       "      <td>0.272800</td>\n",
       "      <td>...</td>\n",
       "      <td>0.034096</td>\n",
       "      <td>0.000000</td>\n",
       "      <td>0.068203</td>\n",
       "      <td>0.000000</td>\n",
       "      <td>0.000000</td>\n",
       "      <td>0.000000</td>\n",
       "      <td>0.000000</td>\n",
       "      <td>Q9H400</td>\n",
       "      <td>Q9H400_Cell.membrane-M_test</td>\n",
       "      <td>NaN</td>\n",
       "    </tr>\n",
       "    <tr>\n",
       "      <th>1</th>\n",
       "      <td>0.085497</td>\n",
       "      <td>0.064123</td>\n",
       "      <td>0.021374</td>\n",
       "      <td>0.021374</td>\n",
       "      <td>0.042748</td>\n",
       "      <td>0.064123</td>\n",
       "      <td>0.021374</td>\n",
       "      <td>0.149607</td>\n",
       "      <td>0.042748</td>\n",
       "      <td>0.256478</td>\n",
       "      <td>...</td>\n",
       "      <td>0.000000</td>\n",
       "      <td>0.000000</td>\n",
       "      <td>0.000000</td>\n",
       "      <td>0.021374</td>\n",
       "      <td>0.042748</td>\n",
       "      <td>0.000000</td>\n",
       "      <td>0.021374</td>\n",
       "      <td>Q5I0E9</td>\n",
       "      <td>Q5I0E9_Cell.membrane-M</td>\n",
       "      <td>NaN</td>\n",
       "    </tr>\n",
       "    <tr>\n",
       "      <th>2</th>\n",
       "      <td>0.045042</td>\n",
       "      <td>0.000000</td>\n",
       "      <td>0.000000</td>\n",
       "      <td>0.090072</td>\n",
       "      <td>0.045042</td>\n",
       "      <td>0.045042</td>\n",
       "      <td>0.000000</td>\n",
       "      <td>0.000000</td>\n",
       "      <td>0.180143</td>\n",
       "      <td>0.045042</td>\n",
       "      <td>...</td>\n",
       "      <td>0.045042</td>\n",
       "      <td>0.045042</td>\n",
       "      <td>0.000000</td>\n",
       "      <td>0.045042</td>\n",
       "      <td>0.045042</td>\n",
       "      <td>0.000000</td>\n",
       "      <td>0.000000</td>\n",
       "      <td>P63033</td>\n",
       "      <td>P63033_Cell.membrane-M</td>\n",
       "      <td>NaN</td>\n",
       "    </tr>\n",
       "    <tr>\n",
       "      <th>3</th>\n",
       "      <td>0.074040</td>\n",
       "      <td>0.000000</td>\n",
       "      <td>0.037013</td>\n",
       "      <td>0.055527</td>\n",
       "      <td>0.055527</td>\n",
       "      <td>0.037013</td>\n",
       "      <td>0.037013</td>\n",
       "      <td>0.092539</td>\n",
       "      <td>0.092539</td>\n",
       "      <td>0.037013</td>\n",
       "      <td>...</td>\n",
       "      <td>0.037013</td>\n",
       "      <td>0.055527</td>\n",
       "      <td>0.074040</td>\n",
       "      <td>0.037013</td>\n",
       "      <td>0.000000</td>\n",
       "      <td>0.018514</td>\n",
       "      <td>0.000000</td>\n",
       "      <td>Q9NR71</td>\n",
       "      <td>Q9NR71_Cell.membrane-M</td>\n",
       "      <td>NaN</td>\n",
       "    </tr>\n",
       "    <tr>\n",
       "      <th>4</th>\n",
       "      <td>0.000000</td>\n",
       "      <td>0.000000</td>\n",
       "      <td>0.000000</td>\n",
       "      <td>0.000000</td>\n",
       "      <td>0.000000</td>\n",
       "      <td>0.156530</td>\n",
       "      <td>0.039133</td>\n",
       "      <td>0.000000</td>\n",
       "      <td>0.000000</td>\n",
       "      <td>0.039133</td>\n",
       "      <td>...</td>\n",
       "      <td>0.000000</td>\n",
       "      <td>0.000000</td>\n",
       "      <td>0.000000</td>\n",
       "      <td>0.000000</td>\n",
       "      <td>0.000000</td>\n",
       "      <td>0.000000</td>\n",
       "      <td>0.000000</td>\n",
       "      <td>Q86XT9</td>\n",
       "      <td>Q86XT9_Cell.membrane-M</td>\n",
       "      <td>NaN</td>\n",
       "    </tr>\n",
       "    <tr>\n",
       "      <th>...</th>\n",
       "      <td>...</td>\n",
       "      <td>...</td>\n",
       "      <td>...</td>\n",
       "      <td>...</td>\n",
       "      <td>...</td>\n",
       "      <td>...</td>\n",
       "      <td>...</td>\n",
       "      <td>...</td>\n",
       "      <td>...</td>\n",
       "      <td>...</td>\n",
       "      <td>...</td>\n",
       "      <td>...</td>\n",
       "      <td>...</td>\n",
       "      <td>...</td>\n",
       "      <td>...</td>\n",
       "      <td>...</td>\n",
       "      <td>...</td>\n",
       "      <td>...</td>\n",
       "      <td>...</td>\n",
       "      <td>...</td>\n",
       "      <td>...</td>\n",
       "    </tr>\n",
       "    <tr>\n",
       "      <th>95</th>\n",
       "      <td>0.055024</td>\n",
       "      <td>0.055024</td>\n",
       "      <td>0.082544</td>\n",
       "      <td>0.055024</td>\n",
       "      <td>0.027519</td>\n",
       "      <td>0.137568</td>\n",
       "      <td>0.027519</td>\n",
       "      <td>0.000000</td>\n",
       "      <td>0.082544</td>\n",
       "      <td>0.137568</td>\n",
       "      <td>...</td>\n",
       "      <td>0.000000</td>\n",
       "      <td>0.000000</td>\n",
       "      <td>0.027519</td>\n",
       "      <td>0.027519</td>\n",
       "      <td>0.000000</td>\n",
       "      <td>0.000000</td>\n",
       "      <td>0.027519</td>\n",
       "      <td>P78348</td>\n",
       "      <td>P78348_Cell.membrane-M</td>\n",
       "      <td>NaN</td>\n",
       "    </tr>\n",
       "    <tr>\n",
       "      <th>96</th>\n",
       "      <td>0.252644</td>\n",
       "      <td>0.000000</td>\n",
       "      <td>0.000000</td>\n",
       "      <td>0.000000</td>\n",
       "      <td>0.000000</td>\n",
       "      <td>0.000000</td>\n",
       "      <td>0.000000</td>\n",
       "      <td>0.168427</td>\n",
       "      <td>0.000000</td>\n",
       "      <td>0.084217</td>\n",
       "      <td>...</td>\n",
       "      <td>0.000000</td>\n",
       "      <td>0.000000</td>\n",
       "      <td>0.000000</td>\n",
       "      <td>0.084217</td>\n",
       "      <td>0.000000</td>\n",
       "      <td>0.000000</td>\n",
       "      <td>0.000000</td>\n",
       "      <td>P30273</td>\n",
       "      <td>P30273_Cell.membrane-M</td>\n",
       "      <td>NaN</td>\n",
       "    </tr>\n",
       "    <tr>\n",
       "      <th>97</th>\n",
       "      <td>0.000000</td>\n",
       "      <td>0.000000</td>\n",
       "      <td>0.042224</td>\n",
       "      <td>0.126661</td>\n",
       "      <td>0.000000</td>\n",
       "      <td>0.042224</td>\n",
       "      <td>0.042224</td>\n",
       "      <td>0.000000</td>\n",
       "      <td>0.042224</td>\n",
       "      <td>0.126661</td>\n",
       "      <td>...</td>\n",
       "      <td>0.000000</td>\n",
       "      <td>0.000000</td>\n",
       "      <td>0.042224</td>\n",
       "      <td>0.042224</td>\n",
       "      <td>0.042224</td>\n",
       "      <td>0.042224</td>\n",
       "      <td>0.000000</td>\n",
       "      <td>O80662</td>\n",
       "      <td>O80662_Cell.membrane-M</td>\n",
       "      <td>NaN</td>\n",
       "    </tr>\n",
       "    <tr>\n",
       "      <th>98</th>\n",
       "      <td>0.081920</td>\n",
       "      <td>0.000000</td>\n",
       "      <td>0.040966</td>\n",
       "      <td>0.122885</td>\n",
       "      <td>0.000000</td>\n",
       "      <td>0.122885</td>\n",
       "      <td>0.000000</td>\n",
       "      <td>0.000000</td>\n",
       "      <td>0.000000</td>\n",
       "      <td>0.122885</td>\n",
       "      <td>...</td>\n",
       "      <td>0.000000</td>\n",
       "      <td>0.040966</td>\n",
       "      <td>0.000000</td>\n",
       "      <td>0.000000</td>\n",
       "      <td>0.000000</td>\n",
       "      <td>0.000000</td>\n",
       "      <td>0.040966</td>\n",
       "      <td>Q6GTX8</td>\n",
       "      <td>Q6GTX8_Cell.membrane-M</td>\n",
       "      <td>NaN</td>\n",
       "    </tr>\n",
       "    <tr>\n",
       "      <th>99</th>\n",
       "      <td>0.058168</td>\n",
       "      <td>0.000000</td>\n",
       "      <td>0.077557</td>\n",
       "      <td>0.058168</td>\n",
       "      <td>0.000000</td>\n",
       "      <td>0.038778</td>\n",
       "      <td>0.000000</td>\n",
       "      <td>0.038778</td>\n",
       "      <td>0.000000</td>\n",
       "      <td>0.077557</td>\n",
       "      <td>...</td>\n",
       "      <td>0.000000</td>\n",
       "      <td>0.019389</td>\n",
       "      <td>0.058168</td>\n",
       "      <td>0.000000</td>\n",
       "      <td>0.019389</td>\n",
       "      <td>0.000000</td>\n",
       "      <td>0.038778</td>\n",
       "      <td>Q9LVI6</td>\n",
       "      <td>Q9LVI6_Cell.membrane-M</td>\n",
       "      <td>NaN</td>\n",
       "    </tr>\n",
       "  </tbody>\n",
       "</table>\n",
       "<p>100 rows × 403 columns</p>\n",
       "</div>"
      ],
      "text/plain": [
       "          AA        AC        AD        AE        AF        AG        AH  \\\n",
       "0   0.272800  0.034096  0.000000  0.068203  0.034096  0.170501  0.000000   \n",
       "1   0.085497  0.064123  0.021374  0.021374  0.042748  0.064123  0.021374   \n",
       "2   0.045042  0.000000  0.000000  0.090072  0.045042  0.045042  0.000000   \n",
       "3   0.074040  0.000000  0.037013  0.055527  0.055527  0.037013  0.037013   \n",
       "4   0.000000  0.000000  0.000000  0.000000  0.000000  0.156530  0.039133   \n",
       "..       ...       ...       ...       ...       ...       ...       ...   \n",
       "95  0.055024  0.055024  0.082544  0.055024  0.027519  0.137568  0.027519   \n",
       "96  0.252644  0.000000  0.000000  0.000000  0.000000  0.000000  0.000000   \n",
       "97  0.000000  0.000000  0.042224  0.126661  0.000000  0.042224  0.042224   \n",
       "98  0.081920  0.000000  0.040966  0.122885  0.000000  0.122885  0.000000   \n",
       "99  0.058168  0.000000  0.077557  0.058168  0.000000  0.038778  0.000000   \n",
       "\n",
       "          AI        AK        AL  ...        YQ        YR        YS        YT  \\\n",
       "0   0.034096  0.000000  0.272800  ...  0.034096  0.000000  0.068203  0.000000   \n",
       "1   0.149607  0.042748  0.256478  ...  0.000000  0.000000  0.000000  0.021374   \n",
       "2   0.000000  0.180143  0.045042  ...  0.045042  0.045042  0.000000  0.045042   \n",
       "3   0.092539  0.092539  0.037013  ...  0.037013  0.055527  0.074040  0.037013   \n",
       "4   0.000000  0.000000  0.039133  ...  0.000000  0.000000  0.000000  0.000000   \n",
       "..       ...       ...       ...  ...       ...       ...       ...       ...   \n",
       "95  0.000000  0.082544  0.137568  ...  0.000000  0.000000  0.027519  0.027519   \n",
       "96  0.168427  0.000000  0.084217  ...  0.000000  0.000000  0.000000  0.084217   \n",
       "97  0.000000  0.042224  0.126661  ...  0.000000  0.000000  0.042224  0.042224   \n",
       "98  0.000000  0.000000  0.122885  ...  0.000000  0.040966  0.000000  0.000000   \n",
       "99  0.038778  0.000000  0.077557  ...  0.000000  0.019389  0.058168  0.000000   \n",
       "\n",
       "          YV        YW        YY  seq_id              seq_description  \\\n",
       "0   0.000000  0.000000  0.000000  Q9H400  Q9H400_Cell.membrane-M_test   \n",
       "1   0.042748  0.000000  0.021374  Q5I0E9       Q5I0E9_Cell.membrane-M   \n",
       "2   0.045042  0.000000  0.000000  P63033       P63033_Cell.membrane-M   \n",
       "3   0.000000  0.018514  0.000000  Q9NR71       Q9NR71_Cell.membrane-M   \n",
       "4   0.000000  0.000000  0.000000  Q86XT9       Q86XT9_Cell.membrane-M   \n",
       "..       ...       ...       ...     ...                          ...   \n",
       "95  0.000000  0.000000  0.027519  P78348       P78348_Cell.membrane-M   \n",
       "96  0.000000  0.000000  0.000000  P30273       P30273_Cell.membrane-M   \n",
       "97  0.042224  0.042224  0.000000  O80662       O80662_Cell.membrane-M   \n",
       "98  0.000000  0.000000  0.040966  Q6GTX8       Q6GTX8_Cell.membrane-M   \n",
       "99  0.019389  0.000000  0.038778  Q9LVI6       Q9LVI6_Cell.membrane-M   \n",
       "\n",
       "    Location  \n",
       "0        NaN  \n",
       "1        NaN  \n",
       "2        NaN  \n",
       "3        NaN  \n",
       "4        NaN  \n",
       "..       ...  \n",
       "95       NaN  \n",
       "96       NaN  \n",
       "97       NaN  \n",
       "98       NaN  \n",
       "99       NaN  \n",
       "\n",
       "[100 rows x 403 columns]"
      ]
     },
     "execution_count": 433,
     "metadata": {},
     "output_type": "execute_result"
    }
   ],
   "source": [
    "df_norm.head(100)"
   ]
  },
  {
   "cell_type": "code",
   "execution_count": 434,
   "id": "3b194ad8-1742-4d42-9c4e-62e3e27a83b7",
   "metadata": {},
   "outputs": [],
   "source": [
    "df_norm[\"Cells\"] = df_norm[\"seq_description\"].str.split(\"_\")"
   ]
  },
  {
   "cell_type": "code",
   "execution_count": 435,
   "id": "b064720d-e31c-4a99-a549-9b26f8bfeb8e",
   "metadata": {},
   "outputs": [
    {
     "data": {
      "text/html": [
       "<div>\n",
       "<style scoped>\n",
       "    .dataframe tbody tr th:only-of-type {\n",
       "        vertical-align: middle;\n",
       "    }\n",
       "\n",
       "    .dataframe tbody tr th {\n",
       "        vertical-align: top;\n",
       "    }\n",
       "\n",
       "    .dataframe thead th {\n",
       "        text-align: right;\n",
       "    }\n",
       "</style>\n",
       "<table border=\"1\" class=\"dataframe\">\n",
       "  <thead>\n",
       "    <tr style=\"text-align: right;\">\n",
       "      <th></th>\n",
       "      <th>AA</th>\n",
       "      <th>AC</th>\n",
       "      <th>AD</th>\n",
       "      <th>AE</th>\n",
       "      <th>AF</th>\n",
       "      <th>AG</th>\n",
       "      <th>AH</th>\n",
       "      <th>AI</th>\n",
       "      <th>AK</th>\n",
       "      <th>AL</th>\n",
       "      <th>...</th>\n",
       "      <th>YR</th>\n",
       "      <th>YS</th>\n",
       "      <th>YT</th>\n",
       "      <th>YV</th>\n",
       "      <th>YW</th>\n",
       "      <th>YY</th>\n",
       "      <th>seq_id</th>\n",
       "      <th>seq_description</th>\n",
       "      <th>Location</th>\n",
       "      <th>Cells</th>\n",
       "    </tr>\n",
       "  </thead>\n",
       "  <tbody>\n",
       "    <tr>\n",
       "      <th>0</th>\n",
       "      <td>0.272800</td>\n",
       "      <td>0.034096</td>\n",
       "      <td>0.000000</td>\n",
       "      <td>0.068203</td>\n",
       "      <td>0.034096</td>\n",
       "      <td>0.170501</td>\n",
       "      <td>0.000000</td>\n",
       "      <td>0.034096</td>\n",
       "      <td>0.000000</td>\n",
       "      <td>0.272800</td>\n",
       "      <td>...</td>\n",
       "      <td>0.000000</td>\n",
       "      <td>0.068203</td>\n",
       "      <td>0.000000</td>\n",
       "      <td>0.000000</td>\n",
       "      <td>0.000000</td>\n",
       "      <td>0.000000</td>\n",
       "      <td>Q9H400</td>\n",
       "      <td>Q9H400_Cell.membrane-M_test</td>\n",
       "      <td>NaN</td>\n",
       "      <td>[Q9H400, Cell.membrane-M, test]</td>\n",
       "    </tr>\n",
       "    <tr>\n",
       "      <th>1</th>\n",
       "      <td>0.085497</td>\n",
       "      <td>0.064123</td>\n",
       "      <td>0.021374</td>\n",
       "      <td>0.021374</td>\n",
       "      <td>0.042748</td>\n",
       "      <td>0.064123</td>\n",
       "      <td>0.021374</td>\n",
       "      <td>0.149607</td>\n",
       "      <td>0.042748</td>\n",
       "      <td>0.256478</td>\n",
       "      <td>...</td>\n",
       "      <td>0.000000</td>\n",
       "      <td>0.000000</td>\n",
       "      <td>0.021374</td>\n",
       "      <td>0.042748</td>\n",
       "      <td>0.000000</td>\n",
       "      <td>0.021374</td>\n",
       "      <td>Q5I0E9</td>\n",
       "      <td>Q5I0E9_Cell.membrane-M</td>\n",
       "      <td>NaN</td>\n",
       "      <td>[Q5I0E9, Cell.membrane-M]</td>\n",
       "    </tr>\n",
       "    <tr>\n",
       "      <th>2</th>\n",
       "      <td>0.045042</td>\n",
       "      <td>0.000000</td>\n",
       "      <td>0.000000</td>\n",
       "      <td>0.090072</td>\n",
       "      <td>0.045042</td>\n",
       "      <td>0.045042</td>\n",
       "      <td>0.000000</td>\n",
       "      <td>0.000000</td>\n",
       "      <td>0.180143</td>\n",
       "      <td>0.045042</td>\n",
       "      <td>...</td>\n",
       "      <td>0.045042</td>\n",
       "      <td>0.000000</td>\n",
       "      <td>0.045042</td>\n",
       "      <td>0.045042</td>\n",
       "      <td>0.000000</td>\n",
       "      <td>0.000000</td>\n",
       "      <td>P63033</td>\n",
       "      <td>P63033_Cell.membrane-M</td>\n",
       "      <td>NaN</td>\n",
       "      <td>[P63033, Cell.membrane-M]</td>\n",
       "    </tr>\n",
       "    <tr>\n",
       "      <th>3</th>\n",
       "      <td>0.074040</td>\n",
       "      <td>0.000000</td>\n",
       "      <td>0.037013</td>\n",
       "      <td>0.055527</td>\n",
       "      <td>0.055527</td>\n",
       "      <td>0.037013</td>\n",
       "      <td>0.037013</td>\n",
       "      <td>0.092539</td>\n",
       "      <td>0.092539</td>\n",
       "      <td>0.037013</td>\n",
       "      <td>...</td>\n",
       "      <td>0.055527</td>\n",
       "      <td>0.074040</td>\n",
       "      <td>0.037013</td>\n",
       "      <td>0.000000</td>\n",
       "      <td>0.018514</td>\n",
       "      <td>0.000000</td>\n",
       "      <td>Q9NR71</td>\n",
       "      <td>Q9NR71_Cell.membrane-M</td>\n",
       "      <td>NaN</td>\n",
       "      <td>[Q9NR71, Cell.membrane-M]</td>\n",
       "    </tr>\n",
       "    <tr>\n",
       "      <th>4</th>\n",
       "      <td>0.000000</td>\n",
       "      <td>0.000000</td>\n",
       "      <td>0.000000</td>\n",
       "      <td>0.000000</td>\n",
       "      <td>0.000000</td>\n",
       "      <td>0.156530</td>\n",
       "      <td>0.039133</td>\n",
       "      <td>0.000000</td>\n",
       "      <td>0.000000</td>\n",
       "      <td>0.039133</td>\n",
       "      <td>...</td>\n",
       "      <td>0.000000</td>\n",
       "      <td>0.000000</td>\n",
       "      <td>0.000000</td>\n",
       "      <td>0.000000</td>\n",
       "      <td>0.000000</td>\n",
       "      <td>0.000000</td>\n",
       "      <td>Q86XT9</td>\n",
       "      <td>Q86XT9_Cell.membrane-M</td>\n",
       "      <td>NaN</td>\n",
       "      <td>[Q86XT9, Cell.membrane-M]</td>\n",
       "    </tr>\n",
       "  </tbody>\n",
       "</table>\n",
       "<p>5 rows × 404 columns</p>\n",
       "</div>"
      ],
      "text/plain": [
       "         AA        AC        AD        AE        AF        AG        AH  \\\n",
       "0  0.272800  0.034096  0.000000  0.068203  0.034096  0.170501  0.000000   \n",
       "1  0.085497  0.064123  0.021374  0.021374  0.042748  0.064123  0.021374   \n",
       "2  0.045042  0.000000  0.000000  0.090072  0.045042  0.045042  0.000000   \n",
       "3  0.074040  0.000000  0.037013  0.055527  0.055527  0.037013  0.037013   \n",
       "4  0.000000  0.000000  0.000000  0.000000  0.000000  0.156530  0.039133   \n",
       "\n",
       "         AI        AK        AL  ...        YR        YS        YT        YV  \\\n",
       "0  0.034096  0.000000  0.272800  ...  0.000000  0.068203  0.000000  0.000000   \n",
       "1  0.149607  0.042748  0.256478  ...  0.000000  0.000000  0.021374  0.042748   \n",
       "2  0.000000  0.180143  0.045042  ...  0.045042  0.000000  0.045042  0.045042   \n",
       "3  0.092539  0.092539  0.037013  ...  0.055527  0.074040  0.037013  0.000000   \n",
       "4  0.000000  0.000000  0.039133  ...  0.000000  0.000000  0.000000  0.000000   \n",
       "\n",
       "         YW        YY  seq_id              seq_description  Location  \\\n",
       "0  0.000000  0.000000  Q9H400  Q9H400_Cell.membrane-M_test       NaN   \n",
       "1  0.000000  0.021374  Q5I0E9       Q5I0E9_Cell.membrane-M       NaN   \n",
       "2  0.000000  0.000000  P63033       P63033_Cell.membrane-M       NaN   \n",
       "3  0.018514  0.000000  Q9NR71       Q9NR71_Cell.membrane-M       NaN   \n",
       "4  0.000000  0.000000  Q86XT9       Q86XT9_Cell.membrane-M       NaN   \n",
       "\n",
       "                             Cells  \n",
       "0  [Q9H400, Cell.membrane-M, test]  \n",
       "1        [Q5I0E9, Cell.membrane-M]  \n",
       "2        [P63033, Cell.membrane-M]  \n",
       "3        [Q9NR71, Cell.membrane-M]  \n",
       "4        [Q86XT9, Cell.membrane-M]  \n",
       "\n",
       "[5 rows x 404 columns]"
      ]
     },
     "execution_count": 435,
     "metadata": {},
     "output_type": "execute_result"
    }
   ],
   "source": [
    "df_norm.head()"
   ]
  },
  {
   "cell_type": "code",
   "execution_count": 436,
   "id": "fb3fa5a6-9b9d-47fb-8380-1221b1e25fca",
   "metadata": {},
   "outputs": [],
   "source": [
    "df_norm.drop(\"Location\", axis=1, inplace=True)"
   ]
  },
  {
   "cell_type": "code",
   "execution_count": 437,
   "id": "3345cef1-0e6d-4b57-8252-43ffd5c696fd",
   "metadata": {},
   "outputs": [],
   "source": [
    "df_norm[\"Cell_Location\"] = df_norm[\"Cells\"].str[1]"
   ]
  },
  {
   "cell_type": "code",
   "execution_count": 438,
   "id": "a597c7b1-635e-45dc-b378-79bea71a1363",
   "metadata": {},
   "outputs": [
    {
     "data": {
      "text/html": [
       "<div>\n",
       "<style scoped>\n",
       "    .dataframe tbody tr th:only-of-type {\n",
       "        vertical-align: middle;\n",
       "    }\n",
       "\n",
       "    .dataframe tbody tr th {\n",
       "        vertical-align: top;\n",
       "    }\n",
       "\n",
       "    .dataframe thead th {\n",
       "        text-align: right;\n",
       "    }\n",
       "</style>\n",
       "<table border=\"1\" class=\"dataframe\">\n",
       "  <thead>\n",
       "    <tr style=\"text-align: right;\">\n",
       "      <th></th>\n",
       "      <th>AA</th>\n",
       "      <th>AC</th>\n",
       "      <th>AD</th>\n",
       "      <th>AE</th>\n",
       "      <th>AF</th>\n",
       "      <th>AG</th>\n",
       "      <th>AH</th>\n",
       "      <th>AI</th>\n",
       "      <th>AK</th>\n",
       "      <th>AL</th>\n",
       "      <th>...</th>\n",
       "      <th>YR</th>\n",
       "      <th>YS</th>\n",
       "      <th>YT</th>\n",
       "      <th>YV</th>\n",
       "      <th>YW</th>\n",
       "      <th>YY</th>\n",
       "      <th>seq_id</th>\n",
       "      <th>seq_description</th>\n",
       "      <th>Cells</th>\n",
       "      <th>Cell_Location</th>\n",
       "    </tr>\n",
       "  </thead>\n",
       "  <tbody>\n",
       "    <tr>\n",
       "      <th>0</th>\n",
       "      <td>0.272800</td>\n",
       "      <td>0.034096</td>\n",
       "      <td>0.000000</td>\n",
       "      <td>0.068203</td>\n",
       "      <td>0.034096</td>\n",
       "      <td>0.170501</td>\n",
       "      <td>0.000000</td>\n",
       "      <td>0.034096</td>\n",
       "      <td>0.000000</td>\n",
       "      <td>0.272800</td>\n",
       "      <td>...</td>\n",
       "      <td>0.000000</td>\n",
       "      <td>0.068203</td>\n",
       "      <td>0.000000</td>\n",
       "      <td>0.000000</td>\n",
       "      <td>0.000000</td>\n",
       "      <td>0.000000</td>\n",
       "      <td>Q9H400</td>\n",
       "      <td>Q9H400_Cell.membrane-M_test</td>\n",
       "      <td>[Q9H400, Cell.membrane-M, test]</td>\n",
       "      <td>Cell.membrane-M</td>\n",
       "    </tr>\n",
       "    <tr>\n",
       "      <th>1</th>\n",
       "      <td>0.085497</td>\n",
       "      <td>0.064123</td>\n",
       "      <td>0.021374</td>\n",
       "      <td>0.021374</td>\n",
       "      <td>0.042748</td>\n",
       "      <td>0.064123</td>\n",
       "      <td>0.021374</td>\n",
       "      <td>0.149607</td>\n",
       "      <td>0.042748</td>\n",
       "      <td>0.256478</td>\n",
       "      <td>...</td>\n",
       "      <td>0.000000</td>\n",
       "      <td>0.000000</td>\n",
       "      <td>0.021374</td>\n",
       "      <td>0.042748</td>\n",
       "      <td>0.000000</td>\n",
       "      <td>0.021374</td>\n",
       "      <td>Q5I0E9</td>\n",
       "      <td>Q5I0E9_Cell.membrane-M</td>\n",
       "      <td>[Q5I0E9, Cell.membrane-M]</td>\n",
       "      <td>Cell.membrane-M</td>\n",
       "    </tr>\n",
       "    <tr>\n",
       "      <th>2</th>\n",
       "      <td>0.045042</td>\n",
       "      <td>0.000000</td>\n",
       "      <td>0.000000</td>\n",
       "      <td>0.090072</td>\n",
       "      <td>0.045042</td>\n",
       "      <td>0.045042</td>\n",
       "      <td>0.000000</td>\n",
       "      <td>0.000000</td>\n",
       "      <td>0.180143</td>\n",
       "      <td>0.045042</td>\n",
       "      <td>...</td>\n",
       "      <td>0.045042</td>\n",
       "      <td>0.000000</td>\n",
       "      <td>0.045042</td>\n",
       "      <td>0.045042</td>\n",
       "      <td>0.000000</td>\n",
       "      <td>0.000000</td>\n",
       "      <td>P63033</td>\n",
       "      <td>P63033_Cell.membrane-M</td>\n",
       "      <td>[P63033, Cell.membrane-M]</td>\n",
       "      <td>Cell.membrane-M</td>\n",
       "    </tr>\n",
       "    <tr>\n",
       "      <th>3</th>\n",
       "      <td>0.074040</td>\n",
       "      <td>0.000000</td>\n",
       "      <td>0.037013</td>\n",
       "      <td>0.055527</td>\n",
       "      <td>0.055527</td>\n",
       "      <td>0.037013</td>\n",
       "      <td>0.037013</td>\n",
       "      <td>0.092539</td>\n",
       "      <td>0.092539</td>\n",
       "      <td>0.037013</td>\n",
       "      <td>...</td>\n",
       "      <td>0.055527</td>\n",
       "      <td>0.074040</td>\n",
       "      <td>0.037013</td>\n",
       "      <td>0.000000</td>\n",
       "      <td>0.018514</td>\n",
       "      <td>0.000000</td>\n",
       "      <td>Q9NR71</td>\n",
       "      <td>Q9NR71_Cell.membrane-M</td>\n",
       "      <td>[Q9NR71, Cell.membrane-M]</td>\n",
       "      <td>Cell.membrane-M</td>\n",
       "    </tr>\n",
       "    <tr>\n",
       "      <th>4</th>\n",
       "      <td>0.000000</td>\n",
       "      <td>0.000000</td>\n",
       "      <td>0.000000</td>\n",
       "      <td>0.000000</td>\n",
       "      <td>0.000000</td>\n",
       "      <td>0.156530</td>\n",
       "      <td>0.039133</td>\n",
       "      <td>0.000000</td>\n",
       "      <td>0.000000</td>\n",
       "      <td>0.039133</td>\n",
       "      <td>...</td>\n",
       "      <td>0.000000</td>\n",
       "      <td>0.000000</td>\n",
       "      <td>0.000000</td>\n",
       "      <td>0.000000</td>\n",
       "      <td>0.000000</td>\n",
       "      <td>0.000000</td>\n",
       "      <td>Q86XT9</td>\n",
       "      <td>Q86XT9_Cell.membrane-M</td>\n",
       "      <td>[Q86XT9, Cell.membrane-M]</td>\n",
       "      <td>Cell.membrane-M</td>\n",
       "    </tr>\n",
       "  </tbody>\n",
       "</table>\n",
       "<p>5 rows × 404 columns</p>\n",
       "</div>"
      ],
      "text/plain": [
       "         AA        AC        AD        AE        AF        AG        AH  \\\n",
       "0  0.272800  0.034096  0.000000  0.068203  0.034096  0.170501  0.000000   \n",
       "1  0.085497  0.064123  0.021374  0.021374  0.042748  0.064123  0.021374   \n",
       "2  0.045042  0.000000  0.000000  0.090072  0.045042  0.045042  0.000000   \n",
       "3  0.074040  0.000000  0.037013  0.055527  0.055527  0.037013  0.037013   \n",
       "4  0.000000  0.000000  0.000000  0.000000  0.000000  0.156530  0.039133   \n",
       "\n",
       "         AI        AK        AL  ...        YR        YS        YT        YV  \\\n",
       "0  0.034096  0.000000  0.272800  ...  0.000000  0.068203  0.000000  0.000000   \n",
       "1  0.149607  0.042748  0.256478  ...  0.000000  0.000000  0.021374  0.042748   \n",
       "2  0.000000  0.180143  0.045042  ...  0.045042  0.000000  0.045042  0.045042   \n",
       "3  0.092539  0.092539  0.037013  ...  0.055527  0.074040  0.037013  0.000000   \n",
       "4  0.000000  0.000000  0.039133  ...  0.000000  0.000000  0.000000  0.000000   \n",
       "\n",
       "         YW        YY  seq_id              seq_description  \\\n",
       "0  0.000000  0.000000  Q9H400  Q9H400_Cell.membrane-M_test   \n",
       "1  0.000000  0.021374  Q5I0E9       Q5I0E9_Cell.membrane-M   \n",
       "2  0.000000  0.000000  P63033       P63033_Cell.membrane-M   \n",
       "3  0.018514  0.000000  Q9NR71       Q9NR71_Cell.membrane-M   \n",
       "4  0.000000  0.000000  Q86XT9       Q86XT9_Cell.membrane-M   \n",
       "\n",
       "                             Cells    Cell_Location  \n",
       "0  [Q9H400, Cell.membrane-M, test]  Cell.membrane-M  \n",
       "1        [Q5I0E9, Cell.membrane-M]  Cell.membrane-M  \n",
       "2        [P63033, Cell.membrane-M]  Cell.membrane-M  \n",
       "3        [Q9NR71, Cell.membrane-M]  Cell.membrane-M  \n",
       "4        [Q86XT9, Cell.membrane-M]  Cell.membrane-M  \n",
       "\n",
       "[5 rows x 404 columns]"
      ]
     },
     "execution_count": 438,
     "metadata": {},
     "output_type": "execute_result"
    }
   ],
   "source": [
    "df_norm.head()"
   ]
  },
  {
   "cell_type": "code",
   "execution_count": 439,
   "id": "1149fa63-b1f2-479b-9ff0-73f8a5edf8be",
   "metadata": {},
   "outputs": [
    {
     "data": {
      "text/plain": [
       "Nucleus-U                  3787\n",
       "Cytoplasm-S                2542\n",
       "Extracellular-S            1973\n",
       "Cell.membrane-M            1340\n",
       "Mitochondrion-U             761\n",
       "Endoplasmic.reticulum-M     720\n",
       "Mitochondrion-M             516\n",
       "Plastid-U                   340\n",
       "Golgi.apparatus-M           301\n",
       "Plastid-M                   263\n",
       "Lysosome/Vacuole-M          243\n",
       "Mitochondrion-S             233\n",
       "Plastid-S                   154\n",
       "Cytoplasm-Nucleus-U         146\n",
       "Nucleus-S                   134\n",
       "Nucleus-M                   122\n",
       "Peroxisome-U                100\n",
       "Endoplasmic.reticulum-U      81\n",
       "Lysosome/Vacuole-U           74\n",
       "Endoplasmic.reticulum-S      61\n",
       "Golgi.apparatus-U            53\n",
       "Peroxisome-M                 48\n",
       "Peroxisome-S                  6\n",
       "Lysosome/Vacuole-S            4\n",
       "Golgi.apparatus-S             2\n",
       "Name: Cell_Location, dtype: int64"
      ]
     },
     "execution_count": 439,
     "metadata": {},
     "output_type": "execute_result"
    }
   ],
   "source": [
    "df_norm[\"Cell_Location\"].value_counts()"
   ]
  },
  {
   "cell_type": "code",
   "execution_count": 440,
   "id": "04104835-51ef-4d98-af1f-e9a8986c2dee",
   "metadata": {},
   "outputs": [],
   "source": [
    "#based on the above info, remap these values into their unique cell location parts:\n",
    "\n",
    "mapping_dict = {\n",
    "    \"Nucleus-U\" : \"Nucleus\", \n",
    "    \"Cytoplasm-S\" : \"Cytoplasm\",              \n",
    "    \"Extracellular-S\" : \"Extracellular\",         \n",
    "    \"Cell.membrane-M\" : \"Cell Membrane\",        \n",
    "    \"Mitochondrion-U\" : \"Mitochondrion\",             \n",
    "    \"Endoplasmic.reticulum-M\" : \"Endoplasmic Reticulum\",   \n",
    "    \"Mitochondrion-M\" : \"Mitochondrion\",         \n",
    "    \"Plastid-U\" : \"Plastid\",                  \n",
    "    \"Golgi.apparatus-M\" : \"Golgi Apparatus\",         \n",
    "    \"Plastid-M\" : \"Plastid\",             \n",
    "    \"Lysosome/Vacuole-M\" : \"Lysosome/Vacuole\",          \n",
    "    \"Mitochondrion-S\" : \"Mitochondrion\", \n",
    "    \"Plastid-S\" : \"Plastid\",                 \n",
    "    \"Cytoplasm-Nucleus-U\" : \"Cytoplasm\",        \n",
    "    \"Nucleus-S\" : \"Nucleus\",                 \n",
    "    \"Nucleus-M\" : \"Nucleus\",                 \n",
    "    \"Peroxisome-U\" : \"Peroxisome\",             \n",
    "    \"Endoplasmic.reticulum-U\" : \"Endoplasmic Reticulum\",   \n",
    "    \"Lysosome/Vacuole-U\" : \"Lysosome/Vacuole\",          \n",
    "    \"Endoplasmic.reticulum-S\" : \"Endoplasmic Reticulum\",     \n",
    "    \"Golgi.apparatus-U\" : \"Golgi Apparatus\",         \n",
    "    \"Peroxisome-M\" : \"Peroxisome\",                \n",
    "    \"Peroxisome-S\" : \"Peroxisome\",                  \n",
    "    \"Lysosome/Vacuole-S\" : \"Lysosome/Vacuole\",            \n",
    "    \"Golgi.apparatus-S\" : \"Golgi Apparatus\"         \n",
    "}"
   ]
  },
  {
   "cell_type": "code",
   "execution_count": 441,
   "id": "3fe45e36-2db1-45f4-a3a8-6fb3039f8fab",
   "metadata": {},
   "outputs": [],
   "source": [
    "#Use a dictionary to create a new dictionary with the mapped values from above\n",
    "new_mapping_dict = {key: mapping_dict[key] for key in df_norm[\"Cell_Location\"].unique()}\n",
    "\n",
    "#Replace the values in the \"Cell_Location\" column using the new mapped dictionary from above:\n",
    "df_norm[\"Cell_Location\"] = df_norm[\"Cell_Location\"].map(new_mapping_dict)\n"
   ]
  },
  {
   "cell_type": "code",
   "execution_count": 442,
   "id": "afcbdedc-ec22-47c0-8df6-026aa20ed6dd",
   "metadata": {},
   "outputs": [
    {
     "data": {
      "text/plain": [
       "Nucleus                  4043\n",
       "Cytoplasm                2688\n",
       "Extracellular            1973\n",
       "Mitochondrion            1510\n",
       "Cell Membrane            1340\n",
       "Endoplasmic Reticulum     862\n",
       "Plastid                   757\n",
       "Golgi Apparatus           356\n",
       "Lysosome/Vacuole          321\n",
       "Peroxisome                154\n",
       "Name: Cell_Location, dtype: int64"
      ]
     },
     "execution_count": 442,
     "metadata": {},
     "output_type": "execute_result"
    }
   ],
   "source": [
    "df_norm[\"Cell_Location\"].value_counts()"
   ]
  },
  {
   "cell_type": "code",
   "execution_count": 443,
   "id": "f09752ae-43ac-48be-b399-c69ee1f78a63",
   "metadata": {},
   "outputs": [],
   "source": [
    "#we can see the above worked. Now we have our Y values"
   ]
  },
  {
   "cell_type": "code",
   "execution_count": 109,
   "id": "7733e0be-be68-4193-87dd-92401202ee2c",
   "metadata": {},
   "outputs": [],
   "source": [
    "# df_norm.to_csv(\"AS3Data.csv\")"
   ]
  },
  {
   "cell_type": "markdown",
   "id": "dfd152fd-892d-4af8-a61a-68166c2c3aaf",
   "metadata": {
    "tags": []
   },
   "source": [
    "## 1) Use k-means clustering algorithm on the dataset. Use inertia and Silhouette score to identify an optimal k. Show plot like Figure 9-8 and Figure 9-9. "
   ]
  },
  {
   "cell_type": "markdown",
   "id": "d717c587-443f-43bd-8409-75e9bafdca59",
   "metadata": {
    "jp-MarkdownHeadingCollapsed": true,
    "tags": []
   },
   "source": [
    "### Getting Y value's into categorical data type:"
   ]
  },
  {
   "cell_type": "code",
   "execution_count": 444,
   "id": "563a9042-926f-41cb-a430-ed5540dfb7dd",
   "metadata": {},
   "outputs": [
    {
     "data": {
      "text/html": [
       "<div>\n",
       "<style scoped>\n",
       "    .dataframe tbody tr th:only-of-type {\n",
       "        vertical-align: middle;\n",
       "    }\n",
       "\n",
       "    .dataframe tbody tr th {\n",
       "        vertical-align: top;\n",
       "    }\n",
       "\n",
       "    .dataframe thead th {\n",
       "        text-align: right;\n",
       "    }\n",
       "</style>\n",
       "<table border=\"1\" class=\"dataframe\">\n",
       "  <thead>\n",
       "    <tr style=\"text-align: right;\">\n",
       "      <th></th>\n",
       "      <th>AA</th>\n",
       "      <th>AC</th>\n",
       "      <th>AD</th>\n",
       "      <th>AE</th>\n",
       "      <th>AF</th>\n",
       "      <th>AG</th>\n",
       "      <th>AH</th>\n",
       "      <th>AI</th>\n",
       "      <th>AK</th>\n",
       "      <th>AL</th>\n",
       "      <th>...</th>\n",
       "      <th>YR</th>\n",
       "      <th>YS</th>\n",
       "      <th>YT</th>\n",
       "      <th>YV</th>\n",
       "      <th>YW</th>\n",
       "      <th>YY</th>\n",
       "      <th>seq_id</th>\n",
       "      <th>seq_description</th>\n",
       "      <th>Cells</th>\n",
       "      <th>Cell_Location</th>\n",
       "    </tr>\n",
       "  </thead>\n",
       "  <tbody>\n",
       "    <tr>\n",
       "      <th>0</th>\n",
       "      <td>0.2728</td>\n",
       "      <td>0.034096</td>\n",
       "      <td>0.0</td>\n",
       "      <td>0.068203</td>\n",
       "      <td>0.034096</td>\n",
       "      <td>0.170501</td>\n",
       "      <td>0.0</td>\n",
       "      <td>0.034096</td>\n",
       "      <td>0.0</td>\n",
       "      <td>0.2728</td>\n",
       "      <td>...</td>\n",
       "      <td>0.0</td>\n",
       "      <td>0.068203</td>\n",
       "      <td>0.0</td>\n",
       "      <td>0.0</td>\n",
       "      <td>0.0</td>\n",
       "      <td>0.0</td>\n",
       "      <td>Q9H400</td>\n",
       "      <td>Q9H400_Cell.membrane-M_test</td>\n",
       "      <td>[Q9H400, Cell.membrane-M, test]</td>\n",
       "      <td>Cell Membrane</td>\n",
       "    </tr>\n",
       "  </tbody>\n",
       "</table>\n",
       "<p>1 rows × 404 columns</p>\n",
       "</div>"
      ],
      "text/plain": [
       "       AA        AC   AD        AE        AF        AG   AH        AI   AK  \\\n",
       "0  0.2728  0.034096  0.0  0.068203  0.034096  0.170501  0.0  0.034096  0.0   \n",
       "\n",
       "       AL  ...   YR        YS   YT   YV   YW   YY  seq_id  \\\n",
       "0  0.2728  ...  0.0  0.068203  0.0  0.0  0.0  0.0  Q9H400   \n",
       "\n",
       "               seq_description                            Cells  Cell_Location  \n",
       "0  Q9H400_Cell.membrane-M_test  [Q9H400, Cell.membrane-M, test]  Cell Membrane  \n",
       "\n",
       "[1 rows x 404 columns]"
      ]
     },
     "execution_count": 444,
     "metadata": {},
     "output_type": "execute_result"
    }
   ],
   "source": [
    "df_norm.head(1)"
   ]
  },
  {
   "cell_type": "code",
   "execution_count": 445,
   "id": "0c2c07fd-9d40-45a4-9ccc-209b059338c4",
   "metadata": {},
   "outputs": [
    {
     "data": {
      "text/plain": [
       "(14004, 404)"
      ]
     },
     "execution_count": 445,
     "metadata": {},
     "output_type": "execute_result"
    }
   ],
   "source": [
    "df_norm.shape"
   ]
  },
  {
   "cell_type": "code",
   "execution_count": 446,
   "id": "2a9b2198-6c25-4dd6-851b-65e36f0fc67b",
   "metadata": {},
   "outputs": [
    {
     "data": {
      "text/plain": [
       "Nucleus                  4043\n",
       "Cytoplasm                2688\n",
       "Extracellular            1973\n",
       "Mitochondrion            1510\n",
       "Cell Membrane            1340\n",
       "Endoplasmic Reticulum     862\n",
       "Plastid                   757\n",
       "Golgi Apparatus           356\n",
       "Lysosome/Vacuole          321\n",
       "Peroxisome                154\n",
       "Name: Cell_Location, dtype: int64"
      ]
     },
     "execution_count": 446,
     "metadata": {},
     "output_type": "execute_result"
    }
   ],
   "source": [
    "df_norm[\"Cell_Location\"].value_counts()"
   ]
  },
  {
   "cell_type": "code",
   "execution_count": 447,
   "id": "b27a0b48-9435-4d02-905a-92391e6c2b11",
   "metadata": {},
   "outputs": [],
   "source": [
    "#we now need to convert our Y values into categorical data types, so we can make predictions using Kmeans:\n",
    "\n",
    "categorical_var = {\n",
    "    \"Nucleus\" : 0, \n",
    "    \"Cytoplasm\" : 1, \n",
    "    \"Extracellular\" : 2,\n",
    "    \"Mitochondrion\" : 3,\n",
    "    \"Cell Membrane\" : 4,\n",
    "    \"Endoplasmic Reticulum\" : 5,\n",
    "    \"Plastid\" : 6,\n",
    "    \"Golgi Apparatus\" : 7,\n",
    "    \"Lysosome/Vacuole\" : 8,\n",
    "    \"Peroxisome\" : 9   \n",
    "}"
   ]
  },
  {
   "cell_type": "code",
   "execution_count": 448,
   "id": "8a98f2ba-11d6-4044-b001-64c9a6d52861",
   "metadata": {},
   "outputs": [],
   "source": [
    "#use the same remapping code from above:\n",
    "\n",
    "new_var_mapping_dict = {key: categorical_var[key] for key in df_norm[\"Cell_Location\"].unique()}\n",
    "\n",
    "df_norm[\"Cell_Cat\"] = df_norm[\"Cell_Location\"].map(new_var_mapping_dict)\n"
   ]
  },
  {
   "cell_type": "code",
   "execution_count": 449,
   "id": "439a1f07-dd20-42b6-962f-99e6602eb20e",
   "metadata": {},
   "outputs": [
    {
     "data": {
      "text/html": [
       "<div>\n",
       "<style scoped>\n",
       "    .dataframe tbody tr th:only-of-type {\n",
       "        vertical-align: middle;\n",
       "    }\n",
       "\n",
       "    .dataframe tbody tr th {\n",
       "        vertical-align: top;\n",
       "    }\n",
       "\n",
       "    .dataframe thead th {\n",
       "        text-align: right;\n",
       "    }\n",
       "</style>\n",
       "<table border=\"1\" class=\"dataframe\">\n",
       "  <thead>\n",
       "    <tr style=\"text-align: right;\">\n",
       "      <th></th>\n",
       "      <th>AA</th>\n",
       "      <th>AC</th>\n",
       "      <th>AD</th>\n",
       "      <th>AE</th>\n",
       "      <th>AF</th>\n",
       "      <th>AG</th>\n",
       "      <th>AH</th>\n",
       "      <th>AI</th>\n",
       "      <th>AK</th>\n",
       "      <th>AL</th>\n",
       "      <th>...</th>\n",
       "      <th>YS</th>\n",
       "      <th>YT</th>\n",
       "      <th>YV</th>\n",
       "      <th>YW</th>\n",
       "      <th>YY</th>\n",
       "      <th>seq_id</th>\n",
       "      <th>seq_description</th>\n",
       "      <th>Cells</th>\n",
       "      <th>Cell_Location</th>\n",
       "      <th>Cell_Cat</th>\n",
       "    </tr>\n",
       "  </thead>\n",
       "  <tbody>\n",
       "    <tr>\n",
       "      <th>0</th>\n",
       "      <td>0.272800</td>\n",
       "      <td>0.034096</td>\n",
       "      <td>0.000000</td>\n",
       "      <td>0.068203</td>\n",
       "      <td>0.034096</td>\n",
       "      <td>0.170501</td>\n",
       "      <td>0.000000</td>\n",
       "      <td>0.034096</td>\n",
       "      <td>0.000000</td>\n",
       "      <td>0.272800</td>\n",
       "      <td>...</td>\n",
       "      <td>0.068203</td>\n",
       "      <td>0.000000</td>\n",
       "      <td>0.000000</td>\n",
       "      <td>0.000000</td>\n",
       "      <td>0.000000</td>\n",
       "      <td>Q9H400</td>\n",
       "      <td>Q9H400_Cell.membrane-M_test</td>\n",
       "      <td>[Q9H400, Cell.membrane-M, test]</td>\n",
       "      <td>Cell Membrane</td>\n",
       "      <td>4</td>\n",
       "    </tr>\n",
       "    <tr>\n",
       "      <th>1</th>\n",
       "      <td>0.085497</td>\n",
       "      <td>0.064123</td>\n",
       "      <td>0.021374</td>\n",
       "      <td>0.021374</td>\n",
       "      <td>0.042748</td>\n",
       "      <td>0.064123</td>\n",
       "      <td>0.021374</td>\n",
       "      <td>0.149607</td>\n",
       "      <td>0.042748</td>\n",
       "      <td>0.256478</td>\n",
       "      <td>...</td>\n",
       "      <td>0.000000</td>\n",
       "      <td>0.021374</td>\n",
       "      <td>0.042748</td>\n",
       "      <td>0.000000</td>\n",
       "      <td>0.021374</td>\n",
       "      <td>Q5I0E9</td>\n",
       "      <td>Q5I0E9_Cell.membrane-M</td>\n",
       "      <td>[Q5I0E9, Cell.membrane-M]</td>\n",
       "      <td>Cell Membrane</td>\n",
       "      <td>4</td>\n",
       "    </tr>\n",
       "    <tr>\n",
       "      <th>2</th>\n",
       "      <td>0.045042</td>\n",
       "      <td>0.000000</td>\n",
       "      <td>0.000000</td>\n",
       "      <td>0.090072</td>\n",
       "      <td>0.045042</td>\n",
       "      <td>0.045042</td>\n",
       "      <td>0.000000</td>\n",
       "      <td>0.000000</td>\n",
       "      <td>0.180143</td>\n",
       "      <td>0.045042</td>\n",
       "      <td>...</td>\n",
       "      <td>0.000000</td>\n",
       "      <td>0.045042</td>\n",
       "      <td>0.045042</td>\n",
       "      <td>0.000000</td>\n",
       "      <td>0.000000</td>\n",
       "      <td>P63033</td>\n",
       "      <td>P63033_Cell.membrane-M</td>\n",
       "      <td>[P63033, Cell.membrane-M]</td>\n",
       "      <td>Cell Membrane</td>\n",
       "      <td>4</td>\n",
       "    </tr>\n",
       "    <tr>\n",
       "      <th>3</th>\n",
       "      <td>0.074040</td>\n",
       "      <td>0.000000</td>\n",
       "      <td>0.037013</td>\n",
       "      <td>0.055527</td>\n",
       "      <td>0.055527</td>\n",
       "      <td>0.037013</td>\n",
       "      <td>0.037013</td>\n",
       "      <td>0.092539</td>\n",
       "      <td>0.092539</td>\n",
       "      <td>0.037013</td>\n",
       "      <td>...</td>\n",
       "      <td>0.074040</td>\n",
       "      <td>0.037013</td>\n",
       "      <td>0.000000</td>\n",
       "      <td>0.018514</td>\n",
       "      <td>0.000000</td>\n",
       "      <td>Q9NR71</td>\n",
       "      <td>Q9NR71_Cell.membrane-M</td>\n",
       "      <td>[Q9NR71, Cell.membrane-M]</td>\n",
       "      <td>Cell Membrane</td>\n",
       "      <td>4</td>\n",
       "    </tr>\n",
       "    <tr>\n",
       "      <th>4</th>\n",
       "      <td>0.000000</td>\n",
       "      <td>0.000000</td>\n",
       "      <td>0.000000</td>\n",
       "      <td>0.000000</td>\n",
       "      <td>0.000000</td>\n",
       "      <td>0.156530</td>\n",
       "      <td>0.039133</td>\n",
       "      <td>0.000000</td>\n",
       "      <td>0.000000</td>\n",
       "      <td>0.039133</td>\n",
       "      <td>...</td>\n",
       "      <td>0.000000</td>\n",
       "      <td>0.000000</td>\n",
       "      <td>0.000000</td>\n",
       "      <td>0.000000</td>\n",
       "      <td>0.000000</td>\n",
       "      <td>Q86XT9</td>\n",
       "      <td>Q86XT9_Cell.membrane-M</td>\n",
       "      <td>[Q86XT9, Cell.membrane-M]</td>\n",
       "      <td>Cell Membrane</td>\n",
       "      <td>4</td>\n",
       "    </tr>\n",
       "  </tbody>\n",
       "</table>\n",
       "<p>5 rows × 405 columns</p>\n",
       "</div>"
      ],
      "text/plain": [
       "         AA        AC        AD        AE        AF        AG        AH  \\\n",
       "0  0.272800  0.034096  0.000000  0.068203  0.034096  0.170501  0.000000   \n",
       "1  0.085497  0.064123  0.021374  0.021374  0.042748  0.064123  0.021374   \n",
       "2  0.045042  0.000000  0.000000  0.090072  0.045042  0.045042  0.000000   \n",
       "3  0.074040  0.000000  0.037013  0.055527  0.055527  0.037013  0.037013   \n",
       "4  0.000000  0.000000  0.000000  0.000000  0.000000  0.156530  0.039133   \n",
       "\n",
       "         AI        AK        AL  ...        YS        YT        YV        YW  \\\n",
       "0  0.034096  0.000000  0.272800  ...  0.068203  0.000000  0.000000  0.000000   \n",
       "1  0.149607  0.042748  0.256478  ...  0.000000  0.021374  0.042748  0.000000   \n",
       "2  0.000000  0.180143  0.045042  ...  0.000000  0.045042  0.045042  0.000000   \n",
       "3  0.092539  0.092539  0.037013  ...  0.074040  0.037013  0.000000  0.018514   \n",
       "4  0.000000  0.000000  0.039133  ...  0.000000  0.000000  0.000000  0.000000   \n",
       "\n",
       "         YY  seq_id              seq_description  \\\n",
       "0  0.000000  Q9H400  Q9H400_Cell.membrane-M_test   \n",
       "1  0.021374  Q5I0E9       Q5I0E9_Cell.membrane-M   \n",
       "2  0.000000  P63033       P63033_Cell.membrane-M   \n",
       "3  0.000000  Q9NR71       Q9NR71_Cell.membrane-M   \n",
       "4  0.000000  Q86XT9       Q86XT9_Cell.membrane-M   \n",
       "\n",
       "                             Cells  Cell_Location  Cell_Cat  \n",
       "0  [Q9H400, Cell.membrane-M, test]  Cell Membrane         4  \n",
       "1        [Q5I0E9, Cell.membrane-M]  Cell Membrane         4  \n",
       "2        [P63033, Cell.membrane-M]  Cell Membrane         4  \n",
       "3        [Q9NR71, Cell.membrane-M]  Cell Membrane         4  \n",
       "4        [Q86XT9, Cell.membrane-M]  Cell Membrane         4  \n",
       "\n",
       "[5 rows x 405 columns]"
      ]
     },
     "execution_count": 449,
     "metadata": {},
     "output_type": "execute_result"
    }
   ],
   "source": [
    "df_norm.head()"
   ]
  },
  {
   "cell_type": "code",
   "execution_count": 450,
   "id": "9a2c71db-65a3-4d72-9b05-0492898a4823",
   "metadata": {},
   "outputs": [],
   "source": [
    "#we can see that this worked, given the above:"
   ]
  },
  {
   "cell_type": "markdown",
   "id": "fb984e65-9d77-4388-8b65-2d0317725918",
   "metadata": {
    "jp-MarkdownHeadingCollapsed": true,
    "tags": []
   },
   "source": [
    "### Defining X and y Values:"
   ]
  },
  {
   "cell_type": "code",
   "execution_count": 451,
   "id": "f74eab74-04f7-4c65-9dbb-8b4e69093348",
   "metadata": {},
   "outputs": [
    {
     "data": {
      "text/html": [
       "<div>\n",
       "<style scoped>\n",
       "    .dataframe tbody tr th:only-of-type {\n",
       "        vertical-align: middle;\n",
       "    }\n",
       "\n",
       "    .dataframe tbody tr th {\n",
       "        vertical-align: top;\n",
       "    }\n",
       "\n",
       "    .dataframe thead th {\n",
       "        text-align: right;\n",
       "    }\n",
       "</style>\n",
       "<table border=\"1\" class=\"dataframe\">\n",
       "  <thead>\n",
       "    <tr style=\"text-align: right;\">\n",
       "      <th></th>\n",
       "      <th>AA</th>\n",
       "      <th>AC</th>\n",
       "      <th>AD</th>\n",
       "      <th>AE</th>\n",
       "      <th>AF</th>\n",
       "      <th>AG</th>\n",
       "      <th>AH</th>\n",
       "      <th>AI</th>\n",
       "      <th>AK</th>\n",
       "      <th>AL</th>\n",
       "      <th>...</th>\n",
       "      <th>YS</th>\n",
       "      <th>YT</th>\n",
       "      <th>YV</th>\n",
       "      <th>YW</th>\n",
       "      <th>YY</th>\n",
       "      <th>seq_id</th>\n",
       "      <th>seq_description</th>\n",
       "      <th>Cells</th>\n",
       "      <th>Cell_Location</th>\n",
       "      <th>Cell_Cat</th>\n",
       "    </tr>\n",
       "  </thead>\n",
       "  <tbody>\n",
       "    <tr>\n",
       "      <th>0</th>\n",
       "      <td>0.272800</td>\n",
       "      <td>0.034096</td>\n",
       "      <td>0.000000</td>\n",
       "      <td>0.068203</td>\n",
       "      <td>0.034096</td>\n",
       "      <td>0.170501</td>\n",
       "      <td>0.000000</td>\n",
       "      <td>0.034096</td>\n",
       "      <td>0.000000</td>\n",
       "      <td>0.272800</td>\n",
       "      <td>...</td>\n",
       "      <td>0.068203</td>\n",
       "      <td>0.000000</td>\n",
       "      <td>0.000000</td>\n",
       "      <td>0.000000</td>\n",
       "      <td>0.000000</td>\n",
       "      <td>Q9H400</td>\n",
       "      <td>Q9H400_Cell.membrane-M_test</td>\n",
       "      <td>[Q9H400, Cell.membrane-M, test]</td>\n",
       "      <td>Cell Membrane</td>\n",
       "      <td>4</td>\n",
       "    </tr>\n",
       "    <tr>\n",
       "      <th>1</th>\n",
       "      <td>0.085497</td>\n",
       "      <td>0.064123</td>\n",
       "      <td>0.021374</td>\n",
       "      <td>0.021374</td>\n",
       "      <td>0.042748</td>\n",
       "      <td>0.064123</td>\n",
       "      <td>0.021374</td>\n",
       "      <td>0.149607</td>\n",
       "      <td>0.042748</td>\n",
       "      <td>0.256478</td>\n",
       "      <td>...</td>\n",
       "      <td>0.000000</td>\n",
       "      <td>0.021374</td>\n",
       "      <td>0.042748</td>\n",
       "      <td>0.000000</td>\n",
       "      <td>0.021374</td>\n",
       "      <td>Q5I0E9</td>\n",
       "      <td>Q5I0E9_Cell.membrane-M</td>\n",
       "      <td>[Q5I0E9, Cell.membrane-M]</td>\n",
       "      <td>Cell Membrane</td>\n",
       "      <td>4</td>\n",
       "    </tr>\n",
       "    <tr>\n",
       "      <th>2</th>\n",
       "      <td>0.045042</td>\n",
       "      <td>0.000000</td>\n",
       "      <td>0.000000</td>\n",
       "      <td>0.090072</td>\n",
       "      <td>0.045042</td>\n",
       "      <td>0.045042</td>\n",
       "      <td>0.000000</td>\n",
       "      <td>0.000000</td>\n",
       "      <td>0.180143</td>\n",
       "      <td>0.045042</td>\n",
       "      <td>...</td>\n",
       "      <td>0.000000</td>\n",
       "      <td>0.045042</td>\n",
       "      <td>0.045042</td>\n",
       "      <td>0.000000</td>\n",
       "      <td>0.000000</td>\n",
       "      <td>P63033</td>\n",
       "      <td>P63033_Cell.membrane-M</td>\n",
       "      <td>[P63033, Cell.membrane-M]</td>\n",
       "      <td>Cell Membrane</td>\n",
       "      <td>4</td>\n",
       "    </tr>\n",
       "    <tr>\n",
       "      <th>3</th>\n",
       "      <td>0.074040</td>\n",
       "      <td>0.000000</td>\n",
       "      <td>0.037013</td>\n",
       "      <td>0.055527</td>\n",
       "      <td>0.055527</td>\n",
       "      <td>0.037013</td>\n",
       "      <td>0.037013</td>\n",
       "      <td>0.092539</td>\n",
       "      <td>0.092539</td>\n",
       "      <td>0.037013</td>\n",
       "      <td>...</td>\n",
       "      <td>0.074040</td>\n",
       "      <td>0.037013</td>\n",
       "      <td>0.000000</td>\n",
       "      <td>0.018514</td>\n",
       "      <td>0.000000</td>\n",
       "      <td>Q9NR71</td>\n",
       "      <td>Q9NR71_Cell.membrane-M</td>\n",
       "      <td>[Q9NR71, Cell.membrane-M]</td>\n",
       "      <td>Cell Membrane</td>\n",
       "      <td>4</td>\n",
       "    </tr>\n",
       "    <tr>\n",
       "      <th>4</th>\n",
       "      <td>0.000000</td>\n",
       "      <td>0.000000</td>\n",
       "      <td>0.000000</td>\n",
       "      <td>0.000000</td>\n",
       "      <td>0.000000</td>\n",
       "      <td>0.156530</td>\n",
       "      <td>0.039133</td>\n",
       "      <td>0.000000</td>\n",
       "      <td>0.000000</td>\n",
       "      <td>0.039133</td>\n",
       "      <td>...</td>\n",
       "      <td>0.000000</td>\n",
       "      <td>0.000000</td>\n",
       "      <td>0.000000</td>\n",
       "      <td>0.000000</td>\n",
       "      <td>0.000000</td>\n",
       "      <td>Q86XT9</td>\n",
       "      <td>Q86XT9_Cell.membrane-M</td>\n",
       "      <td>[Q86XT9, Cell.membrane-M]</td>\n",
       "      <td>Cell Membrane</td>\n",
       "      <td>4</td>\n",
       "    </tr>\n",
       "  </tbody>\n",
       "</table>\n",
       "<p>5 rows × 405 columns</p>\n",
       "</div>"
      ],
      "text/plain": [
       "         AA        AC        AD        AE        AF        AG        AH  \\\n",
       "0  0.272800  0.034096  0.000000  0.068203  0.034096  0.170501  0.000000   \n",
       "1  0.085497  0.064123  0.021374  0.021374  0.042748  0.064123  0.021374   \n",
       "2  0.045042  0.000000  0.000000  0.090072  0.045042  0.045042  0.000000   \n",
       "3  0.074040  0.000000  0.037013  0.055527  0.055527  0.037013  0.037013   \n",
       "4  0.000000  0.000000  0.000000  0.000000  0.000000  0.156530  0.039133   \n",
       "\n",
       "         AI        AK        AL  ...        YS        YT        YV        YW  \\\n",
       "0  0.034096  0.000000  0.272800  ...  0.068203  0.000000  0.000000  0.000000   \n",
       "1  0.149607  0.042748  0.256478  ...  0.000000  0.021374  0.042748  0.000000   \n",
       "2  0.000000  0.180143  0.045042  ...  0.000000  0.045042  0.045042  0.000000   \n",
       "3  0.092539  0.092539  0.037013  ...  0.074040  0.037013  0.000000  0.018514   \n",
       "4  0.000000  0.000000  0.039133  ...  0.000000  0.000000  0.000000  0.000000   \n",
       "\n",
       "         YY  seq_id              seq_description  \\\n",
       "0  0.000000  Q9H400  Q9H400_Cell.membrane-M_test   \n",
       "1  0.021374  Q5I0E9       Q5I0E9_Cell.membrane-M   \n",
       "2  0.000000  P63033       P63033_Cell.membrane-M   \n",
       "3  0.000000  Q9NR71       Q9NR71_Cell.membrane-M   \n",
       "4  0.000000  Q86XT9       Q86XT9_Cell.membrane-M   \n",
       "\n",
       "                             Cells  Cell_Location  Cell_Cat  \n",
       "0  [Q9H400, Cell.membrane-M, test]  Cell Membrane         4  \n",
       "1        [Q5I0E9, Cell.membrane-M]  Cell Membrane         4  \n",
       "2        [P63033, Cell.membrane-M]  Cell Membrane         4  \n",
       "3        [Q9NR71, Cell.membrane-M]  Cell Membrane         4  \n",
       "4        [Q86XT9, Cell.membrane-M]  Cell Membrane         4  \n",
       "\n",
       "[5 rows x 405 columns]"
      ]
     },
     "execution_count": 451,
     "metadata": {},
     "output_type": "execute_result"
    }
   ],
   "source": [
    "df_norm.head()"
   ]
  },
  {
   "cell_type": "code",
   "execution_count": 452,
   "id": "3b9154ec-3431-48c9-9ec9-ab5521f55043",
   "metadata": {},
   "outputs": [],
   "source": [
    "#we do not need the following columns:\n",
    "columns_not_to_include = [\"seq_id\", \"seq_description\", \"Cells\", \"Cell_Location\", \"Cell_Cat\"]"
   ]
  },
  {
   "cell_type": "code",
   "execution_count": 505,
   "id": "b370519c-0252-4ec1-a248-1f3443504be3",
   "metadata": {},
   "outputs": [],
   "source": [
    "X = df_norm.drop(columns = columns_not_to_include, axis=1)\n",
    "y = df_norm[\"Cell_Cat\"]"
   ]
  },
  {
   "cell_type": "markdown",
   "id": "536e74fa-5cf2-4bc7-8f6d-ce54e50efc18",
   "metadata": {
    "jp-MarkdownHeadingCollapsed": true,
    "tags": []
   },
   "source": [
    "### Intertia Elbow Curve (Just like Figure 9-8 from textbook):"
   ]
  },
  {
   "cell_type": "code",
   "execution_count": 455,
   "id": "5a9fedea-29cd-471a-9b93-96a997bab91a",
   "metadata": {},
   "outputs": [],
   "source": [
    "from sklearn.cluster import KMeans"
   ]
  },
  {
   "cell_type": "code",
   "execution_count": 458,
   "id": "60da2ef2-3e39-4670-b331-45a33bfe0469",
   "metadata": {},
   "outputs": [
    {
     "data": {
      "image/png": "[encoded data removed]",
      "text/plain": [
       "<Figure size 640x480 with 1 Axes>"
      ]
     },
     "metadata": {},
     "output_type": "display_data"
    }
   ],
   "source": [
    "#Create a range of possible K values to try\n",
    "k_values = range(1, 11)\n",
    "\n",
    "#create an empty list that we will use to append our kmeans.inertia_ values to as we iterate through:\n",
    "inertias = []\n",
    "\n",
    "#create a for-loop that iterates through different k values, fitting the model for each value and calculate the inertia\n",
    "#I also need to then append this interia value to the intertias list:\n",
    "\n",
    "for k in k_values:\n",
    "    kmeans = KMeans(n_clusters=k, n_init=\"auto\")\n",
    "    kmeans.fit(X)\n",
    "    inertias.append(kmeans.inertia_)\n",
    "\n",
    "#plot the curve, just like in the textbook figure 9-8:\n",
    "#plt.plot(X, y)\n",
    "plt.plot(k_values, inertias, \"-o\")\n",
    "plt.xlabel(\"Number of clusters (k-value)\")\n",
    "plt.ylabel(\"Intertia\")\n",
    "plt.title(\"Interta Elbow Curve\")\n",
    "plt.xticks(np.arange(1, 11, 1))\n",
    "plt.show()\n"
   ]
  },
  {
   "cell_type": "markdown",
   "id": "3dbf8799-cff8-49af-92b7-670f45a3701b",
   "metadata": {},
   "source": [
    "From the above, we can see that around k-value 7, the \"elbow\" like structure appears. Within this visual, there isn't a well defined elbow structure, but we can see that the intertia values begin to taper off. The intertia values begins to drop very quickly as we initially increase k, but then after point k=7, it decreases much more slowly as we continue to increase k value."
   ]
  },
  {
   "cell_type": "markdown",
   "id": "3602ea97-7c7d-43c6-9482-4837b5df51ff",
   "metadata": {
    "jp-MarkdownHeadingCollapsed": true,
    "tags": []
   },
   "source": [
    "### Silhouette Scores (Just Like Figure 9-9 from textbook):"
   ]
  },
  {
   "cell_type": "code",
   "execution_count": 459,
   "id": "a7940c81-5197-4c7c-acfc-22e59dc47f8e",
   "metadata": {},
   "outputs": [],
   "source": [
    "from sklearn.metrics import silhouette_score"
   ]
  },
  {
   "cell_type": "code",
   "execution_count": 463,
   "id": "bf41283f-43a4-482c-a871-b0583c4eecf6",
   "metadata": {},
   "outputs": [],
   "source": [
    "#from the textbook: \n",
    "\n",
    "scores = list()\n",
    "for k in range(2, 10):\n",
    "    kmeans = KMeans(n_clusters=k, n_init=\"auto\")\n",
    "    kmeans.fit(X)\n",
    "    scores.append(silhouette_score(X, kmeans.labels_))\n",
    "    del(kmeans)"
   ]
  },
  {
   "cell_type": "code",
   "execution_count": 464,
   "id": "97bb6ad0-c3e9-4171-ba0c-e6a73902e8b8",
   "metadata": {},
   "outputs": [
    {
     "data": {
      "image/png": "[encoded data removed]",
      "text/plain": [
       "<Figure size 640x480 with 1 Axes>"
      ]
     },
     "metadata": {},
     "output_type": "display_data"
    }
   ],
   "source": [
    "plt.plot(list(range(2, 10)), scores)\n",
    "plt.xlabel(\"Number of clusters (k-value)\")\n",
    "plt.ylabel(\"Silhouette Score\")\n",
    "plt.title(\"Silhouette Score Visual\")\n",
    "plt.show()"
   ]
  },
  {
   "cell_type": "markdown",
   "id": "e12e320b-b4cc-4cc7-8e4a-e0d54270376e",
   "metadata": {},
   "source": [
    "From the above, we can see that we achieve the highest Silhouette Score at K = 2. At this k value, according to this the SS, we achieve the best separation between the clusters."
   ]
  },
  {
   "cell_type": "markdown",
   "id": "6c523d62-d7e9-487a-ae2b-ca7f39bba099",
   "metadata": {
    "tags": []
   },
   "source": [
    "## Q2.) Repeat part 1 on the data with reduced dimension (2-dim) by PCA.\n",
    "\n",
    "In addition, do the following.\n",
    "\n",
    "- What is the explained variance ratio respectively for the first 2 principal components?\n",
    "- Draw the plot showing cluster boundaries (Voronoi tessellation) like Figure 9-3 in the textbook.\n",
    "- Discuss the clustering quality as compared with visual inspection.\n",
    "- Whether the optimal k and the corresponding inertia and Silhouette scores from part 1 with\n",
    "\n",
    "full dimension and from part 2 with reduced dimension are consistent. \n",
    "\n",
    "\n",
    "\n",
    "\n",
    "\n"
   ]
  },
  {
   "cell_type": "markdown",
   "id": "fc837848-bac1-49c6-a231-ad1f5d03feb5",
   "metadata": {
    "jp-MarkdownHeadingCollapsed": true,
    "tags": []
   },
   "source": [
    "### Variance Ratio for the first two principal components:"
   ]
  },
  {
   "cell_type": "code",
   "execution_count": 509,
   "id": "5edc2910-daf6-4991-ae57-75eab5d8eb26",
   "metadata": {},
   "outputs": [],
   "source": [
    "#From pg 225 textbook pdf:\n",
    "\n",
    "from sklearn.decomposition import PCA \n",
    "\n",
    "pca = PCA(n_components = 2)\n",
    "X2D = pca.fit_transform(X)"
   ]
  },
  {
   "cell_type": "code",
   "execution_count": 510,
   "id": "90477d97-a11f-4910-a2a3-d0cb64384b19",
   "metadata": {},
   "outputs": [
    {
     "data": {
      "text/plain": [
       "array([0.04691755, 0.04238287])"
      ]
     },
     "execution_count": 510,
     "metadata": {},
     "output_type": "execute_result"
    }
   ],
   "source": [
    "pca.explained_variance_ratio_"
   ]
  },
  {
   "cell_type": "markdown",
   "id": "a788c76f-c138-415d-80cc-5e23638b9741",
   "metadata": {},
   "source": [
    "Within the above, we can see that 4.7% of the dataset's variance lies along the first axis, and 4.2% lies along the second axis."
   ]
  },
  {
   "cell_type": "markdown",
   "id": "84d17595-8e2e-4b0d-97eb-944840ac00c4",
   "metadata": {
    "jp-MarkdownHeadingCollapsed": true,
    "tags": []
   },
   "source": [
    "### Optimal K values compared to original Inertia and Silhouhette Scores from part 1 w/Full Dimension:"
   ]
  },
  {
   "cell_type": "code",
   "execution_count": 467,
   "id": "2c22664c-6a4e-48b0-bc5b-20a099deebf3",
   "metadata": {},
   "outputs": [],
   "source": [
    "#recreate the kmeans using X2D:"
   ]
  },
  {
   "cell_type": "code",
   "execution_count": 468,
   "id": "214276d7-569a-4195-9845-bb650ebdad6a",
   "metadata": {},
   "outputs": [
    {
     "data": {
      "image/png": "[encoded data removed]",
      "text/plain": [
       "<Figure size 640x480 with 1 Axes>"
      ]
     },
     "metadata": {},
     "output_type": "display_data"
    }
   ],
   "source": [
    "#Create a range of possible K values to try\n",
    "k_values = range(1, 10)\n",
    "\n",
    "#create an empty list that we will use to append our kmeans.inertia_ values to as we iterate through:\n",
    "inertias = []\n",
    "\n",
    "#create a for-loop that iterates through different k values, fitting the model for each value and calculate the inertia\n",
    "#I also need to then append this interia value to the intertias list:\n",
    "\n",
    "for k in k_values:\n",
    "    kmeans = KMeans(n_clusters=k, n_init=\"auto\")\n",
    "    kmeans.fit(X2D)\n",
    "    inertias.append(kmeans.inertia_)\n",
    "\n",
    "#plot the curve, just like in the textbook figure 9-8:\n",
    "#plt.plot(X, y)\n",
    "plt.plot(k_values, inertias, \"-o\")\n",
    "plt.xlabel(\"Number of clusters (k-value)\")\n",
    "plt.ylabel(\"Inertia\")\n",
    "plt.title(\"Inertia Elbow Curve\")\n",
    "plt.xticks(np.arange(1, 10, 1))\n",
    "plt.show()\n"
   ]
  },
  {
   "cell_type": "markdown",
   "id": "7d24bdae-28cd-42b2-8987-55639785ba22",
   "metadata": {},
   "source": [
    "Given the above within the Inertia Curve, we can see that the \"elbow\" begins to form at k = 3 value. Beyond this point at k=3, we can see that the inertia scores begin to taper off. Any higher k-value past 3 or 4 would not help much. Just like the textbook states, if we were to continue choosing higher k values, we could end up splitting perfectly good clusters in half for no logical reason."
   ]
  },
  {
   "cell_type": "code",
   "execution_count": 135,
   "id": "9c65f3f8-6693-4e0d-a847-29b92b3463a0",
   "metadata": {},
   "outputs": [],
   "source": [
    "#change X to X2D:\n",
    "\n",
    "scores = list()\n",
    "for k in range(2, 10):\n",
    "    kmeans = KMeans(n_clusters=k, n_init=\"auto\")\n",
    "    kmeans.fit(X2D)\n",
    "    scores.append(silhouette_score(X2D, kmeans.labels_))\n",
    "    del(kmeans)"
   ]
  },
  {
   "cell_type": "code",
   "execution_count": 136,
   "id": "20202a15-4756-4291-8680-f027bfb18798",
   "metadata": {},
   "outputs": [
    {
     "data": {
      "image/png": "[encoded data removed]",
      "text/plain": [
       "<Figure size 640x480 with 1 Axes>"
      ]
     },
     "metadata": {},
     "output_type": "display_data"
    }
   ],
   "source": [
    "plt.plot(list(range(2, 10)), scores)\n",
    "plt.xlabel(\"Number of clusters (k-value)\")\n",
    "plt.ylabel(\"Silhouette Score\")\n",
    "plt.title(\"Silhouette Score Visual\")\n",
    "plt.show()"
   ]
  },
  {
   "cell_type": "markdown",
   "id": "67bd68ac-2b49-4691-9575-68eb1cd884f0",
   "metadata": {},
   "source": [
    "Given the above Silhouette Score visual, we can see that at k=3, we achieve our highest score. At this higher Silohouette score, it indicates that the clusters are more tightly packed and well separated from eachother."
   ]
  },
  {
   "cell_type": "markdown",
   "id": "2f427be1-3f44-40f9-8a10-e59d92712c2e",
   "metadata": {},
   "source": [
    "With both, the new Inertia Curve and the new Silhouette Scores, we can see that the optimal k value has decreased. Originally, with the full dimension kmeans model, we saw that there was a higher optimal k-value, but once we reduced the dimensions, we see lower optimal k values. When we think about this, it makes sense given that when we reduced the dimenonsionality of the data, we removed some of the noise and or irrelvant information from the mdoel. As a result of this, our new trained model with the reduced dimensions contains more relevant information and structure, which allowed for better separation and clustering."
   ]
  },
  {
   "cell_type": "markdown",
   "id": "59f3728d-0b76-4152-85ce-9cb6a06b3f85",
   "metadata": {
    "jp-MarkdownHeadingCollapsed": true,
    "tags": []
   },
   "source": [
    "### Vorononoi Tessellation Diagrams (Just like Figure 9-3 in textbook):"
   ]
  },
  {
   "cell_type": "code",
   "execution_count": 518,
   "id": "9d4f3bb6-9380-41e0-9ff8-0e3f38a9b1fa",
   "metadata": {},
   "outputs": [],
   "source": [
    "#Declare optimal K based on above and fit model: \n",
    "\n",
    "k = 3\n",
    "kmeans = KMeans(n_clusters=k, n_init=\"auto\")\n",
    "kmeans.fit(X2D)\n",
    "centers = kmeans.cluster_centers_"
   ]
  },
  {
   "cell_type": "code",
   "execution_count": 519,
   "id": "9740fd65-d665-4560-865d-21639222583f",
   "metadata": {},
   "outputs": [
    {
     "data": {
      "text/plain": [
       "array([[ 0.0588197 , -0.11713445],\n",
       "       [ 0.15623339,  0.16886064],\n",
       "       [-0.14573468,  0.03448062]])"
      ]
     },
     "execution_count": 519,
     "metadata": {},
     "output_type": "execute_result"
    }
   ],
   "source": [
    "centers"
   ]
  },
  {
   "cell_type": "code",
   "execution_count": 545,
   "id": "3fc528ab-de96-4e13-8909-a9a7d8599cf2",
   "metadata": {},
   "outputs": [
    {
     "data": {
      "text/plain": [
       "(14004, 2)"
      ]
     },
     "execution_count": 545,
     "metadata": {},
     "output_type": "execute_result"
    }
   ],
   "source": [
    "X2D.shape"
   ]
  },
  {
   "cell_type": "code",
   "execution_count": 547,
   "id": "4f5f849e-408e-480e-907f-0009c41b2eda",
   "metadata": {},
   "outputs": [
    {
     "data": {
      "text/plain": [
       "array([[ 0.31550157, -0.11473004],\n",
       "       [ 0.12972187, -0.29175264]])"
      ]
     },
     "execution_count": 547,
     "metadata": {},
     "output_type": "execute_result"
    }
   ],
   "source": [
    "X2D[:2]"
   ]
  },
  {
   "cell_type": "code",
   "execution_count": 555,
   "id": "7730c480-a5ea-4b9d-8c01-c5769b422136",
   "metadata": {},
   "outputs": [
    {
     "data": {
      "text/plain": [
       "array([ 0.31550157,  0.12972187, -0.04759262, ...,  0.27471521,\n",
       "        0.06845275,  0.23059044])"
      ]
     },
     "execution_count": 555,
     "metadata": {},
     "output_type": "execute_result"
    }
   ],
   "source": [
    "X2D[:, 0]"
   ]
  },
  {
   "cell_type": "code",
   "execution_count": 550,
   "id": "7be58029-301a-45c9-bc61-2f9a213f5b2c",
   "metadata": {},
   "outputs": [
    {
     "data": {
      "text/plain": [
       "-0.4761781219244716"
      ]
     },
     "execution_count": 550,
     "metadata": {},
     "output_type": "execute_result"
    }
   ],
   "source": [
    "X2D[:, 0].min()"
   ]
  },
  {
   "cell_type": "code",
   "execution_count": 560,
   "id": "431a899c-ee1f-4cf1-82e1-f5ceb7548096",
   "metadata": {},
   "outputs": [],
   "source": [
    "#create meshgrid (I had to look this up and used a couple different guides to create it): \n",
    "\n",
    "x_min = X2D[:, 0].min() - 1\n",
    "x_max = X2D[:, 0].max() + 1\n",
    "\n",
    "y_min = X2D[:, 1].min() - 1\n",
    "y_max = X2D[:, 1].max() + 1\n",
    "\n",
    "xx, yy = np.meshgrid(np.arange(x_min, x_max, 0.01),\n",
    "                     np.arange(y_min, y_max, 0.01))"
   ]
  },
  {
   "cell_type": "code",
   "execution_count": 556,
   "id": "1122b5bc-3e07-4cad-8282-684d152fc203",
   "metadata": {},
   "outputs": [
    {
     "data": {
      "text/plain": [
       "array([2, 2, 2, ..., 1, 1, 1], dtype=int32)"
      ]
     },
     "execution_count": 556,
     "metadata": {},
     "output_type": "execute_result"
    }
   ],
   "source": [
    "kmeans.predict(np.c_[xx.ravel(), yy.ravel()])"
   ]
  },
  {
   "cell_type": "code",
   "execution_count": 557,
   "id": "07e29eee-cef4-4cec-b088-1ee5b93b2dc1",
   "metadata": {},
   "outputs": [
    {
     "data": {
      "text/plain": [
       "array([-1.47617812, -1.46617812, -1.45617812, ...,  1.56382188,\n",
       "        1.57382188,  1.58382188])"
      ]
     },
     "execution_count": 557,
     "metadata": {},
     "output_type": "execute_result"
    }
   ],
   "source": [
    "xx.ravel()"
   ]
  },
  {
   "cell_type": "code",
   "execution_count": 558,
   "id": "2221f92c-17fe-425c-8472-e2b2a118b0fc",
   "metadata": {},
   "outputs": [],
   "source": [
    "#use np.c to flatten the array & make predictions\n",
    "\n",
    "Z = kmeans.predict(np.c_[xx.ravel(), yy.ravel()])\n",
    "Z = Z.reshape(xx.shape)"
   ]
  },
  {
   "cell_type": "code",
   "execution_count": 562,
   "id": "0da26252-7bce-4fa0-bd0e-a26cb753489f",
   "metadata": {},
   "outputs": [
    {
     "data": {
      "image/png": "[encoded data removed]",
      "text/plain": [
       "<Figure size 1200x1000 with 1 Axes>"
      ]
     },
     "metadata": {},
     "output_type": "display_data"
    }
   ],
   "source": [
    "plt.figure(figsize=(12, 10))\n",
    "plt.contourf(xx, yy, Z, alpha=0.5)\n",
    "plt.scatter(X2D[:, 0], X2D[:, 1], c=kmeans.labels_, cmap=\"viridis\")\n",
    "plt.scatter(centers[:, 0], centers[:, 1], marker=\"o\", s=500, linewidths=3,\n",
    "            color=\"r\", zorder=10)\n",
    "plt.title(\"K Means Model w/Decision Boundaries\")\n",
    "plt.xlabel(\"X 1\")\n",
    "plt.ylabel(\"X 2\")\n",
    "plt.show()\n"
   ]
  },
  {
   "cell_type": "markdown",
   "id": "41e89014-4d3d-47f5-9ccc-1de0474803d1",
   "metadata": {},
   "source": [
    "Within the visual above, the vast majority of the instances were clearly assigned to the appropriate cluster. We can see a few instances were most likely mislabeled (especially as we look near the central boundary between the three clusters)."
   ]
  },
  {
   "cell_type": "markdown",
   "id": "6f34706b-da16-4a65-b079-9edc14f98294",
   "metadata": {
    "jp-MarkdownHeadingCollapsed": true,
    "tags": []
   },
   "source": [
    "## 3) Evaluate the clustering performance. For k = 10, evaluate the clustering results as compared with the ground-truth labels. For each cluster, label it with the locus having the maximum number of proteins in the cluster. Then, produce the confusion matrix for the 10 subcellular loci. "
   ]
  },
  {
   "cell_type": "code",
   "execution_count": 264,
   "id": "065b2318-66db-43c7-9d95-7987985eedd3",
   "metadata": {},
   "outputs": [
    {
     "data": {
      "text/html": [
       "<div>\n",
       "<style scoped>\n",
       "    .dataframe tbody tr th:only-of-type {\n",
       "        vertical-align: middle;\n",
       "    }\n",
       "\n",
       "    .dataframe tbody tr th {\n",
       "        vertical-align: top;\n",
       "    }\n",
       "\n",
       "    .dataframe thead th {\n",
       "        text-align: right;\n",
       "    }\n",
       "</style>\n",
       "<table border=\"1\" class=\"dataframe\">\n",
       "  <thead>\n",
       "    <tr style=\"text-align: right;\">\n",
       "      <th></th>\n",
       "      <th>AA</th>\n",
       "      <th>AC</th>\n",
       "      <th>AD</th>\n",
       "      <th>AE</th>\n",
       "      <th>AF</th>\n",
       "      <th>AG</th>\n",
       "      <th>AH</th>\n",
       "      <th>AI</th>\n",
       "      <th>AK</th>\n",
       "      <th>AL</th>\n",
       "      <th>...</th>\n",
       "      <th>YS</th>\n",
       "      <th>YT</th>\n",
       "      <th>YV</th>\n",
       "      <th>YW</th>\n",
       "      <th>YY</th>\n",
       "      <th>seq_id</th>\n",
       "      <th>seq_description</th>\n",
       "      <th>Cells</th>\n",
       "      <th>Cell_Location</th>\n",
       "      <th>Cell_Cat</th>\n",
       "    </tr>\n",
       "  </thead>\n",
       "  <tbody>\n",
       "    <tr>\n",
       "      <th>0</th>\n",
       "      <td>0.2728</td>\n",
       "      <td>0.034096</td>\n",
       "      <td>0.0</td>\n",
       "      <td>0.068203</td>\n",
       "      <td>0.034096</td>\n",
       "      <td>0.170501</td>\n",
       "      <td>0.0</td>\n",
       "      <td>0.034096</td>\n",
       "      <td>0.0</td>\n",
       "      <td>0.2728</td>\n",
       "      <td>...</td>\n",
       "      <td>0.068203</td>\n",
       "      <td>0.0</td>\n",
       "      <td>0.0</td>\n",
       "      <td>0.0</td>\n",
       "      <td>0.0</td>\n",
       "      <td>Q9H400</td>\n",
       "      <td>Q9H400_Cell.membrane-M_test</td>\n",
       "      <td>[Q9H400, Cell.membrane-M, test]</td>\n",
       "      <td>Cell Membrane</td>\n",
       "      <td>4</td>\n",
       "    </tr>\n",
       "  </tbody>\n",
       "</table>\n",
       "<p>1 rows × 405 columns</p>\n",
       "</div>"
      ],
      "text/plain": [
       "       AA        AC   AD        AE        AF        AG   AH        AI   AK  \\\n",
       "0  0.2728  0.034096  0.0  0.068203  0.034096  0.170501  0.0  0.034096  0.0   \n",
       "\n",
       "       AL  ...        YS   YT   YV   YW   YY  seq_id  \\\n",
       "0  0.2728  ...  0.068203  0.0  0.0  0.0  0.0  Q9H400   \n",
       "\n",
       "               seq_description                            Cells  \\\n",
       "0  Q9H400_Cell.membrane-M_test  [Q9H400, Cell.membrane-M, test]   \n",
       "\n",
       "   Cell_Location  Cell_Cat  \n",
       "0  Cell Membrane         4  \n",
       "\n",
       "[1 rows x 405 columns]"
      ]
     },
     "execution_count": 264,
     "metadata": {},
     "output_type": "execute_result"
    }
   ],
   "source": [
    "df_norm.head(1)"
   ]
  },
  {
   "cell_type": "code",
   "execution_count": 265,
   "id": "89c64c89-8132-40aa-9bde-d1123008eab2",
   "metadata": {},
   "outputs": [],
   "source": [
    "columns_not_to_include = [\"seq_id\", \"seq_description\", \"Cells\", \"Cell_Location\"]"
   ]
  },
  {
   "cell_type": "code",
   "execution_count": 266,
   "id": "3866067a-675c-4021-ac1d-09a5ace7225a",
   "metadata": {},
   "outputs": [],
   "source": [
    "#train/test split\n",
    "X = df_norm.drop(columns = columns_not_to_include, axis=1)\n",
    "y = df_norm[\"Cell_Cat\"] #for the purposes of kmeans, y value does not matter, so I'm just putting a value so I can use the train/test split"
   ]
  },
  {
   "cell_type": "code",
   "execution_count": 267,
   "id": "0d45c0e4-3807-4256-94dd-cf78982366c6",
   "metadata": {},
   "outputs": [],
   "source": [
    "from sklearn.model_selection import train_test_split\n",
    "X_train, X_test, y_train, y_test = train_test_split(X, y, test_size=0.2, random_state=rs)"
   ]
  },
  {
   "cell_type": "code",
   "execution_count": 268,
   "id": "0edb4d92-560c-48bd-8f72-0d727e1e538d",
   "metadata": {},
   "outputs": [
    {
     "data": {
      "text/html": [
       "<style>#sk-container-id-2 {color: black;background-color: white;}#sk-container-id-2 pre{padding: 0;}#sk-container-id-2 div.sk-toggleable {background-color: white;}#sk-container-id-2 label.sk-toggleable__label {cursor: pointer;display: block;width: 100%;margin-bottom: 0;padding: 0.3em;box-sizing: border-box;text-align: center;}#sk-container-id-2 label.sk-toggleable__label-arrow:before {content: \"▸\";float: left;margin-right: 0.25em;color: #696969;}#sk-container-id-2 label.sk-toggleable__label-arrow:hover:before {color: black;}#sk-container-id-2 div.sk-estimator:hover label.sk-toggleable__label-arrow:before {color: black;}#sk-container-id-2 div.sk-toggleable__content {max-height: 0;max-width: 0;overflow: hidden;text-align: left;background-color: #f0f8ff;}#sk-container-id-2 div.sk-toggleable__content pre {margin: 0.2em;color: black;border-radius: 0.25em;background-color: #f0f8ff;}#sk-container-id-2 input.sk-toggleable__control:checked~div.sk-toggleable__content {max-height: 200px;max-width: 100%;overflow: auto;}#sk-container-id-2 input.sk-toggleable__control:checked~label.sk-toggleable__label-arrow:before {content: \"▾\";}#sk-container-id-2 div.sk-estimator input.sk-toggleable__control:checked~label.sk-toggleable__label {background-color: #d4ebff;}#sk-container-id-2 div.sk-label input.sk-toggleable__control:checked~label.sk-toggleable__label {background-color: #d4ebff;}#sk-container-id-2 input.sk-hidden--visually {border: 0;clip: rect(1px 1px 1px 1px);clip: rect(1px, 1px, 1px, 1px);height: 1px;margin: -1px;overflow: hidden;padding: 0;position: absolute;width: 1px;}#sk-container-id-2 div.sk-estimator {font-family: monospace;background-color: #f0f8ff;border: 1px dotted black;border-radius: 0.25em;box-sizing: border-box;margin-bottom: 0.5em;}#sk-container-id-2 div.sk-estimator:hover {background-color: #d4ebff;}#sk-container-id-2 div.sk-parallel-item::after {content: \"\";width: 100%;border-bottom: 1px solid gray;flex-grow: 1;}#sk-container-id-2 div.sk-label:hover label.sk-toggleable__label {background-color: #d4ebff;}#sk-container-id-2 div.sk-serial::before {content: \"\";position: absolute;border-left: 1px solid gray;box-sizing: border-box;top: 0;bottom: 0;left: 50%;z-index: 0;}#sk-container-id-2 div.sk-serial {display: flex;flex-direction: column;align-items: center;background-color: white;padding-right: 0.2em;padding-left: 0.2em;position: relative;}#sk-container-id-2 div.sk-item {position: relative;z-index: 1;}#sk-container-id-2 div.sk-parallel {display: flex;align-items: stretch;justify-content: center;background-color: white;position: relative;}#sk-container-id-2 div.sk-item::before, #sk-container-id-2 div.sk-parallel-item::before {content: \"\";position: absolute;border-left: 1px solid gray;box-sizing: border-box;top: 0;bottom: 0;left: 50%;z-index: -1;}#sk-container-id-2 div.sk-parallel-item {display: flex;flex-direction: column;z-index: 1;position: relative;background-color: white;}#sk-container-id-2 div.sk-parallel-item:first-child::after {align-self: flex-end;width: 50%;}#sk-container-id-2 div.sk-parallel-item:last-child::after {align-self: flex-start;width: 50%;}#sk-container-id-2 div.sk-parallel-item:only-child::after {width: 0;}#sk-container-id-2 div.sk-dashed-wrapped {border: 1px dashed gray;margin: 0 0.4em 0.5em 0.4em;box-sizing: border-box;padding-bottom: 0.4em;background-color: white;}#sk-container-id-2 div.sk-label label {font-family: monospace;font-weight: bold;display: inline-block;line-height: 1.2em;}#sk-container-id-2 div.sk-label-container {text-align: center;}#sk-container-id-2 div.sk-container {/* jupyter's `normalize.less` sets `[hidden] { display: none; }` but bootstrap.min.css set `[hidden] { display: none !important; }` so we also need the `!important` here to be able to override the default hidden behavior on the sphinx rendered scikit-learn.org. See: https://github.com/scikit-learn/scikit-learn/issues/21755 */display: inline-block !important;position: relative;}#sk-container-id-2 div.sk-text-repr-fallback {display: none;}</style><div id=\"sk-container-id-2\" class=\"sk-top-container\"><div class=\"sk-text-repr-fallback\"><pre>KMeans(n_clusters=10, n_init=&#x27;auto&#x27;, random_state=1234)</pre><b>In a Jupyter environment, please rerun this cell to show the HTML representation or trust the notebook. <br />On GitHub, the HTML representation is unable to render, please try loading this page with nbviewer.org.</b></div><div class=\"sk-container\" hidden><div class=\"sk-item\"><div class=\"sk-estimator sk-toggleable\"><input class=\"sk-toggleable__control sk-hidden--visually\" id=\"sk-estimator-id-2\" type=\"checkbox\" checked><label for=\"sk-estimator-id-2\" class=\"sk-toggleable__label sk-toggleable__label-arrow\">KMeans</label><div class=\"sk-toggleable__content\"><pre>KMeans(n_clusters=10, n_init=&#x27;auto&#x27;, random_state=1234)</pre></div></div></div></div></div>"
      ],
      "text/plain": [
       "KMeans(n_clusters=10, n_init='auto', random_state=1234)"
      ]
     },
     "execution_count": 268,
     "metadata": {},
     "output_type": "execute_result"
    }
   ],
   "source": [
    "#Code from Textbook kmeans: I only added init = \"random\" and n_init = \"auto\"\n",
    "\n",
    "from sklearn.cluster import KMeans\n",
    "k = 10\n",
    "kmeans = KMeans(n_clusters=k, n_init = \"auto\", random_state = rs)\n",
    "kmeans.fit(X_train.drop(\"Cell_Cat\", axis=1))\n"
   ]
  },
  {
   "cell_type": "code",
   "execution_count": 270,
   "id": "eb934400-cf1f-4264-a016-7958cc9fa43c",
   "metadata": {},
   "outputs": [],
   "source": [
    "clusters = kmeans.predict(X_test.drop(\"Cell_Cat\", axis=1))"
   ]
  },
  {
   "cell_type": "code",
   "execution_count": null,
   "id": "397f3fba-ebcb-449d-8183-dff3a8de33d3",
   "metadata": {},
   "outputs": [],
   "source": [
    "#create a pdDataFrame to be able to see the X_test and clusters"
   ]
  },
  {
   "cell_type": "code",
   "execution_count": 271,
   "id": "f988fc17-e2a8-4d5b-8cc9-656d89ac9caa",
   "metadata": {},
   "outputs": [],
   "source": [
    "test_df = X_test"
   ]
  },
  {
   "cell_type": "code",
   "execution_count": 272,
   "id": "02790033-178b-4de6-830b-1821310136d2",
   "metadata": {},
   "outputs": [],
   "source": [
    "test_df[\"Clusters\"] = clusters"
   ]
  },
  {
   "cell_type": "code",
   "execution_count": 273,
   "id": "3d91ff80-1ae1-430d-abda-6665909c649a",
   "metadata": {},
   "outputs": [
    {
     "data": {
      "text/html": [
       "<div>\n",
       "<style scoped>\n",
       "    .dataframe tbody tr th:only-of-type {\n",
       "        vertical-align: middle;\n",
       "    }\n",
       "\n",
       "    .dataframe tbody tr th {\n",
       "        vertical-align: top;\n",
       "    }\n",
       "\n",
       "    .dataframe thead th {\n",
       "        text-align: right;\n",
       "    }\n",
       "</style>\n",
       "<table border=\"1\" class=\"dataframe\">\n",
       "  <thead>\n",
       "    <tr style=\"text-align: right;\">\n",
       "      <th></th>\n",
       "      <th>AA</th>\n",
       "      <th>AC</th>\n",
       "      <th>AD</th>\n",
       "      <th>AE</th>\n",
       "      <th>AF</th>\n",
       "      <th>AG</th>\n",
       "      <th>AH</th>\n",
       "      <th>AI</th>\n",
       "      <th>AK</th>\n",
       "      <th>AL</th>\n",
       "      <th>...</th>\n",
       "      <th>YP</th>\n",
       "      <th>YQ</th>\n",
       "      <th>YR</th>\n",
       "      <th>YS</th>\n",
       "      <th>YT</th>\n",
       "      <th>YV</th>\n",
       "      <th>YW</th>\n",
       "      <th>YY</th>\n",
       "      <th>Cell_Cat</th>\n",
       "      <th>Clusters</th>\n",
       "    </tr>\n",
       "  </thead>\n",
       "  <tbody>\n",
       "    <tr>\n",
       "      <th>8946</th>\n",
       "      <td>0.114847</td>\n",
       "      <td>0.028709</td>\n",
       "      <td>0.028709</td>\n",
       "      <td>0.028709</td>\n",
       "      <td>0.114847</td>\n",
       "      <td>0.086138</td>\n",
       "      <td>0.000000</td>\n",
       "      <td>0.028709</td>\n",
       "      <td>0.000000</td>\n",
       "      <td>0.028709</td>\n",
       "      <td>...</td>\n",
       "      <td>0.028709</td>\n",
       "      <td>0.000000</td>\n",
       "      <td>0.028709</td>\n",
       "      <td>0.028709</td>\n",
       "      <td>0.000000</td>\n",
       "      <td>0.028709</td>\n",
       "      <td>0.000000</td>\n",
       "      <td>0.0</td>\n",
       "      <td>0</td>\n",
       "      <td>7</td>\n",
       "    </tr>\n",
       "    <tr>\n",
       "      <th>13456</th>\n",
       "      <td>0.248000</td>\n",
       "      <td>0.024794</td>\n",
       "      <td>0.099192</td>\n",
       "      <td>0.024794</td>\n",
       "      <td>0.049603</td>\n",
       "      <td>0.074397</td>\n",
       "      <td>0.000000</td>\n",
       "      <td>0.049603</td>\n",
       "      <td>0.024794</td>\n",
       "      <td>0.124000</td>\n",
       "      <td>...</td>\n",
       "      <td>0.049603</td>\n",
       "      <td>0.049603</td>\n",
       "      <td>0.049603</td>\n",
       "      <td>0.000000</td>\n",
       "      <td>0.024794</td>\n",
       "      <td>0.024794</td>\n",
       "      <td>0.024794</td>\n",
       "      <td>0.0</td>\n",
       "      <td>2</td>\n",
       "      <td>7</td>\n",
       "    </tr>\n",
       "    <tr>\n",
       "      <th>12187</th>\n",
       "      <td>0.092379</td>\n",
       "      <td>0.023091</td>\n",
       "      <td>0.138562</td>\n",
       "      <td>0.069287</td>\n",
       "      <td>0.023091</td>\n",
       "      <td>0.161653</td>\n",
       "      <td>0.023091</td>\n",
       "      <td>0.046183</td>\n",
       "      <td>0.069287</td>\n",
       "      <td>0.092379</td>\n",
       "      <td>...</td>\n",
       "      <td>0.046183</td>\n",
       "      <td>0.023091</td>\n",
       "      <td>0.000000</td>\n",
       "      <td>0.023091</td>\n",
       "      <td>0.023091</td>\n",
       "      <td>0.046183</td>\n",
       "      <td>0.000000</td>\n",
       "      <td>0.0</td>\n",
       "      <td>2</td>\n",
       "      <td>9</td>\n",
       "    </tr>\n",
       "    <tr>\n",
       "      <th>10455</th>\n",
       "      <td>0.044073</td>\n",
       "      <td>0.000000</td>\n",
       "      <td>0.066116</td>\n",
       "      <td>0.066116</td>\n",
       "      <td>0.022043</td>\n",
       "      <td>0.022043</td>\n",
       "      <td>0.000000</td>\n",
       "      <td>0.000000</td>\n",
       "      <td>0.022043</td>\n",
       "      <td>0.000000</td>\n",
       "      <td>...</td>\n",
       "      <td>0.044073</td>\n",
       "      <td>0.044073</td>\n",
       "      <td>0.000000</td>\n",
       "      <td>0.000000</td>\n",
       "      <td>0.044073</td>\n",
       "      <td>0.066116</td>\n",
       "      <td>0.000000</td>\n",
       "      <td>0.0</td>\n",
       "      <td>0</td>\n",
       "      <td>3</td>\n",
       "    </tr>\n",
       "    <tr>\n",
       "      <th>3462</th>\n",
       "      <td>0.000000</td>\n",
       "      <td>0.000000</td>\n",
       "      <td>0.000000</td>\n",
       "      <td>0.074329</td>\n",
       "      <td>0.000000</td>\n",
       "      <td>0.000000</td>\n",
       "      <td>0.000000</td>\n",
       "      <td>0.000000</td>\n",
       "      <td>0.074329</td>\n",
       "      <td>0.000000</td>\n",
       "      <td>...</td>\n",
       "      <td>0.000000</td>\n",
       "      <td>0.000000</td>\n",
       "      <td>0.000000</td>\n",
       "      <td>0.000000</td>\n",
       "      <td>0.000000</td>\n",
       "      <td>0.000000</td>\n",
       "      <td>0.000000</td>\n",
       "      <td>0.0</td>\n",
       "      <td>1</td>\n",
       "      <td>9</td>\n",
       "    </tr>\n",
       "  </tbody>\n",
       "</table>\n",
       "<p>5 rows × 402 columns</p>\n",
       "</div>"
      ],
      "text/plain": [
       "             AA        AC        AD        AE        AF        AG        AH  \\\n",
       "8946   0.114847  0.028709  0.028709  0.028709  0.114847  0.086138  0.000000   \n",
       "13456  0.248000  0.024794  0.099192  0.024794  0.049603  0.074397  0.000000   \n",
       "12187  0.092379  0.023091  0.138562  0.069287  0.023091  0.161653  0.023091   \n",
       "10455  0.044073  0.000000  0.066116  0.066116  0.022043  0.022043  0.000000   \n",
       "3462   0.000000  0.000000  0.000000  0.074329  0.000000  0.000000  0.000000   \n",
       "\n",
       "             AI        AK        AL  ...        YP        YQ        YR  \\\n",
       "8946   0.028709  0.000000  0.028709  ...  0.028709  0.000000  0.028709   \n",
       "13456  0.049603  0.024794  0.124000  ...  0.049603  0.049603  0.049603   \n",
       "12187  0.046183  0.069287  0.092379  ...  0.046183  0.023091  0.000000   \n",
       "10455  0.000000  0.022043  0.000000  ...  0.044073  0.044073  0.000000   \n",
       "3462   0.000000  0.074329  0.000000  ...  0.000000  0.000000  0.000000   \n",
       "\n",
       "             YS        YT        YV        YW   YY  Cell_Cat  Clusters  \n",
       "8946   0.028709  0.000000  0.028709  0.000000  0.0         0         7  \n",
       "13456  0.000000  0.024794  0.024794  0.024794  0.0         2         7  \n",
       "12187  0.023091  0.023091  0.046183  0.000000  0.0         2         9  \n",
       "10455  0.000000  0.044073  0.066116  0.000000  0.0         0         3  \n",
       "3462   0.000000  0.000000  0.000000  0.000000  0.0         1         9  \n",
       "\n",
       "[5 rows x 402 columns]"
      ]
     },
     "execution_count": 273,
     "metadata": {},
     "output_type": "execute_result"
    }
   ],
   "source": [
    "test_df.head()"
   ]
  },
  {
   "cell_type": "code",
   "execution_count": 275,
   "id": "638303af-5103-458f-8a54-d4ffb3445454",
   "metadata": {},
   "outputs": [
    {
     "data": {
      "text/html": [
       "<div>\n",
       "<style scoped>\n",
       "    .dataframe tbody tr th:only-of-type {\n",
       "        vertical-align: middle;\n",
       "    }\n",
       "\n",
       "    .dataframe tbody tr th {\n",
       "        vertical-align: top;\n",
       "    }\n",
       "\n",
       "    .dataframe thead th {\n",
       "        text-align: right;\n",
       "    }\n",
       "</style>\n",
       "<table border=\"1\" class=\"dataframe\">\n",
       "  <thead>\n",
       "    <tr style=\"text-align: right;\">\n",
       "      <th></th>\n",
       "      <th>AA</th>\n",
       "      <th>AC</th>\n",
       "      <th>AD</th>\n",
       "      <th>AE</th>\n",
       "      <th>AF</th>\n",
       "      <th>AG</th>\n",
       "      <th>AH</th>\n",
       "      <th>AI</th>\n",
       "      <th>AK</th>\n",
       "      <th>AL</th>\n",
       "      <th>...</th>\n",
       "      <th>YN</th>\n",
       "      <th>YP</th>\n",
       "      <th>YQ</th>\n",
       "      <th>YR</th>\n",
       "      <th>YS</th>\n",
       "      <th>YT</th>\n",
       "      <th>YV</th>\n",
       "      <th>YW</th>\n",
       "      <th>YY</th>\n",
       "      <th>Cell_Cat</th>\n",
       "    </tr>\n",
       "    <tr>\n",
       "      <th>Clusters</th>\n",
       "      <th></th>\n",
       "      <th></th>\n",
       "      <th></th>\n",
       "      <th></th>\n",
       "      <th></th>\n",
       "      <th></th>\n",
       "      <th></th>\n",
       "      <th></th>\n",
       "      <th></th>\n",
       "      <th></th>\n",
       "      <th></th>\n",
       "      <th></th>\n",
       "      <th></th>\n",
       "      <th></th>\n",
       "      <th></th>\n",
       "      <th></th>\n",
       "      <th></th>\n",
       "      <th></th>\n",
       "      <th></th>\n",
       "      <th></th>\n",
       "      <th></th>\n",
       "    </tr>\n",
       "  </thead>\n",
       "  <tbody>\n",
       "    <tr>\n",
       "      <th>0</th>\n",
       "      <td>0.234257</td>\n",
       "      <td>0.222228</td>\n",
       "      <td>0.189837</td>\n",
       "      <td>0.230940</td>\n",
       "      <td>0.261119</td>\n",
       "      <td>0.241744</td>\n",
       "      <td>0.177244</td>\n",
       "      <td>0.331295</td>\n",
       "      <td>0.260134</td>\n",
       "      <td>0.254508</td>\n",
       "      <td>...</td>\n",
       "      <td>0.124035</td>\n",
       "      <td>0.333331</td>\n",
       "      <td>0.125988</td>\n",
       "      <td>0.237362</td>\n",
       "      <td>0.209657</td>\n",
       "      <td>0.152499</td>\n",
       "      <td>0.135764</td>\n",
       "      <td>0.122169</td>\n",
       "      <td>0.188984</td>\n",
       "      <td>6</td>\n",
       "    </tr>\n",
       "    <tr>\n",
       "      <th>1</th>\n",
       "      <td>0.462573</td>\n",
       "      <td>0.207512</td>\n",
       "      <td>0.146055</td>\n",
       "      <td>0.137795</td>\n",
       "      <td>0.250227</td>\n",
       "      <td>0.215879</td>\n",
       "      <td>0.141864</td>\n",
       "      <td>0.275302</td>\n",
       "      <td>0.146183</td>\n",
       "      <td>0.306114</td>\n",
       "      <td>...</td>\n",
       "      <td>0.124488</td>\n",
       "      <td>0.135936</td>\n",
       "      <td>0.112867</td>\n",
       "      <td>0.142534</td>\n",
       "      <td>0.169788</td>\n",
       "      <td>0.115900</td>\n",
       "      <td>0.183341</td>\n",
       "      <td>0.083497</td>\n",
       "      <td>0.133259</td>\n",
       "      <td>9</td>\n",
       "    </tr>\n",
       "    <tr>\n",
       "      <th>2</th>\n",
       "      <td>0.206498</td>\n",
       "      <td>0.094698</td>\n",
       "      <td>0.153291</td>\n",
       "      <td>0.140642</td>\n",
       "      <td>0.174249</td>\n",
       "      <td>0.153291</td>\n",
       "      <td>0.195419</td>\n",
       "      <td>0.194717</td>\n",
       "      <td>0.138251</td>\n",
       "      <td>0.234930</td>\n",
       "      <td>...</td>\n",
       "      <td>0.158864</td>\n",
       "      <td>0.124570</td>\n",
       "      <td>0.102329</td>\n",
       "      <td>0.137194</td>\n",
       "      <td>0.153690</td>\n",
       "      <td>0.134705</td>\n",
       "      <td>0.146456</td>\n",
       "      <td>0.082832</td>\n",
       "      <td>0.097384</td>\n",
       "      <td>9</td>\n",
       "    </tr>\n",
       "    <tr>\n",
       "      <th>3</th>\n",
       "      <td>0.374634</td>\n",
       "      <td>0.145317</td>\n",
       "      <td>0.271538</td>\n",
       "      <td>0.314491</td>\n",
       "      <td>0.114710</td>\n",
       "      <td>0.169361</td>\n",
       "      <td>0.071611</td>\n",
       "      <td>0.180510</td>\n",
       "      <td>0.292422</td>\n",
       "      <td>0.249792</td>\n",
       "      <td>...</td>\n",
       "      <td>0.140633</td>\n",
       "      <td>0.099627</td>\n",
       "      <td>0.154269</td>\n",
       "      <td>0.093118</td>\n",
       "      <td>0.149593</td>\n",
       "      <td>0.130311</td>\n",
       "      <td>0.074123</td>\n",
       "      <td>0.072930</td>\n",
       "      <td>0.136743</td>\n",
       "      <td>8</td>\n",
       "    </tr>\n",
       "    <tr>\n",
       "      <th>4</th>\n",
       "      <td>0.731304</td>\n",
       "      <td>0.124140</td>\n",
       "      <td>0.176119</td>\n",
       "      <td>0.264481</td>\n",
       "      <td>0.178342</td>\n",
       "      <td>0.343585</td>\n",
       "      <td>0.216818</td>\n",
       "      <td>0.143444</td>\n",
       "      <td>0.142494</td>\n",
       "      <td>0.304605</td>\n",
       "      <td>...</td>\n",
       "      <td>0.085886</td>\n",
       "      <td>0.189569</td>\n",
       "      <td>0.146309</td>\n",
       "      <td>0.206897</td>\n",
       "      <td>0.122883</td>\n",
       "      <td>0.198280</td>\n",
       "      <td>0.127000</td>\n",
       "      <td>0.068597</td>\n",
       "      <td>0.165517</td>\n",
       "      <td>9</td>\n",
       "    </tr>\n",
       "    <tr>\n",
       "      <th>5</th>\n",
       "      <td>0.121268</td>\n",
       "      <td>0.119522</td>\n",
       "      <td>0.112507</td>\n",
       "      <td>0.121268</td>\n",
       "      <td>0.106001</td>\n",
       "      <td>0.112507</td>\n",
       "      <td>0.000000</td>\n",
       "      <td>0.188982</td>\n",
       "      <td>0.124035</td>\n",
       "      <td>0.000000</td>\n",
       "      <td>...</td>\n",
       "      <td>0.188982</td>\n",
       "      <td>0.169031</td>\n",
       "      <td>0.124035</td>\n",
       "      <td>0.121268</td>\n",
       "      <td>0.214423</td>\n",
       "      <td>0.189831</td>\n",
       "      <td>0.113228</td>\n",
       "      <td>0.084515</td>\n",
       "      <td>0.000000</td>\n",
       "      <td>2</td>\n",
       "    </tr>\n",
       "    <tr>\n",
       "      <th>6</th>\n",
       "      <td>0.237912</td>\n",
       "      <td>0.187521</td>\n",
       "      <td>0.175486</td>\n",
       "      <td>0.202321</td>\n",
       "      <td>0.153344</td>\n",
       "      <td>0.216692</td>\n",
       "      <td>0.141069</td>\n",
       "      <td>0.289237</td>\n",
       "      <td>0.186206</td>\n",
       "      <td>0.258145</td>\n",
       "      <td>...</td>\n",
       "      <td>0.122691</td>\n",
       "      <td>0.133253</td>\n",
       "      <td>0.157325</td>\n",
       "      <td>0.126218</td>\n",
       "      <td>0.144092</td>\n",
       "      <td>0.099747</td>\n",
       "      <td>0.138763</td>\n",
       "      <td>0.082855</td>\n",
       "      <td>0.133997</td>\n",
       "      <td>9</td>\n",
       "    </tr>\n",
       "    <tr>\n",
       "      <th>7</th>\n",
       "      <td>0.940364</td>\n",
       "      <td>0.157324</td>\n",
       "      <td>0.210912</td>\n",
       "      <td>0.182856</td>\n",
       "      <td>0.263448</td>\n",
       "      <td>0.400168</td>\n",
       "      <td>0.115857</td>\n",
       "      <td>0.230945</td>\n",
       "      <td>0.230945</td>\n",
       "      <td>0.297678</td>\n",
       "      <td>...</td>\n",
       "      <td>0.171219</td>\n",
       "      <td>0.112988</td>\n",
       "      <td>0.187724</td>\n",
       "      <td>0.130538</td>\n",
       "      <td>0.177091</td>\n",
       "      <td>0.164824</td>\n",
       "      <td>0.131940</td>\n",
       "      <td>0.081040</td>\n",
       "      <td>0.130434</td>\n",
       "      <td>9</td>\n",
       "    </tr>\n",
       "    <tr>\n",
       "      <th>8</th>\n",
       "      <td>0.432089</td>\n",
       "      <td>0.094270</td>\n",
       "      <td>0.175263</td>\n",
       "      <td>0.175862</td>\n",
       "      <td>0.126355</td>\n",
       "      <td>0.276469</td>\n",
       "      <td>0.152718</td>\n",
       "      <td>0.148767</td>\n",
       "      <td>0.249816</td>\n",
       "      <td>0.200323</td>\n",
       "      <td>...</td>\n",
       "      <td>0.116863</td>\n",
       "      <td>0.138564</td>\n",
       "      <td>0.155118</td>\n",
       "      <td>0.137080</td>\n",
       "      <td>0.222224</td>\n",
       "      <td>0.136916</td>\n",
       "      <td>0.125320</td>\n",
       "      <td>0.064654</td>\n",
       "      <td>0.144760</td>\n",
       "      <td>8</td>\n",
       "    </tr>\n",
       "    <tr>\n",
       "      <th>9</th>\n",
       "      <td>0.361771</td>\n",
       "      <td>0.158615</td>\n",
       "      <td>0.172774</td>\n",
       "      <td>0.487948</td>\n",
       "      <td>0.286037</td>\n",
       "      <td>0.179930</td>\n",
       "      <td>0.163846</td>\n",
       "      <td>0.198681</td>\n",
       "      <td>0.385927</td>\n",
       "      <td>0.260378</td>\n",
       "      <td>...</td>\n",
       "      <td>0.272731</td>\n",
       "      <td>0.239903</td>\n",
       "      <td>0.131589</td>\n",
       "      <td>0.135458</td>\n",
       "      <td>0.198030</td>\n",
       "      <td>0.179403</td>\n",
       "      <td>0.139682</td>\n",
       "      <td>0.099015</td>\n",
       "      <td>0.179403</td>\n",
       "      <td>9</td>\n",
       "    </tr>\n",
       "  </tbody>\n",
       "</table>\n",
       "<p>10 rows × 401 columns</p>\n",
       "</div>"
      ],
      "text/plain": [
       "                AA        AC        AD        AE        AF        AG  \\\n",
       "Clusters                                                               \n",
       "0         0.234257  0.222228  0.189837  0.230940  0.261119  0.241744   \n",
       "1         0.462573  0.207512  0.146055  0.137795  0.250227  0.215879   \n",
       "2         0.206498  0.094698  0.153291  0.140642  0.174249  0.153291   \n",
       "3         0.374634  0.145317  0.271538  0.314491  0.114710  0.169361   \n",
       "4         0.731304  0.124140  0.176119  0.264481  0.178342  0.343585   \n",
       "5         0.121268  0.119522  0.112507  0.121268  0.106001  0.112507   \n",
       "6         0.237912  0.187521  0.175486  0.202321  0.153344  0.216692   \n",
       "7         0.940364  0.157324  0.210912  0.182856  0.263448  0.400168   \n",
       "8         0.432089  0.094270  0.175263  0.175862  0.126355  0.276469   \n",
       "9         0.361771  0.158615  0.172774  0.487948  0.286037  0.179930   \n",
       "\n",
       "                AH        AI        AK        AL  ...        YN        YP  \\\n",
       "Clusters                                          ...                       \n",
       "0         0.177244  0.331295  0.260134  0.254508  ...  0.124035  0.333331   \n",
       "1         0.141864  0.275302  0.146183  0.306114  ...  0.124488  0.135936   \n",
       "2         0.195419  0.194717  0.138251  0.234930  ...  0.158864  0.124570   \n",
       "3         0.071611  0.180510  0.292422  0.249792  ...  0.140633  0.099627   \n",
       "4         0.216818  0.143444  0.142494  0.304605  ...  0.085886  0.189569   \n",
       "5         0.000000  0.188982  0.124035  0.000000  ...  0.188982  0.169031   \n",
       "6         0.141069  0.289237  0.186206  0.258145  ...  0.122691  0.133253   \n",
       "7         0.115857  0.230945  0.230945  0.297678  ...  0.171219  0.112988   \n",
       "8         0.152718  0.148767  0.249816  0.200323  ...  0.116863  0.138564   \n",
       "9         0.163846  0.198681  0.385927  0.260378  ...  0.272731  0.239903   \n",
       "\n",
       "                YQ        YR        YS        YT        YV        YW  \\\n",
       "Clusters                                                               \n",
       "0         0.125988  0.237362  0.209657  0.152499  0.135764  0.122169   \n",
       "1         0.112867  0.142534  0.169788  0.115900  0.183341  0.083497   \n",
       "2         0.102329  0.137194  0.153690  0.134705  0.146456  0.082832   \n",
       "3         0.154269  0.093118  0.149593  0.130311  0.074123  0.072930   \n",
       "4         0.146309  0.206897  0.122883  0.198280  0.127000  0.068597   \n",
       "5         0.124035  0.121268  0.214423  0.189831  0.113228  0.084515   \n",
       "6         0.157325  0.126218  0.144092  0.099747  0.138763  0.082855   \n",
       "7         0.187724  0.130538  0.177091  0.164824  0.131940  0.081040   \n",
       "8         0.155118  0.137080  0.222224  0.136916  0.125320  0.064654   \n",
       "9         0.131589  0.135458  0.198030  0.179403  0.139682  0.099015   \n",
       "\n",
       "                YY  Cell_Cat  \n",
       "Clusters                      \n",
       "0         0.188984         6  \n",
       "1         0.133259         9  \n",
       "2         0.097384         9  \n",
       "3         0.136743         8  \n",
       "4         0.165517         9  \n",
       "5         0.000000         2  \n",
       "6         0.133997         9  \n",
       "7         0.130434         9  \n",
       "8         0.144760         8  \n",
       "9         0.179403         9  \n",
       "\n",
       "[10 rows x 401 columns]"
      ]
     },
     "execution_count": 275,
     "metadata": {},
     "output_type": "execute_result"
    }
   ],
   "source": [
    "test_df.groupby(\"Clusters\").max()"
   ]
  },
  {
   "cell_type": "code",
   "execution_count": 341,
   "id": "98a507a7-62c1-4e46-8e34-c9669ec64a92",
   "metadata": {},
   "outputs": [
    {
     "data": {
      "text/plain": [
       "Cell_Cat    6.000000\n",
       "GG          0.954357\n",
       "NN          0.870279\n",
       "PP          0.671922\n",
       "YG          0.663331\n",
       "              ...   \n",
       "RM          0.090169\n",
       "MW          0.087037\n",
       "HY          0.081921\n",
       "YM          0.081921\n",
       "Clusters    0.000000\n",
       "Length: 402, dtype: float64"
      ]
     },
     "execution_count": 341,
     "metadata": {},
     "output_type": "execute_result"
    }
   ],
   "source": [
    "X_test.loc[(test_df[\"Clusters\"] == 0)].max().sort_values(ascending=False)"
   ]
  },
  {
   "cell_type": "code",
   "execution_count": 288,
   "id": "f73f5b4a-ed5c-45e7-ad6e-6cf5885c4d03",
   "metadata": {},
   "outputs": [],
   "source": [
    "#from the above, we can infer tha in cluster 0, GG appears to be the most common protein"
   ]
  },
  {
   "cell_type": "code",
   "execution_count": 289,
   "id": "5ac2ec60-ecd7-4d1a-b70b-231cc77639e1",
   "metadata": {},
   "outputs": [
    {
     "data": {
      "text/plain": [
       "Cell_Cat    9.000000\n",
       "Clusters    1.000000\n",
       "LL          0.539483\n",
       "AA          0.462573\n",
       "GL          0.350931\n",
       "              ...   \n",
       "EC          0.070277\n",
       "HW          0.065653\n",
       "CM          0.065370\n",
       "WC          0.060971\n",
       "MH          0.053223\n",
       "Length: 402, dtype: float64"
      ]
     },
     "execution_count": 289,
     "metadata": {},
     "output_type": "execute_result"
    }
   ],
   "source": [
    "test_df.loc[(test_df[\"Clusters\"] == 1)].max().sort_values(ascending=False)"
   ]
  },
  {
   "cell_type": "code",
   "execution_count": null,
   "id": "cbc8d683-7d8a-4c14-9d5c-aedd64a1e920",
   "metadata": {},
   "outputs": [],
   "source": [
    "#LL"
   ]
  },
  {
   "cell_type": "code",
   "execution_count": 290,
   "id": "dce3c090-58e7-4ff5-87c1-27d89a69dcfa",
   "metadata": {},
   "outputs": [
    {
     "data": {
      "text/plain": [
       "Cell_Cat    9.000000\n",
       "Clusters    2.000000\n",
       "NN          0.572444\n",
       "QQ          0.503014\n",
       "SS          0.417600\n",
       "              ...   \n",
       "MW          0.060003\n",
       "WY          0.058441\n",
       "MH          0.050146\n",
       "WW          0.048338\n",
       "GW          0.046420\n",
       "Length: 402, dtype: float64"
      ]
     },
     "execution_count": 290,
     "metadata": {},
     "output_type": "execute_result"
    }
   ],
   "source": [
    "test_df.loc[(test_df[\"Clusters\"] == 2)].max().sort_values(ascending=False)"
   ]
  },
  {
   "cell_type": "code",
   "execution_count": null,
   "id": "0531abb1-ecd5-4096-bc83-d35824a480bf",
   "metadata": {},
   "outputs": [],
   "source": [
    "#NN"
   ]
  },
  {
   "cell_type": "code",
   "execution_count": 291,
   "id": "43baab83-e1fd-4ee4-83ab-c3e7a247af77",
   "metadata": {},
   "outputs": [
    {
     "data": {
      "text/plain": [
       "Cell_Cat    8.000000\n",
       "Clusters    3.000000\n",
       "EE          0.699123\n",
       "KK          0.599516\n",
       "QQ          0.478268\n",
       "              ...   \n",
       "WI          0.059786\n",
       "WH          0.057896\n",
       "CF          0.057896\n",
       "CW          0.041194\n",
       "MW          0.037765\n",
       "Length: 402, dtype: float64"
      ]
     },
     "execution_count": 291,
     "metadata": {},
     "output_type": "execute_result"
    }
   ],
   "source": [
    "test_df.loc[(test_df[\"Clusters\"] == 3)].max().sort_values(ascending=False)"
   ]
  },
  {
   "cell_type": "code",
   "execution_count": null,
   "id": "1acfba5d-ab3b-4b66-a4be-6b0affa385ba",
   "metadata": {},
   "outputs": [],
   "source": [
    "#EE"
   ]
  },
  {
   "cell_type": "code",
   "execution_count": 292,
   "id": "64d10056-5ea0-414e-bd14-4631c5a2da96",
   "metadata": {},
   "outputs": [
    {
     "data": {
      "text/plain": [
       "Cell_Cat    9.000000\n",
       "Clusters    4.000000\n",
       "PP          0.921719\n",
       "AA          0.731304\n",
       "GG          0.660644\n",
       "              ...   \n",
       "CW          0.058519\n",
       "WM          0.057738\n",
       "MW          0.051164\n",
       "WH          0.051101\n",
       "MH          0.050185\n",
       "Length: 402, dtype: float64"
      ]
     },
     "execution_count": 292,
     "metadata": {},
     "output_type": "execute_result"
    }
   ],
   "source": [
    "test_df.loc[(test_df[\"Clusters\"] == 4)].max().sort_values(ascending=False)"
   ]
  },
  {
   "cell_type": "code",
   "execution_count": null,
   "id": "9e57dc5d-c9fd-43e1-ad0a-a0a82c96571b",
   "metadata": {},
   "outputs": [],
   "source": [
    "#PP"
   ]
  },
  {
   "cell_type": "code",
   "execution_count": 293,
   "id": "b395137f-30fa-4cc1-ba93-40cbf4b66594",
   "metadata": {},
   "outputs": [
    {
     "data": {
      "text/plain": [
       "Clusters    5.000000\n",
       "Cell_Cat    2.000000\n",
       "TC          0.419314\n",
       "CS          0.358569\n",
       "NI          0.353549\n",
       "              ...   \n",
       "VM          0.000000\n",
       "HW          0.000000\n",
       "HV          0.000000\n",
       "WH          0.000000\n",
       "KH          0.000000\n",
       "Length: 402, dtype: float64"
      ]
     },
     "execution_count": 293,
     "metadata": {},
     "output_type": "execute_result"
    }
   ],
   "source": [
    "test_df.loc[(test_df[\"Clusters\"] == 5)].max().sort_values(ascending=False)"
   ]
  },
  {
   "cell_type": "code",
   "execution_count": null,
   "id": "c0c3022c-abda-4f49-aab3-c2f7f905b934",
   "metadata": {},
   "outputs": [],
   "source": [
    "#TC"
   ]
  },
  {
   "cell_type": "code",
   "execution_count": 294,
   "id": "2954c95e-e7e0-480a-9e5b-fe030e1d94ab",
   "metadata": {},
   "outputs": [
    {
     "data": {
      "text/plain": [
       "Cell_Cat    9.000000\n",
       "Clusters    6.000000\n",
       "LL          0.420942\n",
       "TT          0.356736\n",
       "SL          0.344156\n",
       "              ...   \n",
       "QW          0.064574\n",
       "CM          0.062845\n",
       "HW          0.062232\n",
       "CW          0.059791\n",
       "MC          0.051094\n",
       "Length: 402, dtype: float64"
      ]
     },
     "execution_count": 294,
     "metadata": {},
     "output_type": "execute_result"
    }
   ],
   "source": [
    "test_df.loc[(test_df[\"Clusters\"] == 6)].max().sort_values(ascending=False)"
   ]
  },
  {
   "cell_type": "code",
   "execution_count": null,
   "id": "13d5019a-d77b-4cb1-91a4-8898350c0826",
   "metadata": {},
   "outputs": [],
   "source": [
    "#LL"
   ]
  },
  {
   "cell_type": "code",
   "execution_count": 295,
   "id": "1e544300-8887-48f5-9877-455fee1dbda6",
   "metadata": {},
   "outputs": [
    {
     "data": {
      "text/plain": [
       "Cell_Cat    9.000000\n",
       "Clusters    7.000000\n",
       "AA          0.940364\n",
       "GG          0.753855\n",
       "GV          0.483838\n",
       "              ...   \n",
       "WQ          0.062866\n",
       "CW          0.062137\n",
       "WC          0.061549\n",
       "MH          0.054396\n",
       "HM          0.047297\n",
       "Length: 402, dtype: float64"
      ]
     },
     "execution_count": 295,
     "metadata": {},
     "output_type": "execute_result"
    }
   ],
   "source": [
    "test_df.loc[(test_df[\"Clusters\"] == 7)].max().sort_values(ascending=False)"
   ]
  },
  {
   "cell_type": "code",
   "execution_count": null,
   "id": "4aed1fb6-e312-40ff-a28c-284bc7ef6695",
   "metadata": {},
   "outputs": [],
   "source": [
    "##AA"
   ]
  },
  {
   "cell_type": "code",
   "execution_count": 296,
   "id": "a4d5ee7c-428c-4a75-9a42-4dc3f485812f",
   "metadata": {},
   "outputs": [
    {
     "data": {
      "text/plain": [
       "Clusters    8.000000\n",
       "Cell_Cat    8.000000\n",
       "QQ          0.855100\n",
       "SS          0.825919\n",
       "NN          0.611258\n",
       "              ...   \n",
       "WF          0.049979\n",
       "WW          0.046172\n",
       "HW          0.042683\n",
       "MW          0.040889\n",
       "WM          0.037963\n",
       "Length: 402, dtype: float64"
      ]
     },
     "execution_count": 296,
     "metadata": {},
     "output_type": "execute_result"
    }
   ],
   "source": [
    "test_df.loc[(test_df[\"Clusters\"] == 8)].max().sort_values(ascending=False)"
   ]
  },
  {
   "cell_type": "code",
   "execution_count": null,
   "id": "7863f2b1-4500-4a61-8877-0c5542d24da4",
   "metadata": {},
   "outputs": [],
   "source": [
    "#QQ"
   ]
  },
  {
   "cell_type": "code",
   "execution_count": 297,
   "id": "385c7d67-cf30-4957-909f-4419dc2b402b",
   "metadata": {},
   "outputs": [
    {
     "data": {
      "text/plain": [
       "Clusters    9.000000\n",
       "Cell_Cat    9.000000\n",
       "TT          0.764310\n",
       "QQ          0.683999\n",
       "II          0.655602\n",
       "              ...   \n",
       "WP          0.080584\n",
       "WH          0.074536\n",
       "WY          0.073127\n",
       "HW          0.067118\n",
       "WW          0.066778\n",
       "Length: 402, dtype: float64"
      ]
     },
     "execution_count": 297,
     "metadata": {},
     "output_type": "execute_result"
    }
   ],
   "source": [
    "test_df.loc[(test_df[\"Clusters\"] == 9)].max().sort_values(ascending=False)"
   ]
  },
  {
   "cell_type": "code",
   "execution_count": 298,
   "id": "179811ae-b3a6-4cbb-b44a-2a278ebd0f7e",
   "metadata": {},
   "outputs": [],
   "source": [
    "#TT"
   ]
  },
  {
   "cell_type": "code",
   "execution_count": null,
   "id": "170e45e8-603c-4f45-9580-71494a13de30",
   "metadata": {},
   "outputs": [],
   "source": []
  },
  {
   "cell_type": "code",
   "execution_count": 302,
   "id": "9c24d9bf-8f7f-4a31-9503-9a0a9b787fec",
   "metadata": {},
   "outputs": [],
   "source": [
    "#Now I have the clusters assigned with their max Protein, but I have no idea which max proteins mean which cell part. For this, I now need to asses which\n",
    "#protein appears the most in Nuclues, Cytoplasm, etc"
   ]
  },
  {
   "cell_type": "code",
   "execution_count": 309,
   "id": "e8129abf-8f41-4caa-9f4e-f735bb34ab1b",
   "metadata": {},
   "outputs": [],
   "source": [
    "#refer to what we assigned earlier: \n",
    "\n",
    "# categorical_var = {\n",
    "#     \"Nucleus\" : 0, \n",
    "#     \"Cytoplasm\" : 1, \n",
    "#     \"Extracellular\" : 2,\n",
    "#     \"Mitochondrion\" : 3,\n",
    "#     \"Cell Membrane\" : 4,\n",
    "#     \"Endoplasmic Reticulum\" : 5,\n",
    "#     \"Plastid\" : 6,\n",
    "#     \"Golgi Apparatus\" : 7,\n",
    "#     \"Lysosome/Vacuole\" : 8,\n",
    "#     \"Peroxisome\" : 9   \n",
    "# }"
   ]
  },
  {
   "cell_type": "code",
   "execution_count": 307,
   "id": "d746e30c-6e80-4091-acea-435d96d3cd54",
   "metadata": {},
   "outputs": [
    {
     "data": {
      "text/plain": [
       "Clusters    9.000000\n",
       "GG          0.954357\n",
       "QQ          0.855100\n",
       "SS          0.825919\n",
       "NN          0.776182\n",
       "              ...   \n",
       "WY          0.068361\n",
       "MW          0.060003\n",
       "MH          0.059976\n",
       "WW          0.034280\n",
       "Cell_Cat    0.000000\n",
       "Length: 402, dtype: float64"
      ]
     },
     "execution_count": 307,
     "metadata": {},
     "output_type": "execute_result"
    }
   ],
   "source": [
    "# 0 represents Nucleus. From this, we see that GG appears the most in Nuclues. \n",
    "X_test.loc[(X_test[\"Cell_Cat\"] == 0)].max().sort_values(ascending=False)"
   ]
  },
  {
   "cell_type": "code",
   "execution_count": 310,
   "id": "974ee485-4d5a-4794-a76d-9564e27c0628",
   "metadata": {},
   "outputs": [
    {
     "data": {
      "text/plain": [
       "Clusters    9.000000\n",
       "Cell_Cat    1.000000\n",
       "PP          0.878750\n",
       "NN          0.870279\n",
       "QQ          0.844589\n",
       "              ...   \n",
       "CH          0.065093\n",
       "WY          0.064921\n",
       "WH          0.061345\n",
       "MW          0.057166\n",
       "MH          0.055706\n",
       "Length: 402, dtype: float64"
      ]
     },
     "execution_count": 310,
     "metadata": {},
     "output_type": "execute_result"
    }
   ],
   "source": [
    "X_test.loc[(X_test[\"Cell_Cat\"] == 1)].max().sort_values(ascending=False)"
   ]
  },
  {
   "cell_type": "code",
   "execution_count": 319,
   "id": "c789475b-0851-4544-a204-a89bd4973361",
   "metadata": {},
   "outputs": [],
   "source": [
    "#1 represents Cytoplasm. From this, we can see that PP appears the most in Cytoplasm"
   ]
  },
  {
   "cell_type": "code",
   "execution_count": 318,
   "id": "efdf3529-099d-4509-b97b-92bda697ddad",
   "metadata": {},
   "outputs": [
    {
     "data": {
      "text/plain": [
       "Clusters    9.000000\n",
       "Cell_Cat    2.000000\n",
       "AA          0.940364\n",
       "PP          0.921719\n",
       "GG          0.830764\n",
       "              ...   \n",
       "VW          0.108464\n",
       "WM          0.104828\n",
       "WE          0.094492\n",
       "WW          0.093659\n",
       "HW          0.090330\n",
       "Length: 402, dtype: float64"
      ]
     },
     "execution_count": 318,
     "metadata": {},
     "output_type": "execute_result"
    }
   ],
   "source": [
    "X_test.loc[(X_test[\"Cell_Cat\"] == 2)].max().sort_values(ascending=False)"
   ]
  },
  {
   "cell_type": "code",
   "execution_count": null,
   "id": "90ea8a49-43fa-46b1-818c-f39b50d0b70e",
   "metadata": {},
   "outputs": [],
   "source": [
    "# 2 represents Extracellular. From this, we can see that AA appears the most in Extracellular."
   ]
  },
  {
   "cell_type": "code",
   "execution_count": 320,
   "id": "0ddef624-37dd-4350-98d1-2fe8471197a3",
   "metadata": {},
   "outputs": [
    {
     "data": {
      "text/plain": [
       "Clusters    9.000000\n",
       "Cell_Cat    3.000000\n",
       "GG          0.875967\n",
       "AA          0.691597\n",
       "EE          0.534524\n",
       "              ...   \n",
       "CH          0.067156\n",
       "HW          0.065900\n",
       "WW          0.065900\n",
       "MW          0.064687\n",
       "IW          0.063888\n",
       "Length: 402, dtype: float64"
      ]
     },
     "execution_count": 320,
     "metadata": {},
     "output_type": "execute_result"
    }
   ],
   "source": [
    "X_test.loc[(X_test[\"Cell_Cat\"] == 3)].max().sort_values(ascending=False)"
   ]
  },
  {
   "cell_type": "code",
   "execution_count": 321,
   "id": "58e5f054-e311-4cc6-8fe9-c504a948b949",
   "metadata": {},
   "outputs": [],
   "source": [
    "# 3 represents Mitochondrion. From this, we can see that GG appears the most in Mitochondrion."
   ]
  },
  {
   "cell_type": "code",
   "execution_count": 323,
   "id": "f65dffa1-9f7e-4e82-93b4-913f0fe624be",
   "metadata": {},
   "outputs": [
    {
     "data": {
      "text/plain": [
       "Clusters    9.000000\n",
       "Cell_Cat    4.000000\n",
       "SS          0.819072\n",
       "GG          0.816043\n",
       "PG          0.627604\n",
       "              ...   \n",
       "YM          0.061665\n",
       "WH          0.061311\n",
       "MM          0.058546\n",
       "WQ          0.055661\n",
       "WM          0.054351\n",
       "Length: 402, dtype: float64"
      ]
     },
     "execution_count": 323,
     "metadata": {},
     "output_type": "execute_result"
    }
   ],
   "source": [
    "X_test.loc[(X_test[\"Cell_Cat\"] == 4)].max().sort_values(ascending=False)"
   ]
  },
  {
   "cell_type": "code",
   "execution_count": null,
   "id": "834b2dac-eea3-41ce-ac4e-16b06d754110",
   "metadata": {},
   "outputs": [],
   "source": [
    "# 4 represents Cell Membrane. From this, we can see that SS appears the most in Cell Membrane."
   ]
  },
  {
   "cell_type": "code",
   "execution_count": 324,
   "id": "b2598a20-7327-4364-8c4e-dbaea0217584",
   "metadata": {},
   "outputs": [
    {
     "data": {
      "text/plain": [
       "Clusters    9.000000\n",
       "Cell_Cat    5.000000\n",
       "TT          0.764310\n",
       "SS          0.560454\n",
       "QQ          0.542652\n",
       "              ...   \n",
       "CW          0.053074\n",
       "WC          0.053071\n",
       "MC          0.053071\n",
       "MH          0.052486\n",
       "WH          0.046524\n",
       "Length: 402, dtype: float64"
      ]
     },
     "execution_count": 324,
     "metadata": {},
     "output_type": "execute_result"
    }
   ],
   "source": [
    "X_test.loc[(X_test[\"Cell_Cat\"] == 5)].max().sort_values(ascending=False)"
   ]
  },
  {
   "cell_type": "code",
   "execution_count": null,
   "id": "52f411aa-b053-4258-9ebd-9c647d4e507f",
   "metadata": {},
   "outputs": [],
   "source": [
    "# 5 represents Endoplasmic Reticulum. From this, we can see that TT appears the most in Endoplasmic Reticulum."
   ]
  },
  {
   "cell_type": "code",
   "execution_count": 325,
   "id": "801cbdf3-8f62-4c12-983d-c75b9bfbc93c",
   "metadata": {},
   "outputs": [
    {
     "data": {
      "text/plain": [
       "Clusters    9.000000\n",
       "Cell_Cat    6.000000\n",
       "SS          0.570605\n",
       "AA          0.503943\n",
       "AG          0.400168\n",
       "              ...   \n",
       "CH          0.052276\n",
       "YM          0.051776\n",
       "WQ          0.051300\n",
       "HW          0.047137\n",
       "CW          0.034239\n",
       "Length: 402, dtype: float64"
      ]
     },
     "execution_count": 325,
     "metadata": {},
     "output_type": "execute_result"
    }
   ],
   "source": [
    "X_test.loc[(X_test[\"Cell_Cat\"] == 6)].max().sort_values(ascending=False)"
   ]
  },
  {
   "cell_type": "code",
   "execution_count": null,
   "id": "8f8a9acf-720e-4b3d-9019-909f9276f07d",
   "metadata": {},
   "outputs": [],
   "source": [
    "# 6 represents Plastid. From this, we can see that SS appears the most in Plastid."
   ]
  },
  {
   "cell_type": "code",
   "execution_count": 326,
   "id": "b777c5db-bce3-4332-a8d3-477b136fb53f",
   "metadata": {},
   "outputs": [
    {
     "data": {
      "text/plain": [
       "Clusters    9.000000\n",
       "Cell_Cat    7.000000\n",
       "SS          0.388596\n",
       "DD          0.371804\n",
       "LP          0.354737\n",
       "              ...   \n",
       "WH          0.044233\n",
       "CM          0.042972\n",
       "NW          0.042521\n",
       "MH          0.041062\n",
       "YW          0.033942\n",
       "Length: 402, dtype: float64"
      ]
     },
     "execution_count": 326,
     "metadata": {},
     "output_type": "execute_result"
    }
   ],
   "source": [
    "X_test.loc[(X_test[\"Cell_Cat\"] == 7)].max().sort_values(ascending=False)"
   ]
  },
  {
   "cell_type": "code",
   "execution_count": null,
   "id": "c490bdaa-fa1e-4025-8f6d-79e760305142",
   "metadata": {},
   "outputs": [],
   "source": [
    "# 7 represents Golgi Apparatus. From this, we can see that SS appears the most in Golgi Apparatus."
   ]
  },
  {
   "cell_type": "code",
   "execution_count": 327,
   "id": "8f3e102c-eec5-4ca2-8dbe-fb9aa9d4ac30",
   "metadata": {},
   "outputs": [
    {
     "data": {
      "text/plain": [
       "Clusters    9.000000\n",
       "Cell_Cat    8.000000\n",
       "SS          0.716120\n",
       "PP          0.404820\n",
       "LL          0.402600\n",
       "              ...   \n",
       "HW          0.038122\n",
       "WM          0.036322\n",
       "CK          0.036179\n",
       "WC          0.036179\n",
       "MC          0.023280\n",
       "Length: 402, dtype: float64"
      ]
     },
     "execution_count": 327,
     "metadata": {},
     "output_type": "execute_result"
    }
   ],
   "source": [
    "X_test.loc[(X_test[\"Cell_Cat\"] == 8)].max().sort_values(ascending=False)"
   ]
  },
  {
   "cell_type": "code",
   "execution_count": null,
   "id": "23f16e56-7d1d-4147-bacc-16c613fbda95",
   "metadata": {},
   "outputs": [],
   "source": [
    "# 8 represents the Lysosome/Vacuole. From this, we can see that SS appears the most in Golgi Apparatus."
   ]
  },
  {
   "cell_type": "code",
   "execution_count": 328,
   "id": "883b8025-8630-48ed-bbde-abb87d49dcab",
   "metadata": {},
   "outputs": [
    {
     "data": {
      "text/plain": [
       "Clusters    9.000000\n",
       "Cell_Cat    9.000000\n",
       "LL          0.346513\n",
       "RL          0.323969\n",
       "SS          0.281134\n",
       "              ...   \n",
       "HC          0.037987\n",
       "HH          0.037987\n",
       "WR          0.032195\n",
       "YW          0.029429\n",
       "PC          0.022400\n",
       "Length: 402, dtype: float64"
      ]
     },
     "execution_count": 328,
     "metadata": {},
     "output_type": "execute_result"
    }
   ],
   "source": [
    "X_test.loc[(X_test[\"Cell_Cat\"] == 9)].max().sort_values(ascending=False)"
   ]
  },
  {
   "cell_type": "code",
   "execution_count": null,
   "id": "315fe973-66bc-488d-84dd-44dbd35d2ad3",
   "metadata": {},
   "outputs": [],
   "source": [
    "# 9 represents the Peroxisome. From this, we can see that LL appears the most in Golgi Apparatus."
   ]
  },
  {
   "cell_type": "code",
   "execution_count": null,
   "id": "6fbfd98a-534b-4eb9-9bf7-a3d2f49019e4",
   "metadata": {},
   "outputs": [],
   "source": []
  },
  {
   "cell_type": "code",
   "execution_count": null,
   "id": "68b105d4-134a-4c66-bcff-fbbe6e6bef2c",
   "metadata": {},
   "outputs": [],
   "source": [
    "# categorical_var = {\n",
    "#     \"Plastid\" : 6,\n",
    "#     \"Lysosome/Vacuole\" : 8,\n",
    "# }"
   ]
  },
  {
   "cell_type": "code",
   "execution_count": 392,
   "id": "8213b448-80dc-467b-8c8b-8963829eb5aa",
   "metadata": {},
   "outputs": [
    {
     "data": {
      "text/plain": [
       "0.18677184190940704"
      ]
     },
     "execution_count": 392,
     "metadata": {},
     "output_type": "execute_result"
    }
   ],
   "source": [
    "X_test.loc[(X_test[\"Cell_Cat\"] == 6)].max().sort_values(ascending=False)[\"TC\"]"
   ]
  },
  {
   "cell_type": "code",
   "execution_count": 387,
   "id": "a96440ff-35c0-4718-83f6-e3a80c47be50",
   "metadata": {},
   "outputs": [
    {
     "data": {
      "text/plain": [
       "Cell_Cat    8.000000\n",
       "Clusters    3.000000\n",
       "EE          0.699123\n",
       "KK          0.599516\n",
       "QQ          0.478268\n",
       "              ...   \n",
       "WI          0.059786\n",
       "WH          0.057896\n",
       "CF          0.057896\n",
       "CW          0.041194\n",
       "MW          0.037765\n",
       "Length: 402, dtype: float64"
      ]
     },
     "execution_count": 387,
     "metadata": {},
     "output_type": "execute_result"
    }
   ],
   "source": [
    "test_df.loc[(test_df[\"Clusters\"] == 3)].max().sort_values(ascending=False)"
   ]
  },
  {
   "cell_type": "code",
   "execution_count": null,
   "id": "a4a03703-8ef6-432e-bf90-a1882f244dea",
   "metadata": {},
   "outputs": [],
   "source": []
  },
  {
   "cell_type": "code",
   "execution_count": 330,
   "id": "0c1729fa-7349-4649-bb59-cc72f2abff33",
   "metadata": {},
   "outputs": [],
   "source": [
    "#cluster 0: GG appears the most in this cluster --> GG appears the most in Mitochondrion. "
   ]
  },
  {
   "cell_type": "code",
   "execution_count": 331,
   "id": "ec33015b-d1f6-4967-a165-c6c932fb61d7",
   "metadata": {},
   "outputs": [],
   "source": [
    "#cluster 1: LL --> Golgi Apparatus"
   ]
  },
  {
   "cell_type": "code",
   "execution_count": null,
   "id": "8a0b828b-5690-44b0-9193-f4e6263af408",
   "metadata": {},
   "outputs": [],
   "source": [
    "#cluster 2: NN --> highest at Nuclues at .87"
   ]
  },
  {
   "cell_type": "code",
   "execution_count": 338,
   "id": "0671d3e2-fd68-4cd3-8721-58a6a38e6595",
   "metadata": {},
   "outputs": [],
   "source": [
    "#cluster 3: EE --> highest at Lysosome/Vacuole .2588739951204161"
   ]
  },
  {
   "cell_type": "code",
   "execution_count": 339,
   "id": "3c0adcf3-8fbc-4158-995d-23425d319a3b",
   "metadata": {},
   "outputs": [],
   "source": [
    "#cluster 4: PP --> Cytoplasm"
   ]
  },
  {
   "cell_type": "code",
   "execution_count": 334,
   "id": "295e9390-62a5-465d-9134-a02b711f6b01",
   "metadata": {},
   "outputs": [],
   "source": [
    "#cluster 5: TC --> highest at Plastid .18677184190940704"
   ]
  },
  {
   "cell_type": "code",
   "execution_count": 335,
   "id": "24d09135-be03-40cb-9224-855175c8ae69",
   "metadata": {},
   "outputs": [],
   "source": [
    "#cluster 6: LL --> Peroxisome"
   ]
  },
  {
   "cell_type": "code",
   "execution_count": 336,
   "id": "121ef0e3-6211-4d38-b82e-e9f1bc07e3a9",
   "metadata": {},
   "outputs": [],
   "source": [
    "#cluster 7: AA --> Extracellular"
   ]
  },
  {
   "cell_type": "code",
   "execution_count": 337,
   "id": "04256eb2-8dc3-4d7d-904c-47d7291436b5",
   "metadata": {},
   "outputs": [],
   "source": [
    "#cluster 8: QQ --> Cell Membrane highest at .562046406235408"
   ]
  },
  {
   "cell_type": "code",
   "execution_count": null,
   "id": "66ef537e-5d00-4fd5-9766-7b026c56c93a",
   "metadata": {},
   "outputs": [],
   "source": [
    "#cluster 9: TT --> Endoplasmic Reticulum"
   ]
  },
  {
   "cell_type": "code",
   "execution_count": null,
   "id": "aedee962-9a45-4552-afdf-4a82fae1ef0a",
   "metadata": {},
   "outputs": [],
   "source": [
    "#refer to what we assigned earlier: \n",
    "\n",
    "# categorical_var = {\n",
    "#     \"Nucleus\" : 0, \n",
    "#     \"Cytoplasm\" : 1, \n",
    "#     \"Extracellular\" : 2,\n",
    "#     \"Mitochondrion\" : 3,\n",
    "#     \"Cell Membrane\" : 4,\n",
    "#     \"Endoplasmic Reticulum\" : 5,\n",
    "#     \"Plastid\" : 6,\n",
    "#     \"Golgi Apparatus\" : 7,\n",
    "#     \"Lysosome/Vacuole\" : 8,\n",
    "#     \"Peroxisome\" : 9   \n",
    "# }"
   ]
  },
  {
   "cell_type": "code",
   "execution_count": 342,
   "id": "8a9bf8c4-ece6-4b43-ae15-ec7430c6a194",
   "metadata": {},
   "outputs": [],
   "source": [
    "#map this out and append column to X_test, then create cm"
   ]
  },
  {
   "cell_type": "code",
   "execution_count": 394,
   "id": "44a32a76-368b-4dda-acc7-7c33ec16b0ed",
   "metadata": {},
   "outputs": [
    {
     "data": {
      "text/html": [
       "<div>\n",
       "<style scoped>\n",
       "    .dataframe tbody tr th:only-of-type {\n",
       "        vertical-align: middle;\n",
       "    }\n",
       "\n",
       "    .dataframe tbody tr th {\n",
       "        vertical-align: top;\n",
       "    }\n",
       "\n",
       "    .dataframe thead th {\n",
       "        text-align: right;\n",
       "    }\n",
       "</style>\n",
       "<table border=\"1\" class=\"dataframe\">\n",
       "  <thead>\n",
       "    <tr style=\"text-align: right;\">\n",
       "      <th></th>\n",
       "      <th>AA</th>\n",
       "      <th>AC</th>\n",
       "      <th>AD</th>\n",
       "      <th>AE</th>\n",
       "      <th>AF</th>\n",
       "      <th>AG</th>\n",
       "      <th>AH</th>\n",
       "      <th>AI</th>\n",
       "      <th>AK</th>\n",
       "      <th>AL</th>\n",
       "      <th>...</th>\n",
       "      <th>YP</th>\n",
       "      <th>YQ</th>\n",
       "      <th>YR</th>\n",
       "      <th>YS</th>\n",
       "      <th>YT</th>\n",
       "      <th>YV</th>\n",
       "      <th>YW</th>\n",
       "      <th>YY</th>\n",
       "      <th>Cell_Cat</th>\n",
       "      <th>Clusters</th>\n",
       "    </tr>\n",
       "  </thead>\n",
       "  <tbody>\n",
       "    <tr>\n",
       "      <th>8946</th>\n",
       "      <td>0.114847</td>\n",
       "      <td>0.028709</td>\n",
       "      <td>0.028709</td>\n",
       "      <td>0.028709</td>\n",
       "      <td>0.114847</td>\n",
       "      <td>0.086138</td>\n",
       "      <td>0.0</td>\n",
       "      <td>0.028709</td>\n",
       "      <td>0.0</td>\n",
       "      <td>0.028709</td>\n",
       "      <td>...</td>\n",
       "      <td>0.028709</td>\n",
       "      <td>0.0</td>\n",
       "      <td>0.028709</td>\n",
       "      <td>0.028709</td>\n",
       "      <td>0.0</td>\n",
       "      <td>0.028709</td>\n",
       "      <td>0.0</td>\n",
       "      <td>0.0</td>\n",
       "      <td>0</td>\n",
       "      <td>7</td>\n",
       "    </tr>\n",
       "  </tbody>\n",
       "</table>\n",
       "<p>1 rows × 402 columns</p>\n",
       "</div>"
      ],
      "text/plain": [
       "            AA        AC        AD        AE        AF        AG   AH  \\\n",
       "8946  0.114847  0.028709  0.028709  0.028709  0.114847  0.086138  0.0   \n",
       "\n",
       "            AI   AK        AL  ...        YP   YQ        YR        YS   YT  \\\n",
       "8946  0.028709  0.0  0.028709  ...  0.028709  0.0  0.028709  0.028709  0.0   \n",
       "\n",
       "            YV   YW   YY  Cell_Cat  Clusters  \n",
       "8946  0.028709  0.0  0.0         0         7  \n",
       "\n",
       "[1 rows x 402 columns]"
      ]
     },
     "execution_count": 394,
     "metadata": {},
     "output_type": "execute_result"
    }
   ],
   "source": [
    "X_test.head(1)"
   ]
  },
  {
   "cell_type": "code",
   "execution_count": 397,
   "id": "78a2e779-ec76-443a-be9f-2924863eb3a1",
   "metadata": {},
   "outputs": [],
   "source": [
    "X_test.loc[(X_test[\"Clusters\"]==0), \"Cell_Location\"] = 3"
   ]
  },
  {
   "cell_type": "code",
   "execution_count": 398,
   "id": "32bf5553-8704-43f5-bd6c-9cefce11b136",
   "metadata": {},
   "outputs": [],
   "source": [
    "X_test.loc[(X_test[\"Clusters\"]==1), \"Cell_Location\"] = 7"
   ]
  },
  {
   "cell_type": "code",
   "execution_count": 399,
   "id": "5f4e8a12-03be-41c7-b925-ed766a58ad0d",
   "metadata": {},
   "outputs": [],
   "source": [
    "X_test.loc[(X_test[\"Clusters\"]==2), \"Cell_Location\"] = 0"
   ]
  },
  {
   "cell_type": "code",
   "execution_count": 400,
   "id": "6f34b0aa-977c-4f42-a200-bdd6b3bf0b5b",
   "metadata": {},
   "outputs": [],
   "source": [
    "X_test.loc[(X_test[\"Clusters\"]==3), \"Cell_Location\"] = 8"
   ]
  },
  {
   "cell_type": "code",
   "execution_count": 401,
   "id": "53aed322-a928-4659-ae11-21b3610f3336",
   "metadata": {},
   "outputs": [],
   "source": [
    "X_test.loc[(X_test[\"Clusters\"]==4), \"Cell_Location\"] = 1"
   ]
  },
  {
   "cell_type": "code",
   "execution_count": 402,
   "id": "cb41ddda-1c6c-4f5b-91de-499a1867c1a0",
   "metadata": {},
   "outputs": [],
   "source": [
    "X_test.loc[(X_test[\"Clusters\"]==5), \"Cell_Location\"] = 6"
   ]
  },
  {
   "cell_type": "code",
   "execution_count": 403,
   "id": "d6faaa2e-b102-4deb-b17e-1f73f0d1f292",
   "metadata": {},
   "outputs": [],
   "source": [
    "X_test.loc[(X_test[\"Clusters\"]==6), \"Cell_Location\"] = 9"
   ]
  },
  {
   "cell_type": "code",
   "execution_count": 404,
   "id": "0472704c-cab9-4c4f-a640-9b28cecc2f80",
   "metadata": {},
   "outputs": [],
   "source": [
    "X_test.loc[(X_test[\"Clusters\"]==7), \"Cell_Location\"] = 2"
   ]
  },
  {
   "cell_type": "code",
   "execution_count": 405,
   "id": "6d387549-9d28-4b95-9dba-ef5ea414d7aa",
   "metadata": {},
   "outputs": [],
   "source": [
    "X_test.loc[(X_test[\"Clusters\"]==8), \"Cell_Location\"] = 4"
   ]
  },
  {
   "cell_type": "code",
   "execution_count": 406,
   "id": "34e9a9aa-8041-4f4a-ac68-c6b3963044ee",
   "metadata": {},
   "outputs": [],
   "source": [
    "X_test.loc[(X_test[\"Clusters\"]==9), \"Cell_Location\"] = 5"
   ]
  },
  {
   "cell_type": "code",
   "execution_count": 407,
   "id": "ce4a41cc-857a-4ac5-af16-08b958cde975",
   "metadata": {},
   "outputs": [
    {
     "data": {
      "text/plain": [
       "array([[119,  83,  25,  20, 189,  76,   0,   3, 183, 129],\n",
       "       [ 93,  44,  43,   8,  63,  66,   0,   2,  74, 139],\n",
       "       [  7,  27,  94, 101,  11,  41,  37,  14,  18,  44],\n",
       "       [ 51,  17,  63,   5,   9,  58,   0,   9,  16,  60],\n",
       "       [ 36,  35,  12,   3,  21,   5,   0,  98,   4,  68],\n",
       "       [ 28,   6,   2,   0,   4,  11,   0,  72,   5,  34],\n",
       "       [  8,   9,  36,   3,  22,   5,   0,  12,   3,  52],\n",
       "       [ 12,   2,   4,   0,   8,   2,   0,  17,   4,  20],\n",
       "       [  8,   1,  10,   0,   3,   2,   0,  25,   1,  12],\n",
       "       [  5,   2,  10,   0,   0,   1,   0,   5,   0,  12]])"
      ]
     },
     "execution_count": 407,
     "metadata": {},
     "output_type": "execute_result"
    }
   ],
   "source": [
    "from sklearn.metrics import confusion_matrix\n",
    "cm = confusion_matrix(X_test[\"Cell_Cat\"], X_test[\"Cell_Location\"])\n",
    "cm"
   ]
  },
  {
   "cell_type": "markdown",
   "id": "3fbe0944-41f7-4911-8041-344378af007f",
   "metadata": {},
   "source": [
    "We can see from the above confusion matrix, that our kmeans model struggled to accurately classify the subcellular loci based on the amount of times a dipeptide pair appeared in the clusters (max). With that being said, we can see that there are a high number of missclassifications. "
   ]
  }
 ],
 "metadata": {
  "kernelspec": {
   "display_name": "Python 3 (ipykernel)",
   "language": "python",
   "name": "python3"
  },
  "language_info": {
   "codemirror_mode": {
    "name": "ipython",
    "version": 3
   },
   "file_extension": ".py",
   "mimetype": "text/x-python",
   "name": "python",
   "nbconvert_exporter": "python",
   "pygments_lexer": "ipython3",
   "version": "3.9.16"
  }
 },
 "nbformat": 4,
 "nbformat_minor": 5
}
